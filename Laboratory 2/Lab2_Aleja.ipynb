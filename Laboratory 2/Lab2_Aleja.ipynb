{
 "cells": [
  {
   "cell_type": "code",
   "execution_count": 1,
   "metadata": {},
   "outputs": [],
   "source": [
    "import matplotlib as mt\n",
    "import pandas as pd \n",
    "import numpy as np\n"
   ]
  },
  {
   "cell_type": "code",
   "execution_count": 2,
   "metadata": {},
   "outputs": [],
   "source": [
    "%matplotlib inline"
   ]
  },
  {
   "cell_type": "code",
   "execution_count": 3,
   "metadata": {},
   "outputs": [],
   "source": [
    "GLT=pd.read_csv('https://raw.githubusercontent.com/dbdmg/data-science-lab/master/datasets/GLT_filtered.csv')"
   ]
  },
  {
   "cell_type": "code",
   "execution_count": 4,
   "metadata": {},
   "outputs": [
    {
     "data": {
      "text/html": [
       "<div>\n",
       "<style scoped>\n",
       "    .dataframe tbody tr th:only-of-type {\n",
       "        vertical-align: middle;\n",
       "    }\n",
       "\n",
       "    .dataframe tbody tr th {\n",
       "        vertical-align: top;\n",
       "    }\n",
       "\n",
       "    .dataframe thead th {\n",
       "        text-align: right;\n",
       "    }\n",
       "</style>\n",
       "<table border=\"1\" class=\"dataframe\">\n",
       "  <thead>\n",
       "    <tr style=\"text-align: right;\">\n",
       "      <th></th>\n",
       "      <th>Date</th>\n",
       "      <th>AverageTemperature</th>\n",
       "      <th>AverageTemperatureUncertainty</th>\n",
       "      <th>City</th>\n",
       "      <th>Country</th>\n",
       "      <th>Latitude</th>\n",
       "      <th>Longitude</th>\n",
       "    </tr>\n",
       "  </thead>\n",
       "  <tbody>\n",
       "    <tr>\n",
       "      <th>0</th>\n",
       "      <td>1849-01-01</td>\n",
       "      <td>26.704</td>\n",
       "      <td>1.435</td>\n",
       "      <td>Abidjan</td>\n",
       "      <td>Côte D'Ivoire</td>\n",
       "      <td>5.63N</td>\n",
       "      <td>3.23W</td>\n",
       "    </tr>\n",
       "    <tr>\n",
       "      <th>1</th>\n",
       "      <td>1849-02-01</td>\n",
       "      <td>27.434</td>\n",
       "      <td>1.362</td>\n",
       "      <td>Abidjan</td>\n",
       "      <td>Côte D'Ivoire</td>\n",
       "      <td>5.63N</td>\n",
       "      <td>3.23W</td>\n",
       "    </tr>\n",
       "    <tr>\n",
       "      <th>2</th>\n",
       "      <td>1849-03-01</td>\n",
       "      <td>NaN</td>\n",
       "      <td>NaN</td>\n",
       "      <td>Abidjan</td>\n",
       "      <td>Côte D'Ivoire</td>\n",
       "      <td>5.63N</td>\n",
       "      <td>3.23W</td>\n",
       "    </tr>\n",
       "    <tr>\n",
       "      <th>3</th>\n",
       "      <td>1849-04-01</td>\n",
       "      <td>26.140</td>\n",
       "      <td>1.387</td>\n",
       "      <td>Abidjan</td>\n",
       "      <td>Côte D'Ivoire</td>\n",
       "      <td>5.63N</td>\n",
       "      <td>3.23W</td>\n",
       "    </tr>\n",
       "    <tr>\n",
       "      <th>4</th>\n",
       "      <td>1849-05-01</td>\n",
       "      <td>25.427</td>\n",
       "      <td>1.200</td>\n",
       "      <td>Abidjan</td>\n",
       "      <td>Côte D'Ivoire</td>\n",
       "      <td>5.63N</td>\n",
       "      <td>3.23W</td>\n",
       "    </tr>\n",
       "    <tr>\n",
       "      <th>5</th>\n",
       "      <td>1849-06-01</td>\n",
       "      <td>24.844</td>\n",
       "      <td>1.402</td>\n",
       "      <td>Abidjan</td>\n",
       "      <td>Côte D'Ivoire</td>\n",
       "      <td>5.63N</td>\n",
       "      <td>3.23W</td>\n",
       "    </tr>\n",
       "    <tr>\n",
       "      <th>6</th>\n",
       "      <td>1849-07-01</td>\n",
       "      <td>24.058</td>\n",
       "      <td>1.254</td>\n",
       "      <td>Abidjan</td>\n",
       "      <td>Côte D'Ivoire</td>\n",
       "      <td>5.63N</td>\n",
       "      <td>3.23W</td>\n",
       "    </tr>\n",
       "    <tr>\n",
       "      <th>7</th>\n",
       "      <td>1849-08-01</td>\n",
       "      <td>23.576</td>\n",
       "      <td>1.265</td>\n",
       "      <td>Abidjan</td>\n",
       "      <td>Côte D'Ivoire</td>\n",
       "      <td>5.63N</td>\n",
       "      <td>3.23W</td>\n",
       "    </tr>\n",
       "    <tr>\n",
       "      <th>8</th>\n",
       "      <td>1849-09-01</td>\n",
       "      <td>NaN</td>\n",
       "      <td>NaN</td>\n",
       "      <td>Abidjan</td>\n",
       "      <td>Côte D'Ivoire</td>\n",
       "      <td>5.63N</td>\n",
       "      <td>3.23W</td>\n",
       "    </tr>\n",
       "    <tr>\n",
       "      <th>9</th>\n",
       "      <td>1849-10-01</td>\n",
       "      <td>25.263</td>\n",
       "      <td>1.175</td>\n",
       "      <td>Abidjan</td>\n",
       "      <td>Côte D'Ivoire</td>\n",
       "      <td>5.63N</td>\n",
       "      <td>3.23W</td>\n",
       "    </tr>\n",
       "  </tbody>\n",
       "</table>\n",
       "</div>"
      ],
      "text/plain": [
       "         Date  AverageTemperature  AverageTemperatureUncertainty     City  \\\n",
       "0  1849-01-01              26.704                          1.435  Abidjan   \n",
       "1  1849-02-01              27.434                          1.362  Abidjan   \n",
       "2  1849-03-01                 NaN                            NaN  Abidjan   \n",
       "3  1849-04-01              26.140                          1.387  Abidjan   \n",
       "4  1849-05-01              25.427                          1.200  Abidjan   \n",
       "5  1849-06-01              24.844                          1.402  Abidjan   \n",
       "6  1849-07-01              24.058                          1.254  Abidjan   \n",
       "7  1849-08-01              23.576                          1.265  Abidjan   \n",
       "8  1849-09-01                 NaN                            NaN  Abidjan   \n",
       "9  1849-10-01              25.263                          1.175  Abidjan   \n",
       "\n",
       "         Country Latitude Longitude  \n",
       "0  Côte D'Ivoire    5.63N     3.23W  \n",
       "1  Côte D'Ivoire    5.63N     3.23W  \n",
       "2  Côte D'Ivoire    5.63N     3.23W  \n",
       "3  Côte D'Ivoire    5.63N     3.23W  \n",
       "4  Côte D'Ivoire    5.63N     3.23W  \n",
       "5  Côte D'Ivoire    5.63N     3.23W  \n",
       "6  Côte D'Ivoire    5.63N     3.23W  \n",
       "7  Côte D'Ivoire    5.63N     3.23W  \n",
       "8  Côte D'Ivoire    5.63N     3.23W  \n",
       "9  Côte D'Ivoire    5.63N     3.23W  "
      ]
     },
     "execution_count": 4,
     "metadata": {},
     "output_type": "execute_result"
    }
   ],
   "source": [
    "GLT.head(10)"
   ]
  },
  {
   "cell_type": "code",
   "execution_count": 5,
   "metadata": {},
   "outputs": [
    {
     "data": {
      "text/plain": [
       "Index(['Date', 'AverageTemperature', 'AverageTemperatureUncertainty', 'City',\n",
       "       'Country', 'Latitude', 'Longitude'],\n",
       "      dtype='object')"
      ]
     },
     "execution_count": 5,
     "metadata": {},
     "output_type": "execute_result"
    }
   ],
   "source": [
    "GLT.columns"
   ]
  },
  {
   "cell_type": "code",
   "execution_count": 6,
   "metadata": {},
   "outputs": [
    {
     "data": {
      "text/plain": [
       "Date                              object\n",
       "AverageTemperature               float64\n",
       "AverageTemperatureUncertainty    float64\n",
       "City                              object\n",
       "Country                           object\n",
       "Latitude                          object\n",
       "Longitude                         object\n",
       "dtype: object"
      ]
     },
     "execution_count": 6,
     "metadata": {},
     "output_type": "execute_result"
    }
   ],
   "source": [
    "GLT.dtypes"
   ]
  },
  {
   "cell_type": "markdown",
   "metadata": {},
   "source": [
    "#First question: Load the Global Land Temperature dataset as a list of lists. Before starting, take a moment to better inspect the attributes you are going to work on. How many of them are nominal, how many\n",
    "continuous or discrete?\n"
   ]
  },
  {
   "cell_type": "markdown",
   "metadata": {},
   "source": [
    "Answer:\n",
    "The City and Country are nominal data because they are labels.\n",
    "\n",
    "The AverageTemperature\tand AverageTemperatureUncertainty are continuos data.\n",
    "\n",
    "The Date is a countinue data because has a cronological timestep.\n",
    "\n",
    "The Latitude and Longitude are continuos data."
   ]
  },
  {
   "cell_type": "markdown",
   "metadata": {},
   "source": [
    "##Second point\n",
    "\n",
    "Analyze the attribute AverageTemperature, which contains missing values. Fill any gap with the\n",
    "arithmetic mean among the closest antecedent and the closest successive measurements in time,\n",
    "taken in the same city"
   ]
  },
  {
   "cell_type": "code",
   "execution_count": 7,
   "metadata": {},
   "outputs": [
    {
     "data": {
      "text/plain": [
       "Date                              2352\n",
       "AverageTemperature               49920\n",
       "AverageTemperatureUncertainty     5287\n",
       "City                               100\n",
       "Country                             49\n",
       "Latitude                            49\n",
       "Longitude                           93\n",
       "dtype: int64"
      ]
     },
     "execution_count": 7,
     "metadata": {},
     "output_type": "execute_result"
    }
   ],
   "source": [
    "GLT.nunique()"
   ]
  },
  {
   "cell_type": "code",
   "execution_count": 8,
   "metadata": {},
   "outputs": [
    {
     "data": {
      "text/plain": [
       "Date                                 0\n",
       "AverageTemperature               27581\n",
       "AverageTemperatureUncertainty    27581\n",
       "City                                 0\n",
       "Country                              0\n",
       "Latitude                             0\n",
       "Longitude                            0\n",
       "dtype: int64"
      ]
     },
     "execution_count": 8,
     "metadata": {},
     "output_type": "execute_result"
    }
   ],
   "source": [
    "GLT.isna().sum()"
   ]
  },
  {
   "cell_type": "code",
   "execution_count": 9,
   "metadata": {},
   "outputs": [
    {
     "data": {
      "text/html": [
       "<div>\n",
       "<style scoped>\n",
       "    .dataframe tbody tr th:only-of-type {\n",
       "        vertical-align: middle;\n",
       "    }\n",
       "\n",
       "    .dataframe tbody tr th {\n",
       "        vertical-align: top;\n",
       "    }\n",
       "\n",
       "    .dataframe thead th {\n",
       "        text-align: right;\n",
       "    }\n",
       "</style>\n",
       "<table border=\"1\" class=\"dataframe\">\n",
       "  <thead>\n",
       "    <tr style=\"text-align: right;\">\n",
       "      <th></th>\n",
       "      <th>Date</th>\n",
       "      <th>AverageTemperature</th>\n",
       "      <th>AverageTemperatureUncertainty</th>\n",
       "      <th>City</th>\n",
       "      <th>Country</th>\n",
       "      <th>Latitude</th>\n",
       "      <th>Longitude</th>\n",
       "    </tr>\n",
       "  </thead>\n",
       "  <tbody>\n",
       "    <tr>\n",
       "      <th>2</th>\n",
       "      <td>1849-03-01</td>\n",
       "      <td>NaN</td>\n",
       "      <td>NaN</td>\n",
       "      <td>Abidjan</td>\n",
       "      <td>Côte D'Ivoire</td>\n",
       "      <td>5.63N</td>\n",
       "      <td>3.23W</td>\n",
       "    </tr>\n",
       "    <tr>\n",
       "      <th>8</th>\n",
       "      <td>1849-09-01</td>\n",
       "      <td>NaN</td>\n",
       "      <td>NaN</td>\n",
       "      <td>Abidjan</td>\n",
       "      <td>Côte D'Ivoire</td>\n",
       "      <td>5.63N</td>\n",
       "      <td>3.23W</td>\n",
       "    </tr>\n",
       "    <tr>\n",
       "      <th>23</th>\n",
       "      <td>1850-12-01</td>\n",
       "      <td>NaN</td>\n",
       "      <td>NaN</td>\n",
       "      <td>Abidjan</td>\n",
       "      <td>Côte D'Ivoire</td>\n",
       "      <td>5.63N</td>\n",
       "      <td>3.23W</td>\n",
       "    </tr>\n",
       "    <tr>\n",
       "      <th>24</th>\n",
       "      <td>1851-01-01</td>\n",
       "      <td>NaN</td>\n",
       "      <td>NaN</td>\n",
       "      <td>Abidjan</td>\n",
       "      <td>Côte D'Ivoire</td>\n",
       "      <td>5.63N</td>\n",
       "      <td>3.23W</td>\n",
       "    </tr>\n",
       "    <tr>\n",
       "      <th>28</th>\n",
       "      <td>1851-05-01</td>\n",
       "      <td>NaN</td>\n",
       "      <td>NaN</td>\n",
       "      <td>Abidjan</td>\n",
       "      <td>Côte D'Ivoire</td>\n",
       "      <td>5.63N</td>\n",
       "      <td>3.23W</td>\n",
       "    </tr>\n",
       "    <tr>\n",
       "      <th>...</th>\n",
       "      <td>...</td>\n",
       "      <td>...</td>\n",
       "      <td>...</td>\n",
       "      <td>...</td>\n",
       "      <td>...</td>\n",
       "      <td>...</td>\n",
       "      <td>...</td>\n",
       "    </tr>\n",
       "    <tr>\n",
       "      <th>217495</th>\n",
       "      <td>1839-09-01</td>\n",
       "      <td>NaN</td>\n",
       "      <td>NaN</td>\n",
       "      <td>Xian</td>\n",
       "      <td>China</td>\n",
       "      <td>34.56N</td>\n",
       "      <td>108.97E</td>\n",
       "    </tr>\n",
       "    <tr>\n",
       "      <th>217496</th>\n",
       "      <td>1839-10-01</td>\n",
       "      <td>NaN</td>\n",
       "      <td>NaN</td>\n",
       "      <td>Xian</td>\n",
       "      <td>China</td>\n",
       "      <td>34.56N</td>\n",
       "      <td>108.97E</td>\n",
       "    </tr>\n",
       "    <tr>\n",
       "      <th>217497</th>\n",
       "      <td>1839-11-01</td>\n",
       "      <td>NaN</td>\n",
       "      <td>NaN</td>\n",
       "      <td>Xian</td>\n",
       "      <td>China</td>\n",
       "      <td>34.56N</td>\n",
       "      <td>108.97E</td>\n",
       "    </tr>\n",
       "    <tr>\n",
       "      <th>217498</th>\n",
       "      <td>1839-12-01</td>\n",
       "      <td>NaN</td>\n",
       "      <td>NaN</td>\n",
       "      <td>Xian</td>\n",
       "      <td>China</td>\n",
       "      <td>34.56N</td>\n",
       "      <td>108.97E</td>\n",
       "    </tr>\n",
       "    <tr>\n",
       "      <th>217829</th>\n",
       "      <td>1867-07-01</td>\n",
       "      <td>NaN</td>\n",
       "      <td>NaN</td>\n",
       "      <td>Xian</td>\n",
       "      <td>China</td>\n",
       "      <td>34.56N</td>\n",
       "      <td>108.97E</td>\n",
       "    </tr>\n",
       "  </tbody>\n",
       "</table>\n",
       "<p>27581 rows × 7 columns</p>\n",
       "</div>"
      ],
      "text/plain": [
       "              Date  AverageTemperature  AverageTemperatureUncertainty  \\\n",
       "2       1849-03-01                 NaN                            NaN   \n",
       "8       1849-09-01                 NaN                            NaN   \n",
       "23      1850-12-01                 NaN                            NaN   \n",
       "24      1851-01-01                 NaN                            NaN   \n",
       "28      1851-05-01                 NaN                            NaN   \n",
       "...            ...                 ...                            ...   \n",
       "217495  1839-09-01                 NaN                            NaN   \n",
       "217496  1839-10-01                 NaN                            NaN   \n",
       "217497  1839-11-01                 NaN                            NaN   \n",
       "217498  1839-12-01                 NaN                            NaN   \n",
       "217829  1867-07-01                 NaN                            NaN   \n",
       "\n",
       "           City        Country Latitude Longitude  \n",
       "2       Abidjan  Côte D'Ivoire    5.63N     3.23W  \n",
       "8       Abidjan  Côte D'Ivoire    5.63N     3.23W  \n",
       "23      Abidjan  Côte D'Ivoire    5.63N     3.23W  \n",
       "24      Abidjan  Côte D'Ivoire    5.63N     3.23W  \n",
       "28      Abidjan  Côte D'Ivoire    5.63N     3.23W  \n",
       "...         ...            ...      ...       ...  \n",
       "217495     Xian          China   34.56N   108.97E  \n",
       "217496     Xian          China   34.56N   108.97E  \n",
       "217497     Xian          China   34.56N   108.97E  \n",
       "217498     Xian          China   34.56N   108.97E  \n",
       "217829     Xian          China   34.56N   108.97E  \n",
       "\n",
       "[27581 rows x 7 columns]"
      ]
     },
     "execution_count": 9,
     "metadata": {},
     "output_type": "execute_result"
    }
   ],
   "source": [
    "GLT[GLT['AverageTemperature'].isna()]"
   ]
  },
  {
   "cell_type": "code",
   "execution_count": 10,
   "metadata": {},
   "outputs": [],
   "source": [
    "GLT_copy=GLT['AverageTemperature'].copy()"
   ]
  },
  {
   "cell_type": "code",
   "execution_count": 11,
   "metadata": {},
   "outputs": [
    {
     "data": {
      "text/plain": [
       "0         26.704\n",
       "1         27.434\n",
       "2            NaN\n",
       "3         26.140\n",
       "4         25.427\n",
       "           ...  \n",
       "219570    23.885\n",
       "219571    17.028\n",
       "219572    12.399\n",
       "219573     4.736\n",
       "219574    -0.822\n",
       "Name: AverageTemperature, Length: 219575, dtype: float64"
      ]
     },
     "execution_count": 11,
     "metadata": {},
     "output_type": "execute_result"
    }
   ],
   "source": [
    "GLT_copy"
   ]
  },
  {
   "cell_type": "code",
   "execution_count": 12,
   "metadata": {},
   "outputs": [],
   "source": [
    "def convertir(a):\n",
    "    a.fillna('z',inplace=True)\n",
    "    for i in range(len(a)):\n",
    "        if a[i]=='z':\n",
    "            if a[i-1]!='z':\n",
    "                mean=np.mean(a[:i])\n",
    "                a[i]=mean\n"
   ]
  },
  {
   "cell_type": "code",
   "execution_count": 13,
   "metadata": {},
   "outputs": [],
   "source": [
    "convertir(GLT_copy)"
   ]
  },
  {
   "cell_type": "code",
   "execution_count": 14,
   "metadata": {},
   "outputs": [],
   "source": [
    "GLT['AverageTemperature']=GLT_copy"
   ]
  },
  {
   "cell_type": "code",
   "execution_count": 15,
   "metadata": {},
   "outputs": [
    {
     "data": {
      "text/plain": [
       "0"
      ]
     },
     "execution_count": 15,
     "metadata": {},
     "output_type": "execute_result"
    }
   ],
   "source": [
    "GLT['AverageTemperature'].isna().sum()"
   ]
  },
  {
   "cell_type": "code",
   "execution_count": 16,
   "metadata": {},
   "outputs": [],
   "source": [
    "GLT_copy_2=GLT['AverageTemperatureUncertainty'].copy()"
   ]
  },
  {
   "cell_type": "code",
   "execution_count": 17,
   "metadata": {},
   "outputs": [],
   "source": [
    "convertir(GLT_copy_2)"
   ]
  },
  {
   "cell_type": "code",
   "execution_count": 18,
   "metadata": {},
   "outputs": [],
   "source": [
    "GLT['AverageTemperatureUncertainty']=GLT_copy_2"
   ]
  },
  {
   "cell_type": "code",
   "execution_count": 19,
   "metadata": {},
   "outputs": [
    {
     "data": {
      "text/plain": [
       "0"
      ]
     },
     "execution_count": 19,
     "metadata": {},
     "output_type": "execute_result"
    }
   ],
   "source": [
    "GLT['AverageTemperatureUncertainty'].isna().sum()"
   ]
  },
  {
   "cell_type": "markdown",
   "metadata": {},
   "source": [
    "##Third point\n",
    "\n",
    "Define a function that, given the name of a city and an integer N > 0, prints:\n",
    "(a) the top N hottest measurements;\n",
    "(b) the top N coldest measurements.\n"
   ]
  },
  {
   "cell_type": "code",
   "execution_count": 20,
   "metadata": {},
   "outputs": [
    {
     "data": {
      "text/html": [
       "<div>\n",
       "<style scoped>\n",
       "    .dataframe tbody tr th:only-of-type {\n",
       "        vertical-align: middle;\n",
       "    }\n",
       "\n",
       "    .dataframe tbody tr th {\n",
       "        vertical-align: top;\n",
       "    }\n",
       "\n",
       "    .dataframe thead th {\n",
       "        text-align: right;\n",
       "    }\n",
       "</style>\n",
       "<table border=\"1\" class=\"dataframe\">\n",
       "  <thead>\n",
       "    <tr style=\"text-align: right;\">\n",
       "      <th></th>\n",
       "      <th>Date</th>\n",
       "      <th>AverageTemperature</th>\n",
       "      <th>AverageTemperatureUncertainty</th>\n",
       "      <th>City</th>\n",
       "      <th>Country</th>\n",
       "      <th>Latitude</th>\n",
       "      <th>Longitude</th>\n",
       "    </tr>\n",
       "  </thead>\n",
       "  <tbody>\n",
       "    <tr>\n",
       "      <th>0</th>\n",
       "      <td>1849-01-01</td>\n",
       "      <td>26.704</td>\n",
       "      <td>1.435</td>\n",
       "      <td>Abidjan</td>\n",
       "      <td>Côte D'Ivoire</td>\n",
       "      <td>5.63N</td>\n",
       "      <td>3.23W</td>\n",
       "    </tr>\n",
       "    <tr>\n",
       "      <th>1</th>\n",
       "      <td>1849-02-01</td>\n",
       "      <td>27.434</td>\n",
       "      <td>1.362</td>\n",
       "      <td>Abidjan</td>\n",
       "      <td>Côte D'Ivoire</td>\n",
       "      <td>5.63N</td>\n",
       "      <td>3.23W</td>\n",
       "    </tr>\n",
       "    <tr>\n",
       "      <th>2</th>\n",
       "      <td>1849-03-01</td>\n",
       "      <td>27.069</td>\n",
       "      <td>1.3985</td>\n",
       "      <td>Abidjan</td>\n",
       "      <td>Côte D'Ivoire</td>\n",
       "      <td>5.63N</td>\n",
       "      <td>3.23W</td>\n",
       "    </tr>\n",
       "    <tr>\n",
       "      <th>3</th>\n",
       "      <td>1849-04-01</td>\n",
       "      <td>26.14</td>\n",
       "      <td>1.387</td>\n",
       "      <td>Abidjan</td>\n",
       "      <td>Côte D'Ivoire</td>\n",
       "      <td>5.63N</td>\n",
       "      <td>3.23W</td>\n",
       "    </tr>\n",
       "    <tr>\n",
       "      <th>4</th>\n",
       "      <td>1849-05-01</td>\n",
       "      <td>25.427</td>\n",
       "      <td>1.2</td>\n",
       "      <td>Abidjan</td>\n",
       "      <td>Côte D'Ivoire</td>\n",
       "      <td>5.63N</td>\n",
       "      <td>3.23W</td>\n",
       "    </tr>\n",
       "    <tr>\n",
       "      <th>...</th>\n",
       "      <td>...</td>\n",
       "      <td>...</td>\n",
       "      <td>...</td>\n",
       "      <td>...</td>\n",
       "      <td>...</td>\n",
       "      <td>...</td>\n",
       "      <td>...</td>\n",
       "    </tr>\n",
       "    <tr>\n",
       "      <th>219570</th>\n",
       "      <td>2012-08-01</td>\n",
       "      <td>23.885</td>\n",
       "      <td>0.435</td>\n",
       "      <td>Xian</td>\n",
       "      <td>China</td>\n",
       "      <td>34.56N</td>\n",
       "      <td>108.97E</td>\n",
       "    </tr>\n",
       "    <tr>\n",
       "      <th>219571</th>\n",
       "      <td>2012-09-01</td>\n",
       "      <td>17.028</td>\n",
       "      <td>1.405</td>\n",
       "      <td>Xian</td>\n",
       "      <td>China</td>\n",
       "      <td>34.56N</td>\n",
       "      <td>108.97E</td>\n",
       "    </tr>\n",
       "    <tr>\n",
       "      <th>219572</th>\n",
       "      <td>2012-10-01</td>\n",
       "      <td>12.399</td>\n",
       "      <td>0.526</td>\n",
       "      <td>Xian</td>\n",
       "      <td>China</td>\n",
       "      <td>34.56N</td>\n",
       "      <td>108.97E</td>\n",
       "    </tr>\n",
       "    <tr>\n",
       "      <th>219573</th>\n",
       "      <td>2012-11-01</td>\n",
       "      <td>4.736</td>\n",
       "      <td>0.519</td>\n",
       "      <td>Xian</td>\n",
       "      <td>China</td>\n",
       "      <td>34.56N</td>\n",
       "      <td>108.97E</td>\n",
       "    </tr>\n",
       "    <tr>\n",
       "      <th>219574</th>\n",
       "      <td>2012-12-01</td>\n",
       "      <td>-0.822</td>\n",
       "      <td>0.451</td>\n",
       "      <td>Xian</td>\n",
       "      <td>China</td>\n",
       "      <td>34.56N</td>\n",
       "      <td>108.97E</td>\n",
       "    </tr>\n",
       "  </tbody>\n",
       "</table>\n",
       "<p>219575 rows × 7 columns</p>\n",
       "</div>"
      ],
      "text/plain": [
       "              Date AverageTemperature AverageTemperatureUncertainty     City  \\\n",
       "0       1849-01-01             26.704                         1.435  Abidjan   \n",
       "1       1849-02-01             27.434                         1.362  Abidjan   \n",
       "2       1849-03-01             27.069                        1.3985  Abidjan   \n",
       "3       1849-04-01              26.14                         1.387  Abidjan   \n",
       "4       1849-05-01             25.427                           1.2  Abidjan   \n",
       "...            ...                ...                           ...      ...   \n",
       "219570  2012-08-01             23.885                         0.435     Xian   \n",
       "219571  2012-09-01             17.028                         1.405     Xian   \n",
       "219572  2012-10-01             12.399                         0.526     Xian   \n",
       "219573  2012-11-01              4.736                         0.519     Xian   \n",
       "219574  2012-12-01             -0.822                         0.451     Xian   \n",
       "\n",
       "              Country Latitude Longitude  \n",
       "0       Côte D'Ivoire    5.63N     3.23W  \n",
       "1       Côte D'Ivoire    5.63N     3.23W  \n",
       "2       Côte D'Ivoire    5.63N     3.23W  \n",
       "3       Côte D'Ivoire    5.63N     3.23W  \n",
       "4       Côte D'Ivoire    5.63N     3.23W  \n",
       "...               ...      ...       ...  \n",
       "219570          China   34.56N   108.97E  \n",
       "219571          China   34.56N   108.97E  \n",
       "219572          China   34.56N   108.97E  \n",
       "219573          China   34.56N   108.97E  \n",
       "219574          China   34.56N   108.97E  \n",
       "\n",
       "[219575 rows x 7 columns]"
      ]
     },
     "execution_count": 20,
     "metadata": {},
     "output_type": "execute_result"
    }
   ],
   "source": [
    "GLT"
   ]
  },
  {
   "cell_type": "code",
   "execution_count": 21,
   "metadata": {},
   "outputs": [
    {
     "data": {
      "text/html": [
       "<div>\n",
       "<style scoped>\n",
       "    .dataframe tbody tr th:only-of-type {\n",
       "        vertical-align: middle;\n",
       "    }\n",
       "\n",
       "    .dataframe tbody tr th {\n",
       "        vertical-align: top;\n",
       "    }\n",
       "\n",
       "    .dataframe thead th {\n",
       "        text-align: right;\n",
       "    }\n",
       "</style>\n",
       "<table border=\"1\" class=\"dataframe\">\n",
       "  <thead>\n",
       "    <tr style=\"text-align: right;\">\n",
       "      <th></th>\n",
       "      <th>Date</th>\n",
       "      <th>AverageTemperature</th>\n",
       "      <th>AverageTemperatureUncertainty</th>\n",
       "      <th>City</th>\n",
       "      <th>Country</th>\n",
       "      <th>Latitude</th>\n",
       "      <th>Longitude</th>\n",
       "    </tr>\n",
       "  </thead>\n",
       "  <tbody>\n",
       "    <tr>\n",
       "      <th>218585</th>\n",
       "      <td>1930-07-01</td>\n",
       "      <td>26.762</td>\n",
       "      <td>0.418</td>\n",
       "      <td>Xian</td>\n",
       "      <td>China</td>\n",
       "      <td>34.56N</td>\n",
       "      <td>108.97E</td>\n",
       "    </tr>\n",
       "    <tr>\n",
       "      <th>218933</th>\n",
       "      <td>1959-07-01</td>\n",
       "      <td>26.741</td>\n",
       "      <td>0.541</td>\n",
       "      <td>Xian</td>\n",
       "      <td>China</td>\n",
       "      <td>34.56N</td>\n",
       "      <td>108.97E</td>\n",
       "    </tr>\n",
       "    <tr>\n",
       "      <th>218729</th>\n",
       "      <td>1942-07-01</td>\n",
       "      <td>26.663</td>\n",
       "      <td>0.491</td>\n",
       "      <td>Xian</td>\n",
       "      <td>China</td>\n",
       "      <td>34.56N</td>\n",
       "      <td>108.97E</td>\n",
       "    </tr>\n",
       "    <tr>\n",
       "      <th>218609</th>\n",
       "      <td>1932-07-01</td>\n",
       "      <td>26.544</td>\n",
       "      <td>2.924</td>\n",
       "      <td>Xian</td>\n",
       "      <td>China</td>\n",
       "      <td>34.56N</td>\n",
       "      <td>108.97E</td>\n",
       "    </tr>\n",
       "    <tr>\n",
       "      <th>218633</th>\n",
       "      <td>1934-07-01</td>\n",
       "      <td>26.411</td>\n",
       "      <td>0.781</td>\n",
       "      <td>Xian</td>\n",
       "      <td>China</td>\n",
       "      <td>34.56N</td>\n",
       "      <td>108.97E</td>\n",
       "    </tr>\n",
       "    <tr>\n",
       "      <th>219077</th>\n",
       "      <td>1971-07-01</td>\n",
       "      <td>26.292</td>\n",
       "      <td>0.366</td>\n",
       "      <td>Xian</td>\n",
       "      <td>China</td>\n",
       "      <td>34.56N</td>\n",
       "      <td>108.97E</td>\n",
       "    </tr>\n",
       "    <tr>\n",
       "      <th>219437</th>\n",
       "      <td>2001-07-01</td>\n",
       "      <td>26.094</td>\n",
       "      <td>0.101</td>\n",
       "      <td>Xian</td>\n",
       "      <td>China</td>\n",
       "      <td>34.56N</td>\n",
       "      <td>108.97E</td>\n",
       "    </tr>\n",
       "    <tr>\n",
       "      <th>218549</th>\n",
       "      <td>1927-07-01</td>\n",
       "      <td>26.004</td>\n",
       "      <td>0.992</td>\n",
       "      <td>Xian</td>\n",
       "      <td>China</td>\n",
       "      <td>34.56N</td>\n",
       "      <td>108.97E</td>\n",
       "    </tr>\n",
       "    <tr>\n",
       "      <th>219497</th>\n",
       "      <td>2006-07-01</td>\n",
       "      <td>25.957</td>\n",
       "      <td>0.727</td>\n",
       "      <td>Xian</td>\n",
       "      <td>China</td>\n",
       "      <td>34.56N</td>\n",
       "      <td>108.97E</td>\n",
       "    </tr>\n",
       "    <tr>\n",
       "      <th>219365</th>\n",
       "      <td>1995-07-01</td>\n",
       "      <td>25.908</td>\n",
       "      <td>0.332</td>\n",
       "      <td>Xian</td>\n",
       "      <td>China</td>\n",
       "      <td>34.56N</td>\n",
       "      <td>108.97E</td>\n",
       "    </tr>\n",
       "  </tbody>\n",
       "</table>\n",
       "</div>"
      ],
      "text/plain": [
       "              Date AverageTemperature AverageTemperatureUncertainty  City  \\\n",
       "218585  1930-07-01             26.762                         0.418  Xian   \n",
       "218933  1959-07-01             26.741                         0.541  Xian   \n",
       "218729  1942-07-01             26.663                         0.491  Xian   \n",
       "218609  1932-07-01             26.544                         2.924  Xian   \n",
       "218633  1934-07-01             26.411                         0.781  Xian   \n",
       "219077  1971-07-01             26.292                         0.366  Xian   \n",
       "219437  2001-07-01             26.094                         0.101  Xian   \n",
       "218549  1927-07-01             26.004                         0.992  Xian   \n",
       "219497  2006-07-01             25.957                         0.727  Xian   \n",
       "219365  1995-07-01             25.908                         0.332  Xian   \n",
       "\n",
       "       Country Latitude Longitude  \n",
       "218585   China   34.56N   108.97E  \n",
       "218933   China   34.56N   108.97E  \n",
       "218729   China   34.56N   108.97E  \n",
       "218609   China   34.56N   108.97E  \n",
       "218633   China   34.56N   108.97E  \n",
       "219077   China   34.56N   108.97E  \n",
       "219437   China   34.56N   108.97E  \n",
       "218549   China   34.56N   108.97E  \n",
       "219497   China   34.56N   108.97E  \n",
       "219365   China   34.56N   108.97E  "
      ]
     },
     "execution_count": 21,
     "metadata": {},
     "output_type": "execute_result"
    }
   ],
   "source": [
    "GLT[GLT['City']=='Xian'].sort_values(['AverageTemperature'],ascending=False).head(10)"
   ]
  },
  {
   "cell_type": "code",
   "execution_count": 22,
   "metadata": {},
   "outputs": [
    {
     "data": {
      "text/html": [
       "<div>\n",
       "<style scoped>\n",
       "    .dataframe tbody tr th:only-of-type {\n",
       "        vertical-align: middle;\n",
       "    }\n",
       "\n",
       "    .dataframe tbody tr th {\n",
       "        vertical-align: top;\n",
       "    }\n",
       "\n",
       "    .dataframe thead th {\n",
       "        text-align: right;\n",
       "    }\n",
       "</style>\n",
       "<table border=\"1\" class=\"dataframe\">\n",
       "  <thead>\n",
       "    <tr style=\"text-align: right;\">\n",
       "      <th></th>\n",
       "      <th>Date</th>\n",
       "      <th>AverageTemperature</th>\n",
       "      <th>AverageTemperatureUncertainty</th>\n",
       "      <th>City</th>\n",
       "      <th>Country</th>\n",
       "      <th>Latitude</th>\n",
       "      <th>Longitude</th>\n",
       "    </tr>\n",
       "  </thead>\n",
       "  <tbody>\n",
       "    <tr>\n",
       "      <th>218579</th>\n",
       "      <td>1930-01-01</td>\n",
       "      <td>-6.418</td>\n",
       "      <td>1.819</td>\n",
       "      <td>Xian</td>\n",
       "      <td>China</td>\n",
       "      <td>34.56N</td>\n",
       "      <td>108.97E</td>\n",
       "    </tr>\n",
       "    <tr>\n",
       "      <th>218063</th>\n",
       "      <td>1887-01-01</td>\n",
       "      <td>-5.566</td>\n",
       "      <td>1.562</td>\n",
       "      <td>Xian</td>\n",
       "      <td>China</td>\n",
       "      <td>34.56N</td>\n",
       "      <td>108.97E</td>\n",
       "    </tr>\n",
       "    <tr>\n",
       "      <th>217763</th>\n",
       "      <td>1862-01-01</td>\n",
       "      <td>-5.484</td>\n",
       "      <td>2.241</td>\n",
       "      <td>Xian</td>\n",
       "      <td>China</td>\n",
       "      <td>34.56N</td>\n",
       "      <td>108.97E</td>\n",
       "    </tr>\n",
       "    <tr>\n",
       "      <th>218878</th>\n",
       "      <td>1954-12-01</td>\n",
       "      <td>-5.421</td>\n",
       "      <td>0.525</td>\n",
       "      <td>Xian</td>\n",
       "      <td>China</td>\n",
       "      <td>34.56N</td>\n",
       "      <td>108.97E</td>\n",
       "    </tr>\n",
       "    <tr>\n",
       "      <th>218879</th>\n",
       "      <td>1955-01-01</td>\n",
       "      <td>-5.388</td>\n",
       "      <td>0.887</td>\n",
       "      <td>Xian</td>\n",
       "      <td>China</td>\n",
       "      <td>34.56N</td>\n",
       "      <td>108.97E</td>\n",
       "    </tr>\n",
       "    <tr>\n",
       "      <th>218219</th>\n",
       "      <td>1900-01-01</td>\n",
       "      <td>-5.322</td>\n",
       "      <td>1.555</td>\n",
       "      <td>Xian</td>\n",
       "      <td>China</td>\n",
       "      <td>34.56N</td>\n",
       "      <td>108.97E</td>\n",
       "    </tr>\n",
       "    <tr>\n",
       "      <th>219143</th>\n",
       "      <td>1977-01-01</td>\n",
       "      <td>-5.303</td>\n",
       "      <td>0.468</td>\n",
       "      <td>Xian</td>\n",
       "      <td>China</td>\n",
       "      <td>34.56N</td>\n",
       "      <td>108.97E</td>\n",
       "    </tr>\n",
       "    <tr>\n",
       "      <th>217955</th>\n",
       "      <td>1878-01-01</td>\n",
       "      <td>-4.926</td>\n",
       "      <td>2.87</td>\n",
       "      <td>Xian</td>\n",
       "      <td>China</td>\n",
       "      <td>34.56N</td>\n",
       "      <td>108.97E</td>\n",
       "    </tr>\n",
       "    <tr>\n",
       "      <th>219551</th>\n",
       "      <td>2011-01-01</td>\n",
       "      <td>-4.811</td>\n",
       "      <td>0.559</td>\n",
       "      <td>Xian</td>\n",
       "      <td>China</td>\n",
       "      <td>34.56N</td>\n",
       "      <td>108.97E</td>\n",
       "    </tr>\n",
       "    <tr>\n",
       "      <th>217751</th>\n",
       "      <td>1861-01-01</td>\n",
       "      <td>-4.766</td>\n",
       "      <td>1.843</td>\n",
       "      <td>Xian</td>\n",
       "      <td>China</td>\n",
       "      <td>34.56N</td>\n",
       "      <td>108.97E</td>\n",
       "    </tr>\n",
       "  </tbody>\n",
       "</table>\n",
       "</div>"
      ],
      "text/plain": [
       "              Date AverageTemperature AverageTemperatureUncertainty  City  \\\n",
       "218579  1930-01-01             -6.418                         1.819  Xian   \n",
       "218063  1887-01-01             -5.566                         1.562  Xian   \n",
       "217763  1862-01-01             -5.484                         2.241  Xian   \n",
       "218878  1954-12-01             -5.421                         0.525  Xian   \n",
       "218879  1955-01-01             -5.388                         0.887  Xian   \n",
       "218219  1900-01-01             -5.322                         1.555  Xian   \n",
       "219143  1977-01-01             -5.303                         0.468  Xian   \n",
       "217955  1878-01-01             -4.926                          2.87  Xian   \n",
       "219551  2011-01-01             -4.811                         0.559  Xian   \n",
       "217751  1861-01-01             -4.766                         1.843  Xian   \n",
       "\n",
       "       Country Latitude Longitude  \n",
       "218579   China   34.56N   108.97E  \n",
       "218063   China   34.56N   108.97E  \n",
       "217763   China   34.56N   108.97E  \n",
       "218878   China   34.56N   108.97E  \n",
       "218879   China   34.56N   108.97E  \n",
       "218219   China   34.56N   108.97E  \n",
       "219143   China   34.56N   108.97E  \n",
       "217955   China   34.56N   108.97E  \n",
       "219551   China   34.56N   108.97E  \n",
       "217751   China   34.56N   108.97E  "
      ]
     },
     "execution_count": 22,
     "metadata": {},
     "output_type": "execute_result"
    }
   ],
   "source": [
    "GLT[GLT['City']=='Xian'].sort_values(['AverageTemperature'],ascending=True).head(10)"
   ]
  },
  {
   "cell_type": "code",
   "execution_count": 34,
   "metadata": {},
   "outputs": [],
   "source": [
    "def measurements(GLT=GLT):\n",
    "    N,c=int(input(\"Write the integer\")),str(input(\"Write the city\"))\n",
    "    a=GLT[GLT['City']==c].sort_values(['AverageTemperature'],ascending=False).head(N)\n",
    "    b=GLT[GLT['City']==c].sort_values(['AverageTemperature'],ascending=True).head(N)\n",
    "    return (f\"The top {N} hottest measurements of {c} are :\" , a, f\"The top {N} coldest measurements of {c} are :\", b)\n"
   ]
  },
  {
   "cell_type": "code",
   "execution_count": 35,
   "metadata": {},
   "outputs": [
    {
     "data": {
      "text/plain": [
       "('The top 5 hottest measurements of Xian are :',\n",
       "               Date AverageTemperature AverageTemperatureUncertainty  City  \\\n",
       " 218585  1930-07-01             26.762                         0.418  Xian   \n",
       " 218933  1959-07-01             26.741                         0.541  Xian   \n",
       " 218729  1942-07-01             26.663                         0.491  Xian   \n",
       " 218609  1932-07-01             26.544                         2.924  Xian   \n",
       " 218633  1934-07-01             26.411                         0.781  Xian   \n",
       " \n",
       "        Country Latitude Longitude  \n",
       " 218585   China   34.56N   108.97E  \n",
       " 218933   China   34.56N   108.97E  \n",
       " 218729   China   34.56N   108.97E  \n",
       " 218609   China   34.56N   108.97E  \n",
       " 218633   China   34.56N   108.97E  ,\n",
       " 'The top 5 coldest measurements of Xian are :',\n",
       "               Date AverageTemperature AverageTemperatureUncertainty  City  \\\n",
       " 218579  1930-01-01             -6.418                         1.819  Xian   \n",
       " 218063  1887-01-01             -5.566                         1.562  Xian   \n",
       " 217763  1862-01-01             -5.484                         2.241  Xian   \n",
       " 218878  1954-12-01             -5.421                         0.525  Xian   \n",
       " 218879  1955-01-01             -5.388                         0.887  Xian   \n",
       " \n",
       "        Country Latitude Longitude  \n",
       " 218579   China   34.56N   108.97E  \n",
       " 218063   China   34.56N   108.97E  \n",
       " 217763   China   34.56N   108.97E  \n",
       " 218878   China   34.56N   108.97E  \n",
       " 218879   China   34.56N   108.97E  )"
      ]
     },
     "execution_count": 35,
     "metadata": {},
     "output_type": "execute_result"
    }
   ],
   "source": [
    "measurements()"
   ]
  },
  {
   "cell_type": "markdown",
   "metadata": {},
   "source": [
    "4. (*) Let’s search for other anomalies in data distribution with the help of matplotlib. Plot the distribution of the average land temperatures for Rome and Bangkok using the aforementioned histogram plotting function.\n",
    "\n",
    "Info: calling the plt.hist() method twice will draw the second histogram onto the canvas generated by the first call.\n",
    "\n",
    "\n",
    "As you can see, Rome and Bangkok have very different temperature distributions, but this seems\n",
    "plausible. What it looks strange is the large difference in their temperatures’ magnitude. Is it possible\n",
    "that all sensors from Bangkok stations, along the entire time-span, were faulty? Could they were\n",
    "configured to use another representation of the temperature measurement? Can you figure out a\n",
    "data cleaning step to solve it?\n",
    "Before continuing, try to answer to these questions.\n"
   ]
  },
  {
   "cell_type": "code",
   "execution_count": 58,
   "metadata": {},
   "outputs": [],
   "source": [
    "from random import gauss\n",
    "import matplotlib.pyplot as plt\n",
    "ma_Rome=GLT[GLT['City']=='Rome']['AverageTemperature']\n",
    "ma_Bangkok=GLT[GLT['City']=='Bangkok']['AverageTemperature']"
   ]
  },
  {
   "cell_type": "code",
   "execution_count": 59,
   "metadata": {},
   "outputs": [],
   "source": [
    "average=np.mean(GLT[GLT['City']=='Rome']['AverageTemperature'])\n"
   ]
  },
  {
   "cell_type": "code",
   "execution_count": 61,
   "metadata": {},
   "outputs": [
    {
     "data": {
      "text/plain": [
       "((array([ 79., 257., 279., 272., 247., 251., 253., 352., 328.,  30.]),\n",
       "  array([ 3.1106 ,  5.02662,  6.94264,  8.85866, 10.77468, 12.6907 ,\n",
       "         14.60672, 16.52274, 18.43876, 20.35478, 22.2708 ]),\n",
       "  <BarContainer object of 10 artists>),\n",
       " (array([ 97.,  13.,   0.,  26.,   5., 182.,  86., 651., 402., 886.]),\n",
       "  array([21.18731553, 27.69594398, 34.20457243, 40.71320087, 47.22182932,\n",
       "         53.73045777, 60.23908621, 66.74771466, 73.25634311, 79.76497155,\n",
       "         86.2736    ]),\n",
       "  <BarContainer object of 10 artists>))"
      ]
     },
     "execution_count": 61,
     "metadata": {},
     "output_type": "execute_result"
    },
    {
     "data": {
      "image/png": "[encoded data removed]",
      "text/plain": [
       "<Figure size 640x480 with 1 Axes>"
      ]
     },
     "metadata": {},
     "output_type": "display_data"
    }
   ],
   "source": [
    "window_size = 5  # Size of the window to the moving avarage\n",
    "moving_avg_R = np.convolve(ma_Rome, np.ones(window_size)/window_size, mode='valid')\n",
    "moving_avg_B = np.convolve(ma_Bangkok, np.ones(window_size)/window_size, mode='valid')\n",
    "plt.hist(moving_avg_R),plt.hist(moving_avg_B)\n"
   ]
  },
  {
   "cell_type": "code",
   "execution_count": 62,
   "metadata": {},
   "outputs": [
    {
     "data": {
      "text/plain": [
       "((array([ 42., 259., 326., 285., 203., 216., 188., 497., 297.,  39.]),\n",
       "  array([-1.441 ,  1.2982,  4.0374,  6.7766,  9.5158, 12.255 , 14.9942,\n",
       "         17.7334, 20.4726, 23.2118, 25.951 ]),\n",
       "  <BarContainer object of 10 artists>),\n",
       " (array([ 351.,    0.,    0.,    0.,    0.,    0.,    0.,   54.,  908.,\n",
       "         1039.]),\n",
       "  array([20.9668819 , 27.67089371, 34.37490552, 41.07891733, 47.78292914,\n",
       "         54.48694095, 61.19095276, 67.89496457, 74.59897638, 81.30298819,\n",
       "         88.007     ]),\n",
       "  <BarContainer object of 10 artists>))"
      ]
     },
     "execution_count": 62,
     "metadata": {},
     "output_type": "execute_result"
    },
    {
     "data": {
      "image/png": "[encoded data removed]",
      "text/plain": [
       "<Figure size 640x480 with 1 Axes>"
      ]
     },
     "metadata": {},
     "output_type": "display_data"
    }
   ],
   "source": [
    "plt.hist(ma_Rome),plt.hist(ma_Bangkok)"
   ]
  },
  {
   "cell_type": "code",
   "execution_count": 63,
   "metadata": {},
   "outputs": [],
   "source": [
    "import seaborn as sns"
   ]
  },
  {
   "cell_type": "code",
   "execution_count": 75,
   "metadata": {},
   "outputs": [
    {
     "data": {
      "text/plain": [
       "<AxesSubplot: >"
      ]
     },
     "execution_count": 75,
     "metadata": {},
     "output_type": "execute_result"
    },
    {
     "data": {
      "image/png": "[encoded data removed]",
      "text/plain": [
       "<Figure size 640x480 with 1 Axes>"
      ]
     },
     "metadata": {},
     "output_type": "display_data"
    }
   ],
   "source": [
    "sns.boxplot([ma_Rome])\n",
    "#sns.boxplot([ma_Bangkok]) #They have different scales"
   ]
  },
  {
   "cell_type": "code",
   "execution_count": 76,
   "metadata": {},
   "outputs": [
    {
     "data": {
      "text/plain": [
       "<AxesSubplot: >"
      ]
     },
     "execution_count": 76,
     "metadata": {},
     "output_type": "execute_result"
    },
    {
     "data": {
      "image/png": "[encoded data removed]",
      "text/plain": [
       "<Figure size 640x480 with 1 Axes>"
      ]
     },
     "metadata": {},
     "output_type": "display_data"
    }
   ],
   "source": [
    "sns.boxplot([ma_Bangkok]) #Bangkok have outliers"
   ]
  },
  {
   "cell_type": "code",
   "execution_count": 84,
   "metadata": {},
   "outputs": [
    {
     "name": "stdout",
     "output_type": "stream",
     "text": [
      "0         0.465904\n",
      "1         0.472264\n",
      "2         0.469084\n",
      "3         0.460990\n",
      "4         0.454778\n",
      "            ...   \n",
      "219570    0.441344\n",
      "219571    0.381603\n",
      "219572    0.341273\n",
      "219573    0.274510\n",
      "219574    0.226087\n",
      "Name: AverageTemperature, Length: 219575, dtype: float64\n"
     ]
    }
   ],
   "source": [
    "data = GLT['AverageTemperature']\n",
    "min_val = data.min()\n",
    "max_val = data.max()\n",
    "normalized_data = (data - min_val) / (max_val - min_val)\n",
    "GLT['AverageTemperature']=normalized_data\n",
    "print(normalized_data)"
   ]
  },
  {
   "cell_type": "code",
   "execution_count": 85,
   "metadata": {},
   "outputs": [],
   "source": [
    "ma_Rome=GLT[GLT['City']=='Rome']['AverageTemperature']\n",
    "ma_Bangkok=GLT[GLT['City']=='Bangkok']['AverageTemperature']"
   ]
  },
  {
   "cell_type": "code",
   "execution_count": 86,
   "metadata": {},
   "outputs": [
    {
     "data": {
      "text/plain": [
       "(<AxesSubplot: >, <AxesSubplot: >)"
      ]
     },
     "execution_count": 86,
     "metadata": {},
     "output_type": "execute_result"
    },
    {
     "data": {
      "image/png": "[encoded data removed]",
      "text/plain": [
       "<Figure size 640x480 with 1 Axes>"
      ]
     },
     "metadata": {},
     "output_type": "display_data"
    }
   ],
   "source": [
    "sns.boxplot([ma_Rome]),sns.boxplot([ma_Bangkok]) "
   ]
  },
  {
   "cell_type": "code",
   "execution_count": null,
   "metadata": {},
   "outputs": [],
   "source": []
  }
 ],
 "metadata": {
  "kernelspec": {
   "display_name": "base",
   "language": "python",
   "name": "python3"
  },
  "language_info": {
   "codemirror_mode": {
    "name": "ipython",
    "version": 3
   },
   "file_extension": ".py",
   "mimetype": "text/x-python",
   "name": "python",
   "nbconvert_exporter": "python",
   "pygments_lexer": "ipython3",
   "version": "3.9.7"
  }
 },
 "nbformat": 4,
 "nbformat_minor": 2
}
