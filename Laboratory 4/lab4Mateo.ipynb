{
 "cells": [
  {
   "cell_type": "markdown",
   "metadata": {},
   "source": [
    "KNN design and implementation"
   ]
  },
  {
   "cell_type": "code",
   "execution_count": 1,
   "metadata": {},
   "outputs": [],
   "source": [
    "import pandas as pd\n",
    "import numpy as np\n",
    "from sklearn.model_selection import train_test_split\n",
    "from scipy.spatial.distance import cdist"
   ]
  },
  {
   "cell_type": "markdown",
   "metadata": {},
   "source": [
    "1"
   ]
  },
  {
   "cell_type": "code",
   "execution_count": 2,
   "metadata": {},
   "outputs": [],
   "source": [
    "df = pd.read_csv(\n",
    "\"https://archive.ics.uci.edu/ml/machine-learning-databases/iris/iris.data\",\n",
    "header=None,\n",
    ")"
   ]
  },
  {
   "cell_type": "markdown",
   "metadata": {},
   "source": [
    "2 and 3"
   ]
  },
  {
   "cell_type": "code",
   "execution_count": 3,
   "metadata": {},
   "outputs": [],
   "source": [
    "X, y = df.iloc[:, 0:4].values, df.iloc[:, 4].values"
   ]
  },
  {
   "cell_type": "code",
   "execution_count": 4,
   "metadata": {},
   "outputs": [],
   "source": [
    "X_train, X_test, y_train, y_test = train_test_split(X, y, test_size=0.2, random_state=1)"
   ]
  },
  {
   "cell_type": "markdown",
   "metadata": {},
   "source": [
    "4"
   ]
  },
  {
   "cell_type": "code",
   "execution_count": 10,
   "metadata": {},
   "outputs": [],
   "source": [
    "class KNearestNeighbors:\n",
    "    def __init__(self, k, distance_metric=\"euclidean\"):\n",
    "        self.k = k\n",
    "        self.distance_metric = distance_metric\n",
    "        self.X_train = None\n",
    "        self.y_train = None\n",
    "    \n",
    "    def fit(self, X, y):\n",
    "        \"\"\"\n",
    "        Store the 'prior knowledge' of you model that will be used\n",
    "        to predict new labels.\n",
    "        :param X : input data points, ndarray, shape = (R,C).\n",
    "        :param y : input labels, ndarray, shape = (R,).\n",
    "        \"\"\"\n",
    "        self.X_train = X\n",
    "        self.y_train = y\n",
    "        return self\n",
    "\n",
    "    def predict(self, X):\n",
    "        \"\"\"Run the KNN classification on X.\n",
    "        :param X: input data points, ndarray, shape = (N,C).\n",
    "        :return: labels : ndarray, shape = (N,).\n",
    "        \"\"\"\n",
    "        # 1. Compute the distances between X and X_train\n",
    "        distances = self.__distance(X)\n",
    "\n",
    "        # 2. Find the k nearest neighbors\n",
    "        k_nearest_neighbors = self.__nearest_neighbors(distances)\n",
    "\n",
    "        # 3. Find the majority class among the k nearest neighbors\n",
    "        return self.__majority_class(k_nearest_neighbors)\n",
    "\n",
    "\n",
    "    def __distance(self, X):\n",
    "        return cdist(X, self.X_train, metric=self.distance_metric)\n",
    "    \n",
    "    def __nearest_neighbors(self, distances):\n",
    "        return np.argsort(distances, axis=1)[:, :self.k]\n",
    "    \n",
    "    def __majority_class(self, k_nearest_neighbors):\n",
    "        return np.apply_along_axis(self.__counting_votes, axis=1, arr=self.y_train[k_nearest_neighbors])\n",
    "    \n",
    "    def __counting_votes(self, votes):\n",
    "        labels, counts = np.unique(votes, return_counts=True)\n",
    "        return labels[np.argmax(counts)]\n",
    "        "
   ]
  },
  {
   "cell_type": "code",
   "execution_count": 12,
   "metadata": {},
   "outputs": [
    {
     "ename": "AttributeError",
     "evalue": "'KNearestNeighbors' object has no attribute '__counting_votes'",
     "output_type": "error",
     "traceback": [
      "\u001b[1;31m---------------------------------------------------------------------------\u001b[0m",
      "\u001b[1;31mAttributeError\u001b[0m                            Traceback (most recent call last)",
      "\u001b[1;32mc:\\Users\\mateo\\Documents\\TODO\\Ingeniería\\Ingeniería de Sistemas U. de A\\PoliTo\\SEMESTRES\\Primer año\\Data science lab - Process and methods\\Data science lab - Laboratories\\Laboratory 4\\lab4Mateo.ipynb Cell 10\u001b[0m line \u001b[0;36m1\n\u001b[1;32m----> <a href='vscode-notebook-cell:/c%3A/Users/mateo/Documents/TODO/Ingenier%C3%ADa/Ingenier%C3%ADa%20de%20Sistemas%20U.%20de%20A/PoliTo/SEMESTRES/Primer%20a%C3%B1o/Data%20science%20lab%20-%20Process%20and%20methods/Data%20science%20lab%20-%20Laboratories/Laboratory%204/lab4Mateo.ipynb#X31sZmlsZQ%3D%3D?line=0'>1</a>\u001b[0m knn \u001b[39m=\u001b[39m KNearestNeighbors(k\u001b[39m=\u001b[39m\u001b[39m3\u001b[39m)\u001b[39m.\u001b[39mfit(coords2, y)\u001b[39m.\u001b[39m__counting_votes(coords2)\n",
      "\u001b[1;31mAttributeError\u001b[0m: 'KNearestNeighbors' object has no attribute '__counting_votes'"
     ]
    }
   ],
   "source": [
    "knn = KNearestNeighbors(k=3).fit(coords2, y)"
   ]
  },
  {
   "cell_type": "code",
   "execution_count": 3,
   "metadata": {},
   "outputs": [
    {
     "data": {
      "text/plain": [
       "array([[0.        , 4.70444794, 1.6171966 , 5.24298816, 0.29610002],\n",
       "       [4.70444794, 0.        , 6.0892811 , 7.92556272, 5.00051406],\n",
       "       [1.6171966 , 6.0892811 , 0.        , 6.        , 1.38497279],\n",
       "       [1.88558331, 3.35605413, 2.84770898, 6.81441461, 2.13089414],\n",
       "       [1.86902085, 3.35603469, 2.84016572, 6.79415494, 2.11537169],\n",
       "       [1.72738018, 3.43208273, 2.7284205 , 6.66509403, 1.97527177]])"
      ]
     },
     "execution_count": 3,
     "metadata": {},
     "output_type": "execute_result"
    }
   ],
   "source": [
    "coords1 = [(35.0456, -85.2672),\n",
    "          (35.1174, -89.9711),\n",
    "          (35.9728, -83.9422),\n",
    "          (36.1667, -86.7833),\n",
    "          (36.1473, -86.7770),\n",
    "          (36.0544, -86.6694),]\n",
    "\n",
    "coords2 = [(35.0456, -85.2672),\n",
    "          (35.1174, -89.9711),\n",
    "          (35.9728, -83.9422),\n",
    "          (29.9728, -83.9422),\n",
    "          (35.0457, -84.9711),]\n",
    "distances = cdist(coords1, coords2, 'euclidean')\n",
    "distances"
   ]
  },
  {
   "cell_type": "code",
   "execution_count": 4,
   "metadata": {},
   "outputs": [],
   "source": [
    "y = np.array([0, 0, 1, 1, 1])"
   ]
  },
  {
   "cell_type": "code",
   "execution_count": 36,
   "metadata": {},
   "outputs": [
    {
     "data": {
      "text/plain": [
       "array([[0, 4, 2, 1, 3],\n",
       "       [1, 0, 4, 2, 3],\n",
       "       [2, 4, 0, 3, 1],\n",
       "       [0, 4, 2, 1, 3],\n",
       "       [0, 4, 2, 1, 3],\n",
       "       [0, 4, 2, 1, 3]], dtype=int64)"
      ]
     },
     "execution_count": 36,
     "metadata": {},
     "output_type": "execute_result"
    }
   ],
   "source": [
    "args = np.argsort(distances, axis=1)\n",
    "args"
   ]
  },
  {
   "cell_type": "code",
   "execution_count": 44,
   "metadata": {},
   "outputs": [
    {
     "data": {
      "text/plain": [
       "array([[0, 4, 2],\n",
       "       [1, 0, 4],\n",
       "       [2, 4, 0],\n",
       "       [0, 4, 2],\n",
       "       [0, 4, 2],\n",
       "       [0, 4, 2]], dtype=int64)"
      ]
     },
     "execution_count": 44,
     "metadata": {},
     "output_type": "execute_result"
    }
   ],
   "source": [
    "k_mas_cercanos = args[:, :3]\n",
    "k_mas_cercanos"
   ]
  },
  {
   "cell_type": "code",
   "execution_count": 75,
   "metadata": {},
   "outputs": [
    {
     "data": {
      "text/plain": [
       "array([[0, 1, 1],\n",
       "       [0, 0, 1],\n",
       "       [1, 1, 0],\n",
       "       [0, 1, 1],\n",
       "       [0, 1, 1],\n",
       "       [0, 1, 1]])"
      ]
     },
     "execution_count": 75,
     "metadata": {},
     "output_type": "execute_result"
    }
   ],
   "source": [
    "y[k_mas_cercanos]"
   ]
  },
  {
   "cell_type": "code",
   "execution_count": 117,
   "metadata": {},
   "outputs": [],
   "source": [
    "y = np.array([0, 0, 1, 1, 1])"
   ]
  },
  {
   "cell_type": "code",
   "execution_count": 126,
   "metadata": {},
   "outputs": [
    {
     "data": {
      "text/plain": [
       "array([1, 0, 1, 1, 1, 1])"
      ]
     },
     "execution_count": 126,
     "metadata": {},
     "output_type": "execute_result"
    }
   ],
   "source": [
    "def most_voted(votes):\n",
    "    labels, counts = np.unique(votes, return_counts=True)\n",
    "    return labels[np.argmax(counts)]\n",
    "    \n",
    "np.apply_along_axis(most_voted, axis=1, arr=y[k_mas_cercanos])"
   ]
  },
  {
   "cell_type": "code",
   "execution_count": 78,
   "metadata": {},
   "outputs": [
    {
     "data": {
      "text/plain": [
       "(array([0, 1]), array([1, 2], dtype=int64))"
      ]
     },
     "execution_count": 78,
     "metadata": {},
     "output_type": "execute_result"
    }
   ],
   "source": [
    "labels, counts = np.unique(y[k_mas_cercanos][0], return_counts=True)\n",
    "labels, counts"
   ]
  },
  {
   "cell_type": "code",
   "execution_count": 79,
   "metadata": {},
   "outputs": [],
   "source": [
    "most_voted = labels[counts.argmax()]"
   ]
  },
  {
   "cell_type": "code",
   "execution_count": 80,
   "metadata": {},
   "outputs": [
    {
     "data": {
      "text/plain": [
       "1"
      ]
     },
     "execution_count": 80,
     "metadata": {},
     "output_type": "execute_result"
    }
   ],
   "source": [
    "most_voted"
   ]
  },
  {
   "cell_type": "code",
   "execution_count": null,
   "metadata": {},
   "outputs": [],
   "source": []
  }
 ],
 "metadata": {
  "kernelspec": {
   "display_name": "base",
   "language": "python",
   "name": "python3"
  },
  "language_info": {
   "codemirror_mode": {
    "name": "ipython",
    "version": 3
   },
   "file_extension": ".py",
   "mimetype": "text/x-python",
   "name": "python",
   "nbconvert_exporter": "python",
   "pygments_lexer": "ipython3",
   "version": "3.11.5"
  }
 },
 "nbformat": 4,
 "nbformat_minor": 2
}
