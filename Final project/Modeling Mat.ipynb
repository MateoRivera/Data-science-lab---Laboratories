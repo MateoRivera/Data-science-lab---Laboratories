{
 "cells": [
  {
   "cell_type": "markdown",
   "metadata": {},
   "source": [
    "## Libraries"
   ]
  },
  {
   "cell_type": "code",
   "execution_count": 1,
   "metadata": {},
   "outputs": [],
   "source": [
    "# For handling data\n",
    "import numpy as np\n",
    "import pandas as pd\n",
    "from sklearn.pipeline import Pipeline\n",
    "from sklearn.preprocessing import StandardScaler\n",
    "from sklearn.decomposition import PCA\n",
    "import csv\n",
    "\n",
    "# For plotting\n",
    "import matplotlib.pyplot as plt\n",
    "import seaborn as sns\n",
    "sns.set()\n",
    "\n",
    "# For machine learning\n",
    "from sklearn.preprocessing import PolynomialFeatures\n",
    "from sklearn.linear_model import LinearRegression\n",
    "\n",
    "from sklearn.neighbors import KNeighborsRegressor\n",
    "from sklearn.ensemble import RandomForestRegressor, GradientBoostingRegressor\n",
    "from sklearn.svm import SVR\n",
    "\n",
    "from sklearn.model_selection import GridSearchCV\n",
    "from sklearn.multioutput import MultiOutputRegressor\n",
    "\n",
    "from functions import custom_error, custom_error3, save_submission"
   ]
  },
  {
   "cell_type": "code",
   "execution_count": 2,
   "metadata": {},
   "outputs": [],
   "source": [
    "path = './DSL_Winter_Project_2024/'\n",
    "df_train = pd.read_csv(path + 'train.csv')\n",
    "df_test = pd.read_csv(path + 'test.csv')"
   ]
  },
  {
   "cell_type": "code",
   "execution_count": 3,
   "metadata": {},
   "outputs": [],
   "source": [
    "X_train, y_train = df_train.loc[:, :'rms[17]'], df_train[['x', 'y']]\n",
    "X_test, y_test = df_test.loc[:, :'rms[17]'], df_test[['x', 'y']]"
   ]
  },
  {
   "cell_type": "code",
   "execution_count": 4,
   "metadata": {},
   "outputs": [],
   "source": [
    "# Standar scaler\n",
    "scaler_pipeline = Pipeline(\n",
    "    [('scaler', StandardScaler())]\n",
    ")\n",
    "\n",
    "# PCA\n",
    "pca_pipeline = Pipeline([\n",
    "    ('scaler', StandardScaler()),\n",
    "    ('pca', PCA(n_components=73)),\n",
    "])"
   ]
  },
  {
   "cell_type": "code",
   "execution_count": 5,
   "metadata": {},
   "outputs": [],
   "source": [
    "X_train_scaled = scaler_pipeline.fit_transform(X_train)\n",
    "X_test_scaled = scaler_pipeline.transform(X_test)\n",
    "\n",
    "X_train_pca = pca_pipeline.fit_transform(X_train)\n",
    "X_test_pca = pca_pipeline.transform(X_test)"
   ]
  },
  {
   "cell_type": "markdown",
   "metadata": {},
   "source": [
    "## Param grid of the different estimators"
   ]
  },
  {
   "cell_type": "code",
   "execution_count": 6,
   "metadata": {},
   "outputs": [],
   "source": [
    "rf_param_grid = {\n",
    "    'estimator__n_estimators': [10, 100, 500, 1000, 2000],\n",
    "}\n",
    "\n",
    "gb_param_grid = {\n",
    "    'estimator__n_estimators': [10, 100, 500, 1000, 2000],\n",
    "}\n",
    "\n",
    "knn_param_grid = {\n",
    "    'estimator__n_neighbors': [1, 10, 50, 100, 1000, 5000],\n",
    "}\n",
    "\n",
    "svr_param_grid = {\n",
    "    'estimator__C': [0.1, 1, 10, 100],\n",
    "    'estimator__gamma': [0.001, 0.01, 0.1, 1],\n",
    "}"
   ]
  },
  {
   "cell_type": "markdown",
   "metadata": {},
   "source": [
    "## Random forest\n",
    "- Using ```train.csv```"
   ]
  },
  {
   "cell_type": "code",
   "execution_count": null,
   "metadata": {},
   "outputs": [],
   "source": [
    "rf_grid_search = GridSearchCV(MultiOutputRegressor(RandomForestRegressor()), rf_param_grid, cv=5, scoring=custom_error3)\n",
    "rf_grid_search.fit(X_train, y_train)"
   ]
  },
  {
   "cell_type": "code",
   "execution_count": null,
   "metadata": {},
   "outputs": [],
   "source": [
    "rf_grid_search.best_params_, custom_error3(rf_grid_search, X_test, y_test)"
   ]
  },
  {
   "cell_type": "markdown",
   "metadata": {},
   "source": [
    "- Using ```train_pca.csv```"
   ]
  },
  {
   "cell_type": "code",
   "execution_count": null,
   "metadata": {},
   "outputs": [],
   "source": [
    "rf_pca_grid_search = GridSearchCV(MultiOutputRegressor(RandomForestRegressor()), rf_param_grid, cv=5, scoring=custom_error3)\n",
    "rf_pca_grid_search.fit(X_train_pca, y_train)"
   ]
  },
  {
   "cell_type": "code",
   "execution_count": null,
   "metadata": {},
   "outputs": [],
   "source": [
    "rf_pca_grid_search.best_params_, custom_error3(rf_pca_grid_search, X_test_pca, y_test)"
   ]
  },
  {
   "cell_type": "markdown",
   "metadata": {},
   "source": [
    "- Using ```train_scaled.csv```"
   ]
  },
  {
   "cell_type": "code",
   "execution_count": null,
   "metadata": {},
   "outputs": [],
   "source": [
    "rf_scaled_grid_search = GridSearchCV(MultiOutputRegressor(RandomForestRegressor()), rf_param_grid, cv=5, scoring=custom_error3)\n",
    "rf_scaled_grid_search.fit(X_train_scaled, y_train)"
   ]
  },
  {
   "cell_type": "code",
   "execution_count": null,
   "metadata": {},
   "outputs": [],
   "source": [
    "rf_scaled_grid_search.best_params_, custom_error3(rf_scaled_grid_search, X_test_scaled, y_test)"
   ]
  },
  {
   "cell_type": "markdown",
   "metadata": {},
   "source": [
    "## Gradient boosting\n",
    "- Using ```train.csv```"
   ]
  },
  {
   "cell_type": "code",
   "execution_count": 7,
   "metadata": {},
   "outputs": [
    {
     "name": "stderr",
     "output_type": "stream",
     "text": [
      "c:\\Users\\mateo\\anaconda3\\Lib\\site-packages\\sklearn\\model_selection\\_validation.py:824: UserWarning: Scoring failed. The score on this train-test partition for these parameters will be set to nan. Details: \n",
      "Traceback (most recent call last):\n",
      "  File \"c:\\Users\\mateo\\anaconda3\\Lib\\site-packages\\sklearn\\model_selection\\_validation.py\", line 813, in _score\n",
      "    scores = scorer(estimator, X_test, y_test)\n",
      "             ^^^^^^^^^^^^^^^^^^^^^^^^^^^^^^^^^\n",
      "  File \"c:\\Users\\mateo\\Documents\\TODO\\Ingeniería\\Ingeniería de Sistemas U. de A\\PoliTo\\SEMESTRES\\Primer año\\Data science lab - Process and methods\\Data science lab - Laboratories\\Final project\\functions.py\", line 5, in custom_error\n",
      "    return np.mean(np.diag(euclidean_distances(y_test, y_pred)))\n",
      "                           ^^^^^^^^^^^^^^^^^^^^^^^^^^^^^^^^^^^\n",
      "  File \"c:\\Users\\mateo\\anaconda3\\Lib\\site-packages\\sklearn\\metrics\\pairwise.py\", line 338, in euclidean_distances\n",
      "    return _euclidean_distances(X, Y, X_norm_squared, Y_norm_squared, squared)\n",
      "           ^^^^^^^^^^^^^^^^^^^^^^^^^^^^^^^^^^^^^^^^^^^^^^^^^^^^^^^^^^^^^^^^^^^\n",
      "  File \"c:\\Users\\mateo\\anaconda3\\Lib\\site-packages\\sklearn\\metrics\\pairwise.py\", line 379, in _euclidean_distances\n",
      "    distances = -2 * safe_sparse_dot(X, Y.T, dense_output=True)\n",
      "                ~~~^~~~~~~~~~~~~~~~~~~~~~~~~~~~~~~~~~~~~~~~~~~~\n",
      "numpy.core._exceptions._ArrayMemoryError: Unable to allocate 21.7 GiB for an array with shape (53970, 53970) and data type float64\n",
      "\n",
      "  warnings.warn(\n"
     ]
    }
   ],
   "source": [
    "gb_grid_search = GridSearchCV(MultiOutputRegressor(GradientBoostingRegressor()), gb_param_grid, cv=5, scoring=custom_error3)\n",
    "gb_grid_search.fit(X_train, y_train)"
   ]
  },
  {
   "cell_type": "code",
   "execution_count": null,
   "metadata": {},
   "outputs": [],
   "source": [
    "gb_grid_search.best_params_, custom_error3(gb_grid_search, X_test, y_test)"
   ]
  },
  {
   "cell_type": "markdown",
   "metadata": {},
   "source": [
    "- Using ```train_pca.csv```"
   ]
  },
  {
   "cell_type": "code",
   "execution_count": null,
   "metadata": {},
   "outputs": [],
   "source": [
    "gb_pca_grid_search = GridSearchCV(MultiOutputRegressor(GradientBoostingRegressor()), gb_param_grid, cv=5, scoring=custom_error3)\n",
    "gb_pca_grid_search.fit(X_train_pca, y_train)"
   ]
  },
  {
   "cell_type": "code",
   "execution_count": null,
   "metadata": {},
   "outputs": [],
   "source": [
    "gb_pca_grid_search.best_params_, custom_error3(gb_pca_grid_search, X_test_pca, y_test)"
   ]
  },
  {
   "cell_type": "markdown",
   "metadata": {},
   "source": [
    "- Using ```train_scaled.csv```"
   ]
  },
  {
   "cell_type": "code",
   "execution_count": null,
   "metadata": {},
   "outputs": [],
   "source": [
    "gb_scaled_grid_search = GridSearchCV(MultiOutputRegressor(GradientBoostingRegressor()), gb_param_grid, cv=5, scoring=custom_error3)\n",
    "gb_scaled_grid_search.fit(X_train_scaled, y_train)"
   ]
  },
  {
   "cell_type": "code",
   "execution_count": null,
   "metadata": {},
   "outputs": [],
   "source": [
    "gb_scaled_grid_search.best_params_, custom_error3(gb_scaled_grid_search, X_test_scaled, y_test)"
   ]
  },
  {
   "cell_type": "code",
   "execution_count": null,
   "metadata": {},
   "outputs": [],
   "source": []
  }
 ],
 "metadata": {
  "kernelspec": {
   "display_name": "base",
   "language": "python",
   "name": "python3"
  },
  "language_info": {
   "codemirror_mode": {
    "name": "ipython",
    "version": 3
   },
   "file_extension": ".py",
   "mimetype": "text/x-python",
   "name": "python",
   "nbconvert_exporter": "python",
   "pygments_lexer": "ipython3",
   "version": "3.11.5"
  }
 },
 "nbformat": 4,
 "nbformat_minor": 2
}
