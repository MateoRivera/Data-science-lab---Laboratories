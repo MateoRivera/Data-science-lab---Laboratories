{
 "cells": [
  {
   "cell_type": "markdown",
   "metadata": {},
   "source": [
    "Importing libraries"
   ]
  },
  {
   "cell_type": "code",
   "execution_count": 1,
   "metadata": {},
   "outputs": [],
   "source": [
    "# For fetching citybik API\n",
    "import requests\n",
    "\n",
    "import numpy as np\n",
    "import pandas as pd\n",
    "\n",
    "from scipy.spatial.distance import cdist"
   ]
  },
  {
   "cell_type": "markdown",
   "metadata": {},
   "source": [
    "Fetching the API"
   ]
  },
  {
   "cell_type": "markdown",
   "metadata": {},
   "source": [
    "## Citybik.es exercise"
   ]
  },
  {
   "cell_type": "code",
   "execution_count": 2,
   "metadata": {},
   "outputs": [],
   "source": [
    "citybik_api_url = \"http://api.citybik.es/v2/networks/to-bike\"\n",
    "\n",
    "response = requests.get(citybik_api_url)\n",
    "\n",
    "# Check if the request was successful (status code 200)\n",
    "if response.status_code == 200:\n",
    "\n",
    "    # Parse and use the response data (e.g., JSON)\n",
    "    data = response.json()\n",
    "else:\n",
    "    # Handle the error\n",
    "    print(f\"Request failed with status code: {response.status_code}\")"
   ]
  },
  {
   "cell_type": "markdown",
   "metadata": {},
   "source": [
    "2. Count and print the number of active stations (a station is active if its extra.status field is \"online\")."
   ]
  },
  {
   "cell_type": "code",
   "execution_count": 3,
   "metadata": {},
   "outputs": [
    {
     "name": "stdout",
     "output_type": "stream",
     "text": [
      "Active stations: 9\n"
     ]
    }
   ],
   "source": [
    "active_stations = sum([1 if station['extra']['status'] == 'online' else 0 for station in data['network']['stations']])\n",
    "print(f\"Active stations: {active_stations}\")"
   ]
  },
  {
   "cell_type": "markdown",
   "metadata": {},
   "source": [
    "3. Count and print the total number of bikes available (field free_bikes) and the number of free docks\n",
    "(field empty_slots) throughout all stations."
   ]
  },
  {
   "cell_type": "code",
   "execution_count": 4,
   "metadata": {},
   "outputs": [
    {
     "name": "stdout",
     "output_type": "stream",
     "text": [
      "Total bikes: 104\n",
      "Total empty slots: 94\n"
     ]
    }
   ],
   "source": [
    "total_bikes = 0\n",
    "total_empty_slots = 0\n",
    "\n",
    "for station in data['network']['stations']:\n",
    "    total_bikes += station['free_bikes']\n",
    "    total_empty_slots += station['empty_slots']\n",
    "\n",
    "print(f\"Total bikes: {total_bikes}\")\n",
    "print(f\"Total empty slots: {total_empty_slots}\")   "
   ]
  },
  {
   "cell_type": "markdown",
   "metadata": {},
   "source": [
    "Given the coordinates (latitude, longitude) of a point (e.g. 45.074512, 7.694419), identify the\n",
    "closest bike station to it that has available bikes. For computing the distance among two points\n",
    "(given their coordinates), you can use the function distance_coords() defined in the code snippet\n",
    "below (which is an implementation of the great-circle distance):\n",
    "from math import cos, acos, sin\n",
    "from math import cos, acos, sin\n",
    "\n",
    "def distance_coords(lat1, lng1, lat2, lng2):\n",
    "    \"\"\"Compute the distance among two points.\"\"\"\n",
    "    deg2rad = lambda x: x * 3.141592 / 180\n",
    "    lat1, lng1, lat2, lng2 = map(deg2rad, [ lat1, lng1, lat2, lng2 ])\n",
    "    R = 6378100 # Radius of the Earth, in meters\n",
    "    return R * acos(sin(lat1) * sin(lat2) + cos(lat1) * cos(lat2) * cos(lng1 - lng2))"
   ]
  },
  {
   "cell_type": "code",
   "execution_count": 5,
   "metadata": {},
   "outputs": [],
   "source": [
    "from math import cos, acos, sin\n",
    "def distance_coords(lat1, lng1, lat2, lng2):\n",
    "    \"\"\"Compute the distance among two points.\"\"\"\n",
    "    deg2rad = lambda x: x * 3.141592 / 180\n",
    "    lat1, lng1, lat2, lng2 = map(deg2rad, [ lat1, lng1, lat2, lng2 ])\n",
    "    R = 6378100 # Radius of the Earth, in meters\n",
    "    return R * acos(sin(lat1) * sin(lat2) + cos(lat1) * cos(lat2) * cos(lng1 - lng2))"
   ]
  },
  {
   "cell_type": "markdown",
   "metadata": {},
   "source": [
    "Mode 1"
   ]
  },
  {
   "cell_type": "code",
   "execution_count": 6,
   "metadata": {},
   "outputs": [
    {
     "data": {
      "text/plain": [
       "{'empty_slots': 4,\n",
       " 'extra': {'number': 10,\n",
       "  'reviews': 40,\n",
       "  'score': 4.5,\n",
       "  'status': 'online',\n",
       "  'uid': '592'},\n",
       " 'free_bikes': 0,\n",
       " 'id': 'f16cba9c6dc917e833eab7bf3e0168b7',\n",
       " 'latitude': 45.114828943536864,\n",
       " 'longitude': 7.641313076019287,\n",
       " 'name': '10. Gallo Praile',\n",
       " 'timestamp': '2023-10-20T13:09:10.468000Z'}"
      ]
     },
     "execution_count": 6,
     "metadata": {},
     "output_type": "execute_result"
    }
   ],
   "source": [
    "given_coords = (45.074512, 7.694419)\n",
    "arg_min = 0\n",
    "min_distance = distance_coords(given_coords[0], given_coords[1], data['network']['stations'][0]['latitude'], data['network']['stations'][0]['longitude'])\n",
    "for i, station in enumerate(data['network']['stations']):\n",
    "    current_distance = distance_coords(given_coords[0], given_coords[1], station['latitude'], station['longitude'])\n",
    "    if min_distance > current_distance:\n",
    "        arg_min = i\n",
    "        min_distance = distance_coords(given_coords[0], given_coords[1], station['latitude'], station['longitude'])\n",
    "\n",
    "data['network']['stations'][arg_min]"
   ]
  },
  {
   "cell_type": "markdown",
   "metadata": {},
   "source": [
    "Mode 2"
   ]
  },
  {
   "cell_type": "code",
   "execution_count": 7,
   "metadata": {},
   "outputs": [
    {
     "data": {
      "text/plain": [
       "{'empty_slots': 4,\n",
       " 'extra': {'number': 10,\n",
       "  'reviews': 40,\n",
       "  'score': 4.5,\n",
       "  'status': 'online',\n",
       "  'uid': '592'},\n",
       " 'free_bikes': 0,\n",
       " 'id': 'f16cba9c6dc917e833eab7bf3e0168b7',\n",
       " 'latitude': 45.114828943536864,\n",
       " 'longitude': 7.641313076019287,\n",
       " 'name': '10. Gallo Praile',\n",
       " 'timestamp': '2023-10-20T13:09:10.468000Z'}"
      ]
     },
     "execution_count": 7,
     "metadata": {},
     "output_type": "execute_result"
    }
   ],
   "source": [
    "min(data['network']['stations'], key=lambda station: distance_coords(given_coords[0], given_coords[1], station['latitude'], station['longitude']))"
   ]
  },
  {
   "cell_type": "markdown",
   "metadata": {},
   "source": [
    "## MNIST exercise"
   ]
  },
  {
   "cell_type": "markdown",
   "metadata": {},
   "source": [
    "3.2"
   ]
  },
  {
   "cell_type": "code",
   "execution_count": 8,
   "metadata": {},
   "outputs": [],
   "source": [
    "def print_mnist_digit(k):\n",
    "    digit_to_print = np.loadtxt('../datasets/mnist_test.csv', delimiter=',', dtype=float)[k - 1]\n",
    "    for i in range(28):\n",
    "        for j in range(28):\n",
    "            pixel = digit_to_print[i * 28 + j]\n",
    "            if pixel >= 0 and pixel < 64:\n",
    "                print(' ', end='')\n",
    "            elif pixel >= 64 and pixel < 128:\n",
    "                print('.', end='')\n",
    "            elif pixel >= 128 and pixel < 192:\n",
    "                print('*', end='')\n",
    "            elif pixel >= 192 and pixel < 256:\n",
    "                print('#', end='')\n",
    "        print('')\n",
    "    "
   ]
  },
  {
   "cell_type": "code",
   "execution_count": 9,
   "metadata": {},
   "outputs": [
    {
     "name": "stdout",
     "output_type": "stream",
     "text": [
      "                            \n",
      "                            \n",
      "                            \n",
      "                            \n",
      "                            \n",
      "               .#      **   \n",
      "              .##..*#####   \n",
      "             #########*.    \n",
      "            #####***.       \n",
      "           ##*              \n",
      "          *##               \n",
      "          ##                \n",
      "         .##                \n",
      "          ###*              \n",
      "          .#####.           \n",
      "             *###*          \n",
      "               *###*        \n",
      "                 ###        \n",
      "                 .##        \n",
      "                 ###        \n",
      "               .###         \n",
      "         .    *###.         \n",
      "        .# .*###*           \n",
      "        .######.            \n",
      "         *##*.              \n",
      "                            \n",
      "                            \n",
      "                            \n"
     ]
    }
   ],
   "source": [
    "print_mnist_digit(130)"
   ]
  },
  {
   "cell_type": "markdown",
   "metadata": {},
   "source": [
    "3.3"
   ]
  },
  {
   "cell_type": "code",
   "execution_count": 10,
   "metadata": {},
   "outputs": [],
   "source": [
    "positions = np.array([26, 30, 32, 35]) - 1\n",
    "digits_to_compute_distance = np.loadtxt('../datasets/mnist_test.csv', delimiter=',', dtype=float)[positions]"
   ]
  },
  {
   "cell_type": "code",
   "execution_count": 11,
   "metadata": {},
   "outputs": [
    {
     "data": {
      "text/plain": [
       "array([[   0.        , 3539.22336113, 3556.42011017, 3223.21454452],\n",
       "       [3539.22336113,    0.        , 1171.82933911, 2531.01047015],\n",
       "       [3556.42011017, 1171.82933911,    0.        , 2515.56713287],\n",
       "       [3223.21454452, 2531.01047015, 2515.56713287,    0.        ]])"
      ]
     },
     "execution_count": 11,
     "metadata": {},
     "output_type": "execute_result"
    }
   ],
   "source": [
    "cdist(digits_to_compute_distance, digits_to_compute_distance, metric='euclidean')"
   ]
  },
  {
   "cell_type": "markdown",
   "metadata": {},
   "source": [
    "3.4. Based on the distances computed in the previous step and knowing that the digits listed in\n",
    "Exercise 3 are (not necessarily in this order) 7, 0, 1, 1, can you assign the correct label to each of the\n",
    "digits of Exercise 3?"
   ]
  },
  {
   "cell_type": "markdown",
   "metadata": {},
   "source": [
    "We find that the second and third digit have minimum distance with regard to others, we could guess that these are the digits \"1\".\n",
    "Let's print them to be sure:"
   ]
  },
  {
   "cell_type": "code",
   "execution_count": 12,
   "metadata": {},
   "outputs": [
    {
     "name": "stdout",
     "output_type": "stream",
     "text": [
      "                            \n",
      "                            \n",
      "                            \n",
      "                            \n",
      "            ##              \n",
      "            ##.             \n",
      "            ###             \n",
      "            .##             \n",
      "             .#*            \n",
      "             .##            \n",
      "             ###            \n",
      "             .##            \n",
      "             *##            \n",
      "             ###.           \n",
      "              *#*           \n",
      "              .##           \n",
      "              .##           \n",
      "              .##           \n",
      "              .##           \n",
      "              ###           \n",
      "              ###.          \n",
      "              .##.          \n",
      "              .##.          \n",
      "              .##           \n",
      "                            \n",
      "                            \n",
      "                            \n",
      "                            \n",
      "                            \n",
      "                            \n",
      "                            \n",
      "                            \n",
      "                            \n",
      "             ##             \n",
      "             ##*            \n",
      "             .#*            \n",
      "             .#*            \n",
      "              ##            \n",
      "              ##.           \n",
      "              *##           \n",
      "              *##           \n",
      "              .##           \n",
      "               ##           \n",
      "               ##.          \n",
      "               *#*          \n",
      "               .#*          \n",
      "               .##          \n",
      "               .##          \n",
      "               .##          \n",
      "                ##          \n",
      "                ##          \n",
      "                *#          \n",
      "                 #.         \n",
      "                            \n",
      "                            \n",
      "                            \n"
     ]
    }
   ],
   "source": [
    "print_mnist_digit(positions[1] + 1)\n",
    "print_mnist_digit(positions[2] + 1)"
   ]
  },
  {
   "cell_type": "markdown",
   "metadata": {},
   "source": [
    "Now, if we want to guess who's \"0\" and who's \"7\", we could say: The arabic symbol \"7\" is more similar to \"1\" than \"0\", so we expect that the distance between \"1\" and \"7\" be less than \"0\" and \"7\".\n",
    "Ergo, we suppose that fourth digit is \"7\" and first is \"0\", let's check"
   ]
  },
  {
   "cell_type": "code",
   "execution_count": 13,
   "metadata": {},
   "outputs": [
    {
     "name": "stdout",
     "output_type": "stream",
     "text": [
      "First digit:\n",
      "                            \n",
      "                            \n",
      "                            \n",
      "                            \n",
      "               .#....       \n",
      "               ######*      \n",
      "               ########     \n",
      "          *##. *#######     \n",
      "         *###* .########    \n",
      "        *#####   *#*####.   \n",
      "       *######.      ###*   \n",
      "      .#######        ###   \n",
      "      .######         ###.  \n",
      "      ######*        ####.  \n",
      "      #####*         ####.  \n",
      "      #####        #####*   \n",
      "      #####     .*######.   \n",
      "      #####   *########.    \n",
      "      *################     \n",
      "      .###############      \n",
      "       #############.       \n",
      "        ###########.        \n",
      "         #######*.          \n",
      "          .##*..            \n",
      "                            \n",
      "                            \n",
      "                            \n",
      "                            \n",
      "Fourth digit:\n",
      "                            \n",
      "                            \n",
      "                            \n",
      "                            \n",
      "                            \n",
      "                            \n",
      "        ##.       ..###     \n",
      "         ##############.    \n",
      "         .*############.    \n",
      "              .    ####     \n",
      "                  .###      \n",
      "                  .###      \n",
      "                 .###*      \n",
      "                 ###.       \n",
      "                ####        \n",
      "               ####.        \n",
      "              ####*         \n",
      "             .####.         \n",
      "            .####           \n",
      "            ####.           \n",
      "           *###.            \n",
      "          .###*             \n",
      "         *####              \n",
      "         ####*              \n",
      "        .####               \n",
      "         ###.               \n",
      "                            \n",
      "                            \n"
     ]
    }
   ],
   "source": [
    "print(\"First digit:\")\n",
    "print_mnist_digit(positions[0] + 1)\n",
    "\n",
    "print(\"Fourth digit:\")\n",
    "print_mnist_digit(positions[3] + 1)"
   ]
  },
  {
   "cell_type": "markdown",
   "metadata": {},
   "source": [
    "3.5"
   ]
  },
  {
   "cell_type": "code",
   "execution_count": 14,
   "metadata": {},
   "outputs": [],
   "source": [
    "dataset = pd.read_csv('../datasets/mnist_test.csv', delimiter=',', dtype=float, header=None)"
   ]
  },
  {
   "cell_type": "code",
   "execution_count": 15,
   "metadata": {},
   "outputs": [],
   "source": [
    "# 1. We filter the dataset to get only the rows belonging to the digits 0 and 1\n",
    "zeros = dataset[dataset[0] == 0]\n",
    "ones = dataset[dataset[0] == 1]"
   ]
  },
  {
   "cell_type": "code",
   "execution_count": 16,
   "metadata": {},
   "outputs": [],
   "source": [
    "# 2. We compute which pixels are black for each digit and count how many times each pixel is black\n",
    "counting_black_pixels_0 = zeros.apply(lambda x: x >= 128).sum()\n",
    "counting_black_pixels_1 = ones.apply(lambda x: x >= 128).sum()"
   ]
  },
  {
   "cell_type": "code",
   "execution_count": 17,
   "metadata": {},
   "outputs": [],
   "source": [
    "# Due to the fact that the first column is the label, we remove it\n",
    "counting_black_pixels_0 = np.array(counting_black_pixels_0[1:])\n",
    "counting_black_pixels_1 = np.array(counting_black_pixels_1[1:])"
   ]
  },
  {
   "cell_type": "code",
   "execution_count": 18,
   "metadata": {},
   "outputs": [],
   "source": [
    "# 3. We compute the absolute difference between the number of black pixels for each digit\n",
    "z_minus_o = np.abs(counting_black_pixels_0 - counting_black_pixels_1)"
   ]
  },
  {
   "cell_type": "code",
   "execution_count": 19,
   "metadata": {},
   "outputs": [],
   "source": [
    "# 4. The best pixel for separating the two digits is the one with the highest absolute difference\n",
    "best_pixel_for_separing = np.argmax(z_minus_o)"
   ]
  },
  {
   "cell_type": "code",
   "execution_count": 20,
   "metadata": {},
   "outputs": [],
   "source": [
    "def grid_location(k):\n",
    "    return (k // 28, k % 28)"
   ]
  },
  {
   "cell_type": "code",
   "execution_count": 21,
   "metadata": {},
   "outputs": [
    {
     "name": "stdout",
     "output_type": "stream",
     "text": [
      "The best pixel for separating the two digits is 406 located at (14, 14)\n"
     ]
    }
   ],
   "source": [
    "print(f\"The best pixel for separating the two digits is {best_pixel_for_separing} located at {grid_location(best_pixel_for_separing)}\")"
   ]
  },
  {
   "cell_type": "markdown",
   "metadata": {},
   "source": [
    "This is somethig that we could expect due to the zero does not have pixels in the middle of the digit and the one does."
   ]
  }
 ],
 "metadata": {
  "kernelspec": {
   "display_name": "Python 3",
   "language": "python",
   "name": "python3"
  },
  "language_info": {
   "codemirror_mode": {
    "name": "ipython",
    "version": 3
   },
   "file_extension": ".py",
   "mimetype": "text/x-python",
   "name": "python",
   "nbconvert_exporter": "python",
   "pygments_lexer": "ipython3",
   "version": "3.9.7"
  }
 },
 "nbformat": 4,
 "nbformat_minor": 2
}
