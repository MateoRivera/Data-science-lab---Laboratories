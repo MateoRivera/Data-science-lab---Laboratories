{
 "cells": [
  {
   "cell_type": "markdown",
   "metadata": {},
   "source": [
    "Importing libraries"
   ]
  },
  {
   "cell_type": "code",
   "execution_count": 8,
   "metadata": {},
   "outputs": [],
   "source": [
    "# For fetching citybik API\n",
    "import requests"
   ]
  },
  {
   "cell_type": "markdown",
   "metadata": {},
   "source": [
    "Fetching the API"
   ]
  },
  {
   "cell_type": "code",
   "execution_count": 11,
   "metadata": {},
   "outputs": [],
   "source": [
    "citybik_api_url = \"http://api.citybik.es/v2/networks/to-bike\"\n",
    "\n",
    "response = requests.get(citybik_api_url)\n",
    "\n",
    "# Check if the request was successful (status code 200)\n",
    "if response.status_code == 200:\n",
    "\n",
    "    # Parse and use the response data (e.g., JSON)\n",
    "    data = response.json()\n",
    "else:\n",
    "    # Handle the error\n",
    "    print(f\"Request failed with status code: {response.status_code}\")"
   ]
  },
  {
   "cell_type": "markdown",
   "metadata": {},
   "source": [
    "2. Count and print the number of active stations (a station is active if its extra.status field is \"online\")."
   ]
  },
  {
   "cell_type": "code",
   "execution_count": 29,
   "metadata": {},
   "outputs": [
    {
     "name": "stdout",
     "output_type": "stream",
     "text": [
      "Active stations: 10\n"
     ]
    }
   ],
   "source": [
    "active_stations = sum([1 if station['extra']['status'] == 'online' else 0 for station in data['network']['stations']])\n",
    "print(f\"Active stations: {active_stations}\")"
   ]
  },
  {
   "cell_type": "markdown",
   "metadata": {},
   "source": [
    "3. Count and print the total number of bikes available (field free_bikes) and the number of free docks\n",
    "(field empty_slots) throughout all stations."
   ]
  },
  {
   "cell_type": "code",
   "execution_count": 33,
   "metadata": {},
   "outputs": [
    {
     "name": "stdout",
     "output_type": "stream",
     "text": [
      "Total bikes: 103\n",
      "Total empty slots: 95\n"
     ]
    }
   ],
   "source": [
    "total_bikes = 0\n",
    "total_empty_slots = 0\n",
    "\n",
    "for station in data['network']['stations']:\n",
    "    total_bikes += station['free_bikes']\n",
    "    total_empty_slots += station['empty_slots']\n",
    "\n",
    "print(f\"Total bikes: {total_bikes}\")\n",
    "print(f\"Total empty slots: {total_empty_slots}\")   "
   ]
  },
  {
   "cell_type": "markdown",
   "metadata": {},
   "source": [
    "Given the coordinates (latitude, longitude) of a point (e.g. 45.074512, 7.694419), identify the\n",
    "closest bike station to it that has available bikes. For computing the distance among two points\n",
    "(given their coordinates), you can use the function distance_coords() defined in the code snippet\n",
    "below (which is an implementation of the great-circle distance):\n",
    "from math import cos, acos, sin\n",
    "from math import cos, acos, sin\n",
    "\n",
    "def distance_coords(lat1, lng1, lat2, lng2):\n",
    "    \"\"\"Compute the distance among two points.\"\"\"\n",
    "    deg2rad = lambda x: x * 3.141592 / 180\n",
    "    lat1, lng1, lat2, lng2 = map(deg2rad, [ lat1, lng1, lat2, lng2 ])\n",
    "    R = 6378100 # Radius of the Earth, in meters\n",
    "    return R * acos(sin(lat1) * sin(lat2) + cos(lat1) * cos(lat2) * cos(lng1 - lng2))"
   ]
  },
  {
   "cell_type": "code",
   "execution_count": 35,
   "metadata": {},
   "outputs": [],
   "source": [
    "from math import cos, acos, sin\n",
    "def distance_coords(lat1, lng1, lat2, lng2):\n",
    "    \"\"\"Compute the distance among two points.\"\"\"\n",
    "    deg2rad = lambda x: x * 3.141592 / 180\n",
    "    lat1, lng1, lat2, lng2 = map(deg2rad, [ lat1, lng1, lat2, lng2 ])\n",
    "    R = 6378100 # Radius of the Earth, in meters\n",
    "    return R * acos(sin(lat1) * sin(lat2) + cos(lat1) * cos(lat2) * cos(lng1 - lng2))"
   ]
  },
  {
   "cell_type": "markdown",
   "metadata": {},
   "source": [
    "Mode 1"
   ]
  },
  {
   "cell_type": "code",
   "execution_count": 49,
   "metadata": {},
   "outputs": [
    {
     "data": {
      "text/plain": [
       "{'empty_slots': 4,\n",
       " 'extra': {'number': 10,\n",
       "  'reviews': 40,\n",
       "  'score': 4.5,\n",
       "  'status': 'online',\n",
       "  'uid': '592'},\n",
       " 'free_bikes': 0,\n",
       " 'id': 'f16cba9c6dc917e833eab7bf3e0168b7',\n",
       " 'latitude': 45.114828943536864,\n",
       " 'longitude': 7.641313076019287,\n",
       " 'name': '10. Gallo Praile',\n",
       " 'timestamp': '2023-10-17T08:15:06.190000Z'}"
      ]
     },
     "execution_count": 49,
     "metadata": {},
     "output_type": "execute_result"
    }
   ],
   "source": [
    "given_coords = (45.074512, 7.694419)\n",
    "arg_min = 0\n",
    "min_distance = distance_coords(given_coords[0], given_coords[1], data['network']['stations'][0]['latitude'], data['network']['stations'][0]['longitude'])\n",
    "for i, station in enumerate(data['network']['stations']):\n",
    "    current_distance = distance_coords(given_coords[0], given_coords[1], station['latitude'], station['longitude'])\n",
    "    if min_distance > current_distance:\n",
    "        arg_min = i\n",
    "        min_distance = distance_coords(given_coords[0], given_coords[1], station['latitude'], station['longitude'])\n",
    "\n",
    "data['network']['stations'][arg_min]"
   ]
  },
  {
   "cell_type": "markdown",
   "metadata": {},
   "source": [
    "Mode 2"
   ]
  },
  {
   "cell_type": "code",
   "execution_count": 42,
   "metadata": {},
   "outputs": [
    {
     "data": {
      "text/plain": [
       "{'empty_slots': 4,\n",
       " 'extra': {'number': 10,\n",
       "  'reviews': 40,\n",
       "  'score': 4.5,\n",
       "  'status': 'online',\n",
       "  'uid': '592'},\n",
       " 'free_bikes': 0,\n",
       " 'id': 'f16cba9c6dc917e833eab7bf3e0168b7',\n",
       " 'latitude': 45.114828943536864,\n",
       " 'longitude': 7.641313076019287,\n",
       " 'name': '10. Gallo Praile',\n",
       " 'timestamp': '2023-10-17T08:15:06.190000Z'}"
      ]
     },
     "execution_count": 42,
     "metadata": {},
     "output_type": "execute_result"
    }
   ],
   "source": [
    "min(data['network']['stations'], key=lambda station: distance_coords(given_coords[0], given_coords[1], station['latitude'], station['longitude']))"
   ]
  },
  {
   "cell_type": "code",
   "execution_count": null,
   "metadata": {},
   "outputs": [],
   "source": []
  }
 ],
 "metadata": {
  "kernelspec": {
   "display_name": "Python 3",
   "language": "python",
   "name": "python3"
  },
  "language_info": {
   "codemirror_mode": {
    "name": "ipython",
    "version": 3
   },
   "file_extension": ".py",
   "mimetype": "text/x-python",
   "name": "python",
   "nbconvert_exporter": "python",
   "pygments_lexer": "ipython3",
   "version": "3.12.0"
  }
 },
 "nbformat": 4,
 "nbformat_minor": 2
}
