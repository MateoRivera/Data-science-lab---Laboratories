{
 "cells": [
  {
   "cell_type": "code",
   "execution_count": 1,
   "metadata": {},
   "outputs": [],
   "source": [
    "import pandas as pd \n",
    "import numpy as np \n",
    "from sklearn.tree import DecisionTreeClassifier, plot_tree\n",
    "import matplotlib.pyplot as plt\n",
    "from sklearn.metrics import classification_report,accuracy_score\n",
    "from sklearn.model_selection import train_test_split\n",
    "import matplotlib.pyplot as plt\n",
    "import os\n",
    "import scipy.io.wavfile\n",
    "from sklearn.ensemble import RandomForestClassifier\n",
    "from sklearn.naive_bayes import GaussianNB"
   ]
  },
  {
   "cell_type": "code",
   "execution_count": 2,
   "metadata": {},
   "outputs": [],
   "source": [
    "list=os.listdir(path='free-spoken-digit/dev') # list files in a directory"
   ]
  },
  {
   "cell_type": "code",
   "execution_count": 3,
   "metadata": {},
   "outputs": [],
   "source": [
    "labels=[]\n",
    "for i in list:\n",
    "    labels.append(i[-5:-4])"
   ]
  },
  {
   "cell_type": "code",
   "execution_count": 4,
   "metadata": {},
   "outputs": [],
   "source": [
    "data=[]\n",
    "for i in list:\n",
    "    data.append((scipy.io.wavfile.read('free-spoken-digit/dev'+\"/\"+i)[1]))"
   ]
  },
  {
   "cell_type": "code",
   "execution_count": 5,
   "metadata": {},
   "outputs": [
    {
     "data": {
      "text/plain": [
       "3124"
      ]
     },
     "execution_count": 5,
     "metadata": {},
     "output_type": "execute_result"
    }
   ],
   "source": [
    "len(data[0])"
   ]
  },
  {
   "cell_type": "code",
   "execution_count": 6,
   "metadata": {},
   "outputs": [],
   "source": [
    "df=pd.DataFrame(data=data)"
   ]
  },
  {
   "cell_type": "code",
   "execution_count": 7,
   "metadata": {},
   "outputs": [],
   "source": [
    "df['labels']=labels"
   ]
  },
  {
   "cell_type": "code",
   "execution_count": 8,
   "metadata": {},
   "outputs": [
    {
     "data": {
      "text/html": [
       "<div>\n",
       "<style scoped>\n",
       "    .dataframe tbody tr th:only-of-type {\n",
       "        vertical-align: middle;\n",
       "    }\n",
       "\n",
       "    .dataframe tbody tr th {\n",
       "        vertical-align: top;\n",
       "    }\n",
       "\n",
       "    .dataframe thead th {\n",
       "        text-align: right;\n",
       "    }\n",
       "</style>\n",
       "<table border=\"1\" class=\"dataframe\">\n",
       "  <thead>\n",
       "    <tr style=\"text-align: right;\">\n",
       "      <th></th>\n",
       "      <th>0</th>\n",
       "      <th>1</th>\n",
       "      <th>2</th>\n",
       "      <th>3</th>\n",
       "      <th>4</th>\n",
       "      <th>5</th>\n",
       "      <th>6</th>\n",
       "      <th>7</th>\n",
       "      <th>8</th>\n",
       "      <th>9</th>\n",
       "      <th>...</th>\n",
       "      <th>17558</th>\n",
       "      <th>17559</th>\n",
       "      <th>17560</th>\n",
       "      <th>17561</th>\n",
       "      <th>17562</th>\n",
       "      <th>17563</th>\n",
       "      <th>17564</th>\n",
       "      <th>17565</th>\n",
       "      <th>17566</th>\n",
       "      <th>labels</th>\n",
       "    </tr>\n",
       "  </thead>\n",
       "  <tbody>\n",
       "    <tr>\n",
       "      <th>0</th>\n",
       "      <td>14</td>\n",
       "      <td>21</td>\n",
       "      <td>0</td>\n",
       "      <td>18</td>\n",
       "      <td>-11</td>\n",
       "      <td>22</td>\n",
       "      <td>-15</td>\n",
       "      <td>-53</td>\n",
       "      <td>9</td>\n",
       "      <td>-14</td>\n",
       "      <td>...</td>\n",
       "      <td>NaN</td>\n",
       "      <td>NaN</td>\n",
       "      <td>NaN</td>\n",
       "      <td>NaN</td>\n",
       "      <td>NaN</td>\n",
       "      <td>NaN</td>\n",
       "      <td>NaN</td>\n",
       "      <td>NaN</td>\n",
       "      <td>NaN</td>\n",
       "      <td>4</td>\n",
       "    </tr>\n",
       "    <tr>\n",
       "      <th>1</th>\n",
       "      <td>10</td>\n",
       "      <td>1</td>\n",
       "      <td>13</td>\n",
       "      <td>3</td>\n",
       "      <td>12</td>\n",
       "      <td>7</td>\n",
       "      <td>10</td>\n",
       "      <td>8</td>\n",
       "      <td>13</td>\n",
       "      <td>4</td>\n",
       "      <td>...</td>\n",
       "      <td>NaN</td>\n",
       "      <td>NaN</td>\n",
       "      <td>NaN</td>\n",
       "      <td>NaN</td>\n",
       "      <td>NaN</td>\n",
       "      <td>NaN</td>\n",
       "      <td>NaN</td>\n",
       "      <td>NaN</td>\n",
       "      <td>NaN</td>\n",
       "      <td>0</td>\n",
       "    </tr>\n",
       "    <tr>\n",
       "      <th>2</th>\n",
       "      <td>0</td>\n",
       "      <td>0</td>\n",
       "      <td>-256</td>\n",
       "      <td>0</td>\n",
       "      <td>-256</td>\n",
       "      <td>0</td>\n",
       "      <td>0</td>\n",
       "      <td>-256</td>\n",
       "      <td>0</td>\n",
       "      <td>-256</td>\n",
       "      <td>...</td>\n",
       "      <td>NaN</td>\n",
       "      <td>NaN</td>\n",
       "      <td>NaN</td>\n",
       "      <td>NaN</td>\n",
       "      <td>NaN</td>\n",
       "      <td>NaN</td>\n",
       "      <td>NaN</td>\n",
       "      <td>NaN</td>\n",
       "      <td>NaN</td>\n",
       "      <td>1</td>\n",
       "    </tr>\n",
       "    <tr>\n",
       "      <th>3</th>\n",
       "      <td>-169</td>\n",
       "      <td>1</td>\n",
       "      <td>-144</td>\n",
       "      <td>19</td>\n",
       "      <td>-140</td>\n",
       "      <td>70</td>\n",
       "      <td>-118</td>\n",
       "      <td>92</td>\n",
       "      <td>-85</td>\n",
       "      <td>73</td>\n",
       "      <td>...</td>\n",
       "      <td>NaN</td>\n",
       "      <td>NaN</td>\n",
       "      <td>NaN</td>\n",
       "      <td>NaN</td>\n",
       "      <td>NaN</td>\n",
       "      <td>NaN</td>\n",
       "      <td>NaN</td>\n",
       "      <td>NaN</td>\n",
       "      <td>NaN</td>\n",
       "      <td>6</td>\n",
       "    </tr>\n",
       "    <tr>\n",
       "      <th>4</th>\n",
       "      <td>309</td>\n",
       "      <td>-385</td>\n",
       "      <td>435</td>\n",
       "      <td>-183</td>\n",
       "      <td>-34</td>\n",
       "      <td>188</td>\n",
       "      <td>-1</td>\n",
       "      <td>-23</td>\n",
       "      <td>13</td>\n",
       "      <td>54</td>\n",
       "      <td>...</td>\n",
       "      <td>NaN</td>\n",
       "      <td>NaN</td>\n",
       "      <td>NaN</td>\n",
       "      <td>NaN</td>\n",
       "      <td>NaN</td>\n",
       "      <td>NaN</td>\n",
       "      <td>NaN</td>\n",
       "      <td>NaN</td>\n",
       "      <td>NaN</td>\n",
       "      <td>2</td>\n",
       "    </tr>\n",
       "  </tbody>\n",
       "</table>\n",
       "<p>5 rows × 17568 columns</p>\n",
       "</div>"
      ],
      "text/plain": [
       "     0    1    2    3    4    5    6    7   8    9  ...  17558  17559  17560  \\\n",
       "0   14   21    0   18  -11   22  -15  -53   9  -14  ...    NaN    NaN    NaN   \n",
       "1   10    1   13    3   12    7   10    8  13    4  ...    NaN    NaN    NaN   \n",
       "2    0    0 -256    0 -256    0    0 -256   0 -256  ...    NaN    NaN    NaN   \n",
       "3 -169    1 -144   19 -140   70 -118   92 -85   73  ...    NaN    NaN    NaN   \n",
       "4  309 -385  435 -183  -34  188   -1  -23  13   54  ...    NaN    NaN    NaN   \n",
       "\n",
       "   17561  17562  17563  17564  17565  17566  labels  \n",
       "0    NaN    NaN    NaN    NaN    NaN    NaN       4  \n",
       "1    NaN    NaN    NaN    NaN    NaN    NaN       0  \n",
       "2    NaN    NaN    NaN    NaN    NaN    NaN       1  \n",
       "3    NaN    NaN    NaN    NaN    NaN    NaN       6  \n",
       "4    NaN    NaN    NaN    NaN    NaN    NaN       2  \n",
       "\n",
       "[5 rows x 17568 columns]"
      ]
     },
     "execution_count": 8,
     "metadata": {},
     "output_type": "execute_result"
    }
   ],
   "source": [
    "df.head()#The numbers represents the amplitude in the time\n",
    "#The arrays doesn't have the same lenght we will have to fill the nan values as 0 because ther is nothing"
   ]
  },
  {
   "cell_type": "code",
   "execution_count": 9,
   "metadata": {},
   "outputs": [],
   "source": [
    "df.fillna(0,inplace=True)"
   ]
  },
  {
   "cell_type": "code",
   "execution_count": 10,
   "metadata": {},
   "outputs": [],
   "source": [
    "ana=df.iloc[:,:-1].T.describe() #\n"
   ]
  },
  {
   "cell_type": "code",
   "execution_count": 11,
   "metadata": {},
   "outputs": [],
   "source": [
    "range=ana.loc['max']-ana.loc['min']"
   ]
  },
  {
   "cell_type": "code",
   "execution_count": 12,
   "metadata": {},
   "outputs": [
    {
     "data": {
      "text/plain": [
       "[<matplotlib.lines.Line2D at 0x2b337ff27c0>]"
      ]
     },
     "execution_count": 12,
     "metadata": {},
     "output_type": "execute_result"
    },
    {
     "data": {
      "image/png": "[encoded data removed]",
      "text/plain": [
       "<Figure size 640x480 with 1 Axes>"
      ]
     },
     "metadata": {},
     "output_type": "display_data"
    }
   ],
   "source": [
    "plt.plot(range) #The range of the data are really diferent"
   ]
  },
  {
   "cell_type": "code",
   "execution_count": 13,
   "metadata": {},
   "outputs": [],
   "source": [
    "X=df.iloc[:,:-1]"
   ]
  },
  {
   "cell_type": "code",
   "execution_count": 14,
   "metadata": {},
   "outputs": [
    {
     "data": {
      "text/plain": [
       "0       -0.009222\n",
       "1       -0.128821\n",
       "2      -31.856094\n",
       "3        0.057722\n",
       "4        0.114818\n",
       "          ...    \n",
       "1495   -34.450048\n",
       "1496   -31.564638\n",
       "1497   -27.644561\n",
       "1498     0.009848\n",
       "1499    -0.030796\n",
       "Name: mean, Length: 1500, dtype: float64"
      ]
     },
     "execution_count": 14,
     "metadata": {},
     "output_type": "execute_result"
    }
   ],
   "source": [
    "ana.loc['mean']"
   ]
  },
  {
   "cell_type": "code",
   "execution_count": 15,
   "metadata": {},
   "outputs": [
    {
     "data": {
      "text/plain": [
       "[<matplotlib.lines.Line2D at 0x2b33829fa30>]"
      ]
     },
     "execution_count": 15,
     "metadata": {},
     "output_type": "execute_result"
    },
    {
     "data": {
      "image/png": "[encoded data removed]",
      "text/plain": [
       "<Figure size 640x480 with 1 Axes>"
      ]
     },
     "metadata": {},
     "output_type": "display_data"
    }
   ],
   "source": [
    "plt.plot(ana.loc['mean'])"
   ]
  },
  {
   "cell_type": "code",
   "execution_count": 16,
   "metadata": {},
   "outputs": [],
   "source": [
    "n_chunks=1000\n",
    "data_2 = [np.array_split(row,n_chunks) for row in data ]\n",
    "lenght=[len(row)for row in data]"
   ]
  },
  {
   "cell_type": "code",
   "execution_count": 17,
   "metadata": {},
   "outputs": [],
   "source": [
    "mean_2=[]\n",
    "desv_2=[]\n",
    "for raw in data_2:\n",
    "    mean_1=[]\n",
    "    desv_1=[]\n",
    "    for vect in raw:\n",
    "        mean_1.append(vect.mean())\n",
    "        desv_1.append(vect.std())\n",
    "    mean_2.append(mean_1)\n",
    "    desv_2.append(desv_1)\n",
    "    #The rank is ready\n",
    "    #The original lenght too\n"
   ]
  },
  {
   "cell_type": "code",
   "execution_count": 18,
   "metadata": {},
   "outputs": [],
   "source": [
    "#Now we need to put together the means, desv, lenght and rank in order to make the predictions"
   ]
  },
  {
   "cell_type": "code",
   "execution_count": 19,
   "metadata": {},
   "outputs": [],
   "source": [
    "mean=pd.DataFrame(mean_2)\n",
    "desv=pd.DataFrame(desv_2)"
   ]
  },
  {
   "cell_type": "code",
   "execution_count": 20,
   "metadata": {},
   "outputs": [],
   "source": [
    "df=pd.concat([mean,desv],axis=1)"
   ]
  },
  {
   "cell_type": "code",
   "execution_count": 21,
   "metadata": {},
   "outputs": [],
   "source": [
    "df['range']=range\n",
    "df['lenght']=lenght\n",
    "df['labels']=labels"
   ]
  },
  {
   "cell_type": "code",
   "execution_count": 22,
   "metadata": {},
   "outputs": [
    {
     "data": {
      "text/html": [
       "<div>\n",
       "<style scoped>\n",
       "    .dataframe tbody tr th:only-of-type {\n",
       "        vertical-align: middle;\n",
       "    }\n",
       "\n",
       "    .dataframe tbody tr th {\n",
       "        vertical-align: top;\n",
       "    }\n",
       "\n",
       "    .dataframe thead th {\n",
       "        text-align: right;\n",
       "    }\n",
       "</style>\n",
       "<table border=\"1\" class=\"dataframe\">\n",
       "  <thead>\n",
       "    <tr style=\"text-align: right;\">\n",
       "      <th></th>\n",
       "      <th>0</th>\n",
       "      <th>1</th>\n",
       "      <th>2</th>\n",
       "      <th>3</th>\n",
       "      <th>4</th>\n",
       "      <th>5</th>\n",
       "      <th>6</th>\n",
       "      <th>7</th>\n",
       "      <th>8</th>\n",
       "      <th>9</th>\n",
       "      <th>...</th>\n",
       "      <th>993</th>\n",
       "      <th>994</th>\n",
       "      <th>995</th>\n",
       "      <th>996</th>\n",
       "      <th>997</th>\n",
       "      <th>998</th>\n",
       "      <th>999</th>\n",
       "      <th>range</th>\n",
       "      <th>lenght</th>\n",
       "      <th>labels</th>\n",
       "    </tr>\n",
       "  </thead>\n",
       "  <tbody>\n",
       "    <tr>\n",
       "      <th>0</th>\n",
       "      <td>13.250000</td>\n",
       "      <td>-14.250000</td>\n",
       "      <td>4.250000</td>\n",
       "      <td>20.50</td>\n",
       "      <td>3.250000</td>\n",
       "      <td>-12.500000</td>\n",
       "      <td>5.500000</td>\n",
       "      <td>20.000000</td>\n",
       "      <td>-27.000000</td>\n",
       "      <td>-14.250000</td>\n",
       "      <td>...</td>\n",
       "      <td>6.944222</td>\n",
       "      <td>10.656245</td>\n",
       "      <td>9.977753</td>\n",
       "      <td>20.005555</td>\n",
       "      <td>13.072448</td>\n",
       "      <td>27.438821</td>\n",
       "      <td>34.179266</td>\n",
       "      <td>18548.0</td>\n",
       "      <td>3124</td>\n",
       "      <td>4</td>\n",
       "    </tr>\n",
       "    <tr>\n",
       "      <th>1</th>\n",
       "      <td>6.750000</td>\n",
       "      <td>9.250000</td>\n",
       "      <td>7.000000</td>\n",
       "      <td>6.50</td>\n",
       "      <td>-0.500000</td>\n",
       "      <td>-3.000000</td>\n",
       "      <td>-10.500000</td>\n",
       "      <td>-14.250000</td>\n",
       "      <td>-21.500000</td>\n",
       "      <td>-14.500000</td>\n",
       "      <td>...</td>\n",
       "      <td>4.109609</td>\n",
       "      <td>4.784233</td>\n",
       "      <td>3.299832</td>\n",
       "      <td>8.259674</td>\n",
       "      <td>4.189935</td>\n",
       "      <td>4.496913</td>\n",
       "      <td>1.885618</td>\n",
       "      <td>3053.0</td>\n",
       "      <td>3103</td>\n",
       "      <td>0</td>\n",
       "    </tr>\n",
       "    <tr>\n",
       "      <th>2</th>\n",
       "      <td>-85.333333</td>\n",
       "      <td>-85.333333</td>\n",
       "      <td>-85.333333</td>\n",
       "      <td>-256.00</td>\n",
       "      <td>-170.666667</td>\n",
       "      <td>-85.333333</td>\n",
       "      <td>-85.333333</td>\n",
       "      <td>-85.333333</td>\n",
       "      <td>-341.333333</td>\n",
       "      <td>-341.333333</td>\n",
       "      <td>...</td>\n",
       "      <td>0.000000</td>\n",
       "      <td>128.000000</td>\n",
       "      <td>0.000000</td>\n",
       "      <td>128.000000</td>\n",
       "      <td>128.000000</td>\n",
       "      <td>128.000000</td>\n",
       "      <td>128.000000</td>\n",
       "      <td>12800.0</td>\n",
       "      <td>2415</td>\n",
       "      <td>1</td>\n",
       "    </tr>\n",
       "    <tr>\n",
       "      <th>3</th>\n",
       "      <td>-86.600000</td>\n",
       "      <td>6.400000</td>\n",
       "      <td>15.800000</td>\n",
       "      <td>50.80</td>\n",
       "      <td>4.000000</td>\n",
       "      <td>4.800000</td>\n",
       "      <td>32.000000</td>\n",
       "      <td>22.800000</td>\n",
       "      <td>36.000000</td>\n",
       "      <td>8.000000</td>\n",
       "      <td>...</td>\n",
       "      <td>36.155912</td>\n",
       "      <td>21.741378</td>\n",
       "      <td>10.012492</td>\n",
       "      <td>42.793107</td>\n",
       "      <td>19.817921</td>\n",
       "      <td>40.438224</td>\n",
       "      <td>54.641445</td>\n",
       "      <td>40420.0</td>\n",
       "      <td>4751</td>\n",
       "      <td>6</td>\n",
       "    </tr>\n",
       "    <tr>\n",
       "      <th>4</th>\n",
       "      <td>44.000000</td>\n",
       "      <td>32.500000</td>\n",
       "      <td>-16.500000</td>\n",
       "      <td>29.25</td>\n",
       "      <td>-120.000000</td>\n",
       "      <td>144.000000</td>\n",
       "      <td>-28.500000</td>\n",
       "      <td>-61.000000</td>\n",
       "      <td>-34.250000</td>\n",
       "      <td>248.750000</td>\n",
       "      <td>...</td>\n",
       "      <td>42.197946</td>\n",
       "      <td>53.897021</td>\n",
       "      <td>38.308688</td>\n",
       "      <td>36.609046</td>\n",
       "      <td>45.828182</td>\n",
       "      <td>32.561054</td>\n",
       "      <td>15.253415</td>\n",
       "      <td>23434.0</td>\n",
       "      <td>3888</td>\n",
       "      <td>2</td>\n",
       "    </tr>\n",
       "  </tbody>\n",
       "</table>\n",
       "<p>5 rows × 2003 columns</p>\n",
       "</div>"
      ],
      "text/plain": [
       "           0          1          2       3           4           5          6  \\\n",
       "0  13.250000 -14.250000   4.250000   20.50    3.250000  -12.500000   5.500000   \n",
       "1   6.750000   9.250000   7.000000    6.50   -0.500000   -3.000000 -10.500000   \n",
       "2 -85.333333 -85.333333 -85.333333 -256.00 -170.666667  -85.333333 -85.333333   \n",
       "3 -86.600000   6.400000  15.800000   50.80    4.000000    4.800000  32.000000   \n",
       "4  44.000000  32.500000 -16.500000   29.25 -120.000000  144.000000 -28.500000   \n",
       "\n",
       "           7           8           9  ...        993         994        995  \\\n",
       "0  20.000000  -27.000000  -14.250000  ...   6.944222   10.656245   9.977753   \n",
       "1 -14.250000  -21.500000  -14.500000  ...   4.109609    4.784233   3.299832   \n",
       "2 -85.333333 -341.333333 -341.333333  ...   0.000000  128.000000   0.000000   \n",
       "3  22.800000   36.000000    8.000000  ...  36.155912   21.741378  10.012492   \n",
       "4 -61.000000  -34.250000  248.750000  ...  42.197946   53.897021  38.308688   \n",
       "\n",
       "          996         997         998         999    range  lenght  labels  \n",
       "0   20.005555   13.072448   27.438821   34.179266  18548.0    3124       4  \n",
       "1    8.259674    4.189935    4.496913    1.885618   3053.0    3103       0  \n",
       "2  128.000000  128.000000  128.000000  128.000000  12800.0    2415       1  \n",
       "3   42.793107   19.817921   40.438224   54.641445  40420.0    4751       6  \n",
       "4   36.609046   45.828182   32.561054   15.253415  23434.0    3888       2  \n",
       "\n",
       "[5 rows x 2003 columns]"
      ]
     },
     "execution_count": 22,
     "metadata": {},
     "output_type": "execute_result"
    }
   ],
   "source": [
    "df.head()"
   ]
  },
  {
   "cell_type": "code",
   "execution_count": 23,
   "metadata": {},
   "outputs": [],
   "source": [
    "x=df.iloc[:,:-1].values #I need to obtain the values of the feautures of the dataset\n",
    "y=df.iloc[:,-1].values#I need to obtain the values of the labels of the dataset"
   ]
  },
  {
   "cell_type": "code",
   "execution_count": 24,
   "metadata": {},
   "outputs": [],
   "source": [
    "#We are gonna normalize in order to improve the accurracy (0.22916666666666666)\n",
    "from sklearn import preprocessing\n",
    "standard = preprocessing.scale(x)"
   ]
  },
  {
   "cell_type": "code",
   "execution_count": 25,
   "metadata": {},
   "outputs": [],
   "source": [
    "from sklearn.model_selection import KFold\n",
    "# Split the datasets into two:\n",
    "# - X_train_valid: the dataset used for the k-fold cross-validation\n",
    "# - X_test: the dataset used for the final testing (this will NOT\n",
    "# be seen by the classifier during the training/validation phases)\n",
    "X_train_valid, X_test, y_train_valid, y_test = train_test_split(x,y,test_size=0.2)\n",
    "kf = KFold(5) # 5-fold cross-validation\n",
    "# X and y are the arrays to be split\n",
    "for train_indices, validation_indices in kf.split(X_train_valid):\n",
    "    X_train = X_train_valid[train_indices]\n",
    "    X_valid = X_train_valid[validation_indices] #The valid values are use to find the best hyperparameters\n",
    "    y_train = y_train_valid[train_indices]\n",
    "    y_valid = y_train_valid[validation_indices]"
   ]
  },
  {
   "cell_type": "code",
   "execution_count": 26,
   "metadata": {},
   "outputs": [],
   "source": [
    "from sklearn.model_selection import KFold\n",
    "# Split the datasets into two:\n",
    "# - X_train_valid: the dataset used for the k-fold cross-validation\n",
    "# - X_test: the dataset used for the final testing (this will NOT\n",
    "# be seen by the classifier during the training/validation phases)\n",
    "standard_train_valid, standard_test, y_train_valid_1, y_test_1 = train_test_split(standard,y,test_size=0.2)\n",
    "kf = KFold(5) # 5-fold cross-validation\n",
    "# X and y are the arrays to be split\n",
    "for train_indices, validation_indices in kf.split(standard_train_valid):\n",
    "    s_train = standard_train_valid[train_indices]\n",
    "    s_valid = standard_train_valid[validation_indices] #The valid values are use to find the best hyperparameters\n",
    "    y_train_1 = y_train_valid_1[train_indices]\n",
    "    y_valid_1 = y_train_valid_1[validation_indices]"
   ]
  },
  {
   "cell_type": "code",
   "execution_count": 27,
   "metadata": {},
   "outputs": [],
   "source": [
    "def best_param(model,params,X_train,y_train,X_valid,y_valid):\n",
    "    from sklearn.model_selection import ParameterGrid\n",
    "    max_accuracy = 0\n",
    "    best_config = None\n",
    "\n",
    "    for config in ParameterGrid(params):\n",
    "        clf = model(**config)\n",
    "        clf.fit(X_train,y_train)\n",
    "        y_pred_DT = clf.predict(X_valid)\n",
    "        val=(accuracy_score(y_valid,y_pred_DT))\n",
    "\n",
    "        if val > max_accuracy:\n",
    "                max_accuracy = val\n",
    "                best_config = config\n",
    "\n",
    "    print(\"Best Configuration:\")\n",
    "    for key, value in best_config.items():\n",
    "        print(f\"{key}: {value}\")\n",
    "    print(f\"Best Accuracy: {max_accuracy:.4f}\")\n",
    "    return y_pred_DT\n",
    "\n"
   ]
  },
  {
   "cell_type": "code",
   "execution_count": 28,
   "metadata": {},
   "outputs": [],
   "source": [
    "params_DesT ={ #Define the possible values of the parameters in the models\n",
    "     \"max_depth\": [None, 2, 4, 8],\n",
    "     \"splitter\": [\"best\", \"random\"],\n",
    "     \"max_features\":[13,7,3,10],\n",
    "     \"ccp_alpha\":[0,0.3,0.6,0.8]\n",
    "}\n",
    "\n",
    "params_Random_Forest={\n",
    "     \"criterion\" : [\"gini\",\"entropy\",\"log_loss\"],\n",
    "    \"max_depth\": [None, 100,2,50,15],\n",
    "    \"max_features\": ['sqrt', 'log2', 0.5,100],\n",
    "    \"max_leaf_nodes\": [None, 100,2,50,10],\n",
    "    \"ccp_alpha\": [0.0,0.7,0.4,0.2,]\n",
    "}\n",
    "\n",
    "params_GaussianNB={\n",
    "    \"var_smoothing\": [1e-9,0.05,0.1,0.5,0.005]\n",
    "}"
   ]
  },
  {
   "cell_type": "code",
   "execution_count": 29,
   "metadata": {},
   "outputs": [
    {
     "name": "stdout",
     "output_type": "stream",
     "text": [
      "Best Configuration:\n",
      "ccp_alpha: 0\n",
      "max_depth: 8\n",
      "max_features: 13\n",
      "splitter: best\n",
      "Best Accuracy: 0.2458\n"
     ]
    },
    {
     "data": {
      "text/plain": [
       "array(['7', '7', '7', '7', '7', '7', '7', '7', '7', '7', '7', '7', '7',\n",
       "       '7', '7', '7', '7', '7', '7', '7', '7', '7', '7', '7', '7', '7',\n",
       "       '7', '7', '7', '7', '7', '7', '7', '7', '7', '7', '7', '7', '7',\n",
       "       '7', '7', '7', '7', '7', '7', '7', '7', '7', '7', '7', '7', '7',\n",
       "       '7', '7', '7', '7', '7', '7', '7', '7', '7', '7', '7', '7', '7',\n",
       "       '7', '7', '7', '7', '7', '7', '7', '7', '7', '7', '7', '7', '7',\n",
       "       '7', '7', '7', '7', '7', '7', '7', '7', '7', '7', '7', '7', '7',\n",
       "       '7', '7', '7', '7', '7', '7', '7', '7', '7', '7', '7', '7', '7',\n",
       "       '7', '7', '7', '7', '7', '7', '7', '7', '7', '7', '7', '7', '7',\n",
       "       '7', '7', '7', '7', '7', '7', '7', '7', '7', '7', '7', '7', '7',\n",
       "       '7', '7', '7', '7', '7', '7', '7', '7', '7', '7', '7', '7', '7',\n",
       "       '7', '7', '7', '7', '7', '7', '7', '7', '7', '7', '7', '7', '7',\n",
       "       '7', '7', '7', '7', '7', '7', '7', '7', '7', '7', '7', '7', '7',\n",
       "       '7', '7', '7', '7', '7', '7', '7', '7', '7', '7', '7', '7', '7',\n",
       "       '7', '7', '7', '7', '7', '7', '7', '7', '7', '7', '7', '7', '7',\n",
       "       '7', '7', '7', '7', '7', '7', '7', '7', '7', '7', '7', '7', '7',\n",
       "       '7', '7', '7', '7', '7', '7', '7', '7', '7', '7', '7', '7', '7',\n",
       "       '7', '7', '7', '7', '7', '7', '7', '7', '7', '7', '7', '7', '7',\n",
       "       '7', '7', '7', '7', '7', '7'], dtype=object)"
      ]
     },
     "execution_count": 29,
     "metadata": {},
     "output_type": "execute_result"
    }
   ],
   "source": [
    "best_param(DecisionTreeClassifier,params_DesT,X_train,y_train,X_valid,y_valid)"
   ]
  },
  {
   "cell_type": "code",
   "execution_count": 30,
   "metadata": {},
   "outputs": [],
   "source": [
    "best_param(RandomForestClassifier,params_Random_Forest,X_train,y_train,X_valid,y_valid)"
   ]
  },
  {
   "cell_type": "code",
   "execution_count": null,
   "metadata": {},
   "outputs": [
    {
     "name": "stdout",
     "output_type": "stream",
     "text": [
      "Best Configuration:\n",
      "var_smoothing: 1e-09\n",
      "Best Accuracy: 0.2750\n"
     ]
    },
    {
     "data": {
      "text/plain": [
       "array(['2', '6', '3', '8', '2', '2', '4', '0', '2', '2', '2', '7', '2',\n",
       "       '2', '1', '2', '4', '2', '8', '8', '2', '2', '4', '8', '2', '0',\n",
       "       '0', '3', '2', '7', '2', '6', '0', '2', '2', '7', '3', '0', '0',\n",
       "       '2', '4', '6', '2', '4', '4', '0', '2', '6', '2', '2', '1', '7',\n",
       "       '4', '2', '7', '7', '3', '2', '2', '2', '2', '3', '2', '2', '2',\n",
       "       '8', '4', '7', '3', '8', '2', '2', '2', '2', '2', '2', '0', '7',\n",
       "       '2', '2', '2', '2', '8', '8', '2', '2', '2', '8', '2', '2', '2',\n",
       "       '2', '2', '8', '2', '2', '2', '2', '2', '8', '8', '2', '2', '2',\n",
       "       '7', '4', '2', '2', '2', '2', '2', '2', '2', '2', '2', '8', '3',\n",
       "       '2', '2', '8', '0', '3', '2', '2', '1', '0', '2', '2', '4', '0',\n",
       "       '2', '4', '4', '2', '2', '2', '2', '7', '2', '2', '7', '3', '0',\n",
       "       '8', '2', '2', '2', '4', '2', '2', '2', '1', '2', '2', '4', '2',\n",
       "       '3', '2', '2', '7', '2', '6', '2', '2', '2', '5', '4', '2', '0',\n",
       "       '2', '2', '2', '7', '3', '2', '2', '7', '0', '2', '4', '0', '2',\n",
       "       '2', '0', '2', '2', '2', '8', '2', '2', '2', '2', '5', '0', '4',\n",
       "       '8', '2', '2', '0', '2', '2', '2', '0', '8', '0', '2', '2', '2',\n",
       "       '0', '2', '2', '2', '2', '8', '0', '4', '7', '2', '2', '2', '0',\n",
       "       '8', '2', '4', '4', '2', '2', '2', '3', '2', '2', '2', '8', '2',\n",
       "       '2', '2', '2', '2', '0', '2'], dtype='<U1')"
      ]
     },
     "execution_count": 32,
     "metadata": {},
     "output_type": "execute_result"
    }
   ],
   "source": [
    "best_param(GaussianNB,params_GaussianNB,X_train,y_train,X_valid,y_valid)"
   ]
  },
  {
   "cell_type": "code",
   "execution_count": null,
   "metadata": {},
   "outputs": [
    {
     "name": "stdout",
     "output_type": "stream",
     "text": [
      "Best Configuration:\n",
      "ccp_alpha: 0\n",
      "max_depth: None\n",
      "max_features: 13\n",
      "splitter: random\n",
      "Best Accuracy: 0.2917\n"
     ]
    },
    {
     "data": {
      "text/plain": [
       "array(['4', '4', '4', '4', '4', '4', '4', '4', '4', '4', '4', '4', '4',\n",
       "       '4', '4', '4', '4', '4', '4', '4', '4', '4', '4', '4', '4', '4',\n",
       "       '4', '4', '4', '4', '4', '4', '4', '4', '4', '4', '4', '4', '4',\n",
       "       '4', '4', '4', '4', '4', '4', '4', '4', '4', '4', '4', '4', '4',\n",
       "       '4', '4', '4', '4', '4', '4', '4', '4', '4', '4', '4', '4', '4',\n",
       "       '4', '4', '4', '4', '4', '4', '4', '4', '4', '4', '4', '4', '4',\n",
       "       '4', '4', '4', '4', '4', '4', '4', '4', '4', '4', '4', '4', '4',\n",
       "       '4', '4', '4', '4', '4', '4', '4', '4', '4', '4', '4', '4', '4',\n",
       "       '4', '4', '4', '4', '4', '4', '4', '4', '4', '4', '4', '4', '4',\n",
       "       '4', '4', '4', '4', '4', '4', '4', '4', '4', '4', '4', '4', '4',\n",
       "       '4', '4', '4', '4', '4', '4', '4', '4', '4', '4', '4', '4', '4',\n",
       "       '4', '4', '4', '4', '4', '4', '4', '4', '4', '4', '4', '4', '4',\n",
       "       '4', '4', '4', '4', '4', '4', '4', '4', '4', '4', '4', '4', '4',\n",
       "       '4', '4', '4', '4', '4', '4', '4', '4', '4', '4', '4', '4', '4',\n",
       "       '4', '4', '4', '4', '4', '4', '4', '4', '4', '4', '4', '4', '4',\n",
       "       '4', '4', '4', '4', '4', '4', '4', '4', '4', '4', '4', '4', '4',\n",
       "       '4', '4', '4', '4', '4', '4', '4', '4', '4', '4', '4', '4', '4',\n",
       "       '4', '4', '4', '4', '4', '4', '4', '4', '4', '4', '4', '4', '4',\n",
       "       '4', '4', '4', '4', '4', '4'], dtype=object)"
      ]
     },
     "execution_count": 33,
     "metadata": {},
     "output_type": "execute_result"
    }
   ],
   "source": [
    "#Now we are gonna try with the normalized data\n",
    "best_param(DecisionTreeClassifier,params_DesT,s_train,y_train_1,s_valid,y_valid_1)"
   ]
  },
  {
   "cell_type": "code",
   "execution_count": null,
   "metadata": {},
   "outputs": [],
   "source": [
    "best_param(RandomForestClassifier,params_DesT,s_train,y_train_1,s_valid,y_valid_1)"
   ]
  },
  {
   "cell_type": "code",
   "execution_count": null,
   "metadata": {},
   "outputs": [],
   "source": [
    "best_param(GaussianNB,params_DesT,s_train,y_train_1,s_valid,y_valid_1)"
   ]
  },
  {
   "cell_type": "code",
   "execution_count": null,
   "metadata": {},
   "outputs": [],
   "source": [
    "#Now We are going to apply PCA\n",
    "from sklearn.decomposition import PCA\n",
    "pca = PCA(n_components=2)\n",
    "pca.fit_transform(x)"
   ]
  },
  {
   "cell_type": "code",
   "execution_count": null,
   "metadata": {},
   "outputs": [],
   "source": [
    "X_p=pca.fit_transform(standard)"
   ]
  },
  {
   "cell_type": "code",
   "execution_count": null,
   "metadata": {},
   "outputs": [],
   "source": [
    "#After the pca we can prove again the split and models\n",
    "from sklearn.model_selection import KFold\n",
    "# Split the datasets into two:\n",
    "# - X_train_valid: the dataset used for the k-fold cross-validation\n",
    "# - X_test: the dataset used for the final testing (this will NOT\n",
    "# be seen by the classifier during the training/validation phases)\n",
    "p_train_valid, p_test, y_train_valid_2, y_test_2 = train_test_split(X_p,y,test_size=0.2)\n",
    "kf = KFold(5) # 5-fold cross-validation\n",
    "# X and y are the arrays to be split\n",
    "for train_indices, validation_indices in kf.split(X_train_valid):\n",
    "    p_train = p_train_valid[train_indices]\n",
    "    p_valid = p_train_valid[validation_indices] #The valid values are use to find the best hyperparameters\n",
    "    y_train_2 = y_train_valid_2[train_indices]\n",
    "    y_valid_2 = y_train_valid_2[validation_indices]"
   ]
  },
  {
   "cell_type": "code",
   "execution_count": null,
   "metadata": {},
   "outputs": [],
   "source": [
    "best_param(DecisionTreeClassifier,params_DesT,p_train,y_train_2,p_valid,y_valid_2)"
   ]
  },
  {
   "cell_type": "code",
   "execution_count": null,
   "metadata": {},
   "outputs": [],
   "source": [
    "best_param(RandomForestClassifier,params_DesT,p_train,y_train_2,p_valid,y_valid_2)"
   ]
  },
  {
   "cell_type": "code",
   "execution_count": null,
   "metadata": {},
   "outputs": [],
   "source": [
    "best_param(GaussianNB,params_DesT,p_train,y_train_2,p_valid,y_valid_2)"
   ]
  }
 ],
 "metadata": {
  "kernelspec": {
   "display_name": "base",
   "language": "python",
   "name": "python3"
  },
  "language_info": {
   "codemirror_mode": {
    "name": "ipython",
    "version": 3
   },
   "file_extension": ".py",
   "mimetype": "text/x-python",
   "name": "python",
   "nbconvert_exporter": "python",
   "pygments_lexer": "ipython3",
   "version": "3.9.7"
  }
 },
 "nbformat": 4,
 "nbformat_minor": 2
}
