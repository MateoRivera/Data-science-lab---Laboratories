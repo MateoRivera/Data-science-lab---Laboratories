{
 "cells": [
  {
   "cell_type": "markdown",
   "metadata": {},
   "source": [
    "KNN design and implementation"
   ]
  },
  {
   "cell_type": "code",
   "execution_count": 69,
   "metadata": {},
   "outputs": [],
   "source": [
    "import pandas as pd\n",
    "import numpy as np\n",
    "from sklearn.model_selection import train_test_split\n",
    "from scipy.spatial.distance import cdist\n",
    "from sklearn.model_selection import KFold"
   ]
  },
  {
   "cell_type": "markdown",
   "metadata": {},
   "source": [
    "1"
   ]
  },
  {
   "cell_type": "code",
   "execution_count": 3,
   "metadata": {},
   "outputs": [],
   "source": [
    "df_iris = pd.read_csv(\n",
    "\"https://archive.ics.uci.edu/ml/machine-learning-databases/iris/iris.data\",\n",
    "header=None,\n",
    ")"
   ]
  },
  {
   "cell_type": "markdown",
   "metadata": {},
   "source": [
    "2 and 3"
   ]
  },
  {
   "cell_type": "code",
   "execution_count": 5,
   "metadata": {},
   "outputs": [],
   "source": [
    "X_iris, y_iris = df_iris.iloc[:, 0:4].values, df_iris.iloc[:, 4].values"
   ]
  },
  {
   "cell_type": "code",
   "execution_count": 6,
   "metadata": {},
   "outputs": [],
   "source": [
    "X_train_iris, X_test_iris, y_train_iris, y_test_iris = train_test_split(X_iris, y_iris, test_size=0.2, random_state=1)"
   ]
  },
  {
   "cell_type": "markdown",
   "metadata": {},
   "source": [
    "4, 5 and 6"
   ]
  },
  {
   "cell_type": "code",
   "execution_count": 7,
   "metadata": {},
   "outputs": [],
   "source": [
    "class KNearestNeighbors:\n",
    "    def __init__(self, k, distance_metric=\"euclidean\", weights=\"uniform\"):\n",
    "        self.k = k\n",
    "        self.X_train = None\n",
    "        self.y_train = None\n",
    "        self.weights = weights\n",
    "\n",
    "        if distance_metric == 'manhattan':\n",
    "            self.distance_metric = 'cityblock'\n",
    "        else:\n",
    "            self.distance_metric = distance_metric\n",
    "    \n",
    "    def fit(self, X, y):\n",
    "        \"\"\"\n",
    "        Store the 'prior knowledge' of you model that will be used\n",
    "        to predict new labels.\n",
    "        :param X : input data points, ndarray, shape = (R,C).\n",
    "        :param y : input labels, ndarray, shape = (R,).\n",
    "        \"\"\"\n",
    "        self.X_train = X\n",
    "        self.y_train = y\n",
    "        return self\n",
    "\n",
    "    def predict(self, X):\n",
    "        \"\"\"Run the KNN classification on X.\n",
    "        :param X: input data points, ndarray, shape = (N,C).\n",
    "        :return: labels : ndarray, shape = (N,).\n",
    "        \"\"\"\n",
    "        # 1. Compute the distances between X and X_train\n",
    "        distances = self.__distance(X)\n",
    "\n",
    "        # 2. Find the k nearest neighbors\n",
    "        k_nearest_neighbors = self.__nearest_neighbors(distances)\n",
    "\n",
    "        # 3. Find the majority class among the k nearest neighbors\n",
    "        return self.__majority_class(k_nearest_neighbors)\n",
    "\n",
    "\n",
    "    def __distance(self, X):\n",
    "        if self.weights == \"distance\":\n",
    "            return 1 / cdist(X, self.X_train, metric=self.distance_metric)\n",
    "        return cdist(X, self.X_train, metric=self.distance_metric)\n",
    "    \n",
    "    def __nearest_neighbors(self, distances):\n",
    "        return np.argsort(distances, axis=1)[:, :self.k]\n",
    "    \n",
    "    def __majority_class(self, k_nearest_neighbors):\n",
    "        return np.apply_along_axis(self.__counting_votes, axis=1, arr=self.y_train[k_nearest_neighbors])\n",
    "    \n",
    "    def __counting_votes(self, votes):\n",
    "        labels, counts = np.unique(votes, return_counts=True)\n",
    "        return labels[np.argmax(counts)]\n",
    "        "
   ]
  },
  {
   "cell_type": "markdown",
   "metadata": {},
   "source": [
    "7"
   ]
  },
  {
   "cell_type": "code",
   "execution_count": 8,
   "metadata": {},
   "outputs": [
    {
     "data": {
      "text/plain": [
       "array(['Iris-setosa', 'Iris-versic', 'Iris-versic', 'Iris-setosa',\n",
       "       'Iris-virgin', 'Iris-versic', 'Iris-virgin', 'Iris-setosa',\n",
       "       'Iris-setosa', 'Iris-virgin', 'Iris-versic', 'Iris-setosa',\n",
       "       'Iris-virgin', 'Iris-versic', 'Iris-versic', 'Iris-setosa',\n",
       "       'Iris-versic', 'Iris-versic', 'Iris-setosa', 'Iris-setosa',\n",
       "       'Iris-versic', 'Iris-versic', 'Iris-versic', 'Iris-setosa',\n",
       "       'Iris-virgin', 'Iris-versic', 'Iris-setosa', 'Iris-setosa',\n",
       "       'Iris-versic', 'Iris-virgin'], dtype='<U11')"
      ]
     },
     "execution_count": 8,
     "metadata": {},
     "output_type": "execute_result"
    }
   ],
   "source": [
    "y_pred_iris = KNearestNeighbors(k=5).fit(X_train_iris, y_train_iris).predict(X_test_iris)\n",
    "y_pred_iris"
   ]
  },
  {
   "cell_type": "code",
   "execution_count": 9,
   "metadata": {},
   "outputs": [
    {
     "data": {
      "text/plain": [
       "array([ True,  True,  True,  True,  True,  True,  True,  True,  True,\n",
       "        True,  True,  True,  True,  True,  True,  True,  True,  True,\n",
       "        True,  True,  True,  True,  True,  True,  True,  True,  True,\n",
       "        True,  True,  True])"
      ]
     },
     "execution_count": 9,
     "metadata": {},
     "output_type": "execute_result"
    }
   ],
   "source": [
    "y_pred_iris == y_test_iris.astype('U11')"
   ]
  },
  {
   "cell_type": "code",
   "execution_count": 10,
   "metadata": {},
   "outputs": [
    {
     "data": {
      "text/plain": [
       "True"
      ]
     },
     "execution_count": 10,
     "metadata": {},
     "output_type": "execute_result"
    }
   ],
   "source": [
    "((y_pred_iris == y_test_iris.astype('U11')).all() == True)"
   ]
  },
  {
   "cell_type": "markdown",
   "metadata": {},
   "source": [
    "9"
   ]
  },
  {
   "cell_type": "code",
   "execution_count": 56,
   "metadata": {},
   "outputs": [],
   "source": [
    "df_mnist_full = pd.read_csv(\n",
    "\"https://raw.githubusercontent.com/dbdmg/data-science-lab/master/datasets/mnist_test.csv\",\n",
    "header=None,\n",
    ")"
   ]
  },
  {
   "cell_type": "code",
   "execution_count": 58,
   "metadata": {},
   "outputs": [],
   "source": [
    "df_mnist_sampled_per_number = [ df_mnist_full[df_mnist_full.iloc[:, 0] == i].sample(10, random_state=0) for i in range(10)]\n",
    "df_mnist_sampled = pd.concat(df_mnist_sampled_per_number)\n"
   ]
  },
  {
   "cell_type": "code",
   "execution_count": 62,
   "metadata": {},
   "outputs": [],
   "source": [
    "X_mnist, y_mnist = df_mnist_sampled.iloc[:, 1:].values, df_mnist_sampled.iloc[:, 0].values"
   ]
  },
  {
   "cell_type": "code",
   "execution_count": 63,
   "metadata": {},
   "outputs": [],
   "source": [
    "X_train_mnist, X_test_mnist, y_train_mnist, y_test_mnist = train_test_split(X_mnist, y_mnist, test_size=0.2, random_state=1)"
   ]
  },
  {
   "cell_type": "code",
   "execution_count": 64,
   "metadata": {},
   "outputs": [
    {
     "data": {
      "text/plain": [
       "array([4, 8, 3, 8, 9, 1, 1, 5, 5, 6, 9, 1, 1, 1, 1, 3, 3, 1, 1, 1],\n",
       "      dtype=int64)"
      ]
     },
     "execution_count": 64,
     "metadata": {},
     "output_type": "execute_result"
    }
   ],
   "source": [
    "y_pred_mnist = KNearestNeighbors(k=5).fit(X_train_mnist, y_train_mnist).predict(X_test_mnist)\n",
    "y_pred_mnist"
   ]
  },
  {
   "cell_type": "code",
   "execution_count": 66,
   "metadata": {},
   "outputs": [
    {
     "data": {
      "text/plain": [
       "array([8, 8, 3, 8, 9, 1, 3, 8, 6, 6, 9, 3, 5, 5, 5, 3, 3, 4, 7, 1],\n",
       "      dtype=int64)"
      ]
     },
     "execution_count": 66,
     "metadata": {},
     "output_type": "execute_result"
    }
   ],
   "source": [
    "y_test_mnist"
   ]
  },
  {
   "cell_type": "code",
   "execution_count": 65,
   "metadata": {},
   "outputs": [
    {
     "data": {
      "text/plain": [
       "False"
      ]
     },
     "execution_count": 65,
     "metadata": {},
     "output_type": "execute_result"
    }
   ],
   "source": [
    "((y_pred_mnist == y_test_mnist).all() == True)"
   ]
  },
  {
   "cell_type": "code",
   "execution_count": 68,
   "metadata": {},
   "outputs": [
    {
     "data": {
      "text/plain": [
       "False"
      ]
     },
     "execution_count": 68,
     "metadata": {},
     "output_type": "execute_result"
    }
   ],
   "source": [
    "((y_pred_mnist == y_pred_mnist).any() == False)"
   ]
  },
  {
   "cell_type": "markdown",
   "metadata": {},
   "source": [
    "10"
   ]
  },
  {
   "cell_type": "code",
   "execution_count": 75,
   "metadata": {},
   "outputs": [
    {
     "data": {
      "text/plain": [
       "[1, 3, 5, 7, 9, 11, 13, 15, 17, 19]"
      ]
     },
     "execution_count": 75,
     "metadata": {},
     "output_type": "execute_result"
    }
   ],
   "source": [
    "ks = list(range(1, 20, 2))\n",
    "ks"
   ]
  },
  {
   "cell_type": "markdown",
   "metadata": {},
   "source": [
    "KFold for iris"
   ]
  },
  {
   "cell_type": "code",
   "execution_count": 73,
   "metadata": {},
   "outputs": [
    {
     "name": "stdout",
     "output_type": "stream",
     "text": [
      "K=1 - Accuracy: 0.725 ± 0.19112241568632857\n",
      "K=3 - Accuracy: 0.7250000000000001 ± 0.20682789409984764\n",
      "K=5 - Accuracy: 0.7166666666666667 ± 0.19790570145063197\n",
      "K=7 - Accuracy: 0.7500000000000001 ± 0.21889875894272828\n",
      "K=9 - Accuracy: 0.7583333333333334 ± 0.19965247584518234\n",
      "K=11 - Accuracy: 0.7583333333333334 ± 0.21311186420907371\n",
      "K=13 - Accuracy: 0.7500000000000001 ± 0.2041241452319315\n",
      "K=15 - Accuracy: 0.7500000000000001 ± 0.2041241452319315\n",
      "K=17 - Accuracy: 0.7416666666666668 ± 0.20982797186690286\n",
      "K=19 - Accuracy: 0.7333333333333334 ± 0.20172864061517007\n"
     ]
    }
   ],
   "source": [
    "accuracies = []\n",
    "for k in ks:\n",
    "    accuracies_per_fold = []\n",
    "    for train_index, test_index in KFold(n_splits=5).split(X_train_iris):\n",
    "        X_train, X_test = X_train_iris[train_index], X_train_iris[test_index]\n",
    "        y_train, y_test = y_train_iris[train_index], y_train_iris[test_index]\n",
    "        y_pred = KNearestNeighbors(k=k).fit(X_train, y_train).predict(X_test)\n",
    "        accuracies_per_fold.append(np.mean(y_pred == y_test))\n",
    "    accuracies.append((np.mean(accuracies_per_fold), np.std(accuracies_per_fold)))\n",
    "    print(f\"K={k} - Accuracy: {accuracies[-1][0]} ± {accuracies[-1][1]}\")"
   ]
  },
  {
   "cell_type": "markdown",
   "metadata": {},
   "source": [
    "KFold for MNIST"
   ]
  },
  {
   "cell_type": "code",
   "execution_count": 76,
   "metadata": {},
   "outputs": [
    {
     "name": "stdout",
     "output_type": "stream",
     "text": [
      "K=1 - Accuracy: 0.7625 ± 0.09999999999999999\n",
      "K=3 - Accuracy: 0.675 ± 0.12119199643540823\n",
      "K=5 - Accuracy: 0.625 ± 0.11858541225631422\n",
      "K=7 - Accuracy: 0.525 ± 0.1224744871391589\n",
      "K=9 - Accuracy: 0.5375 ± 0.1403121520040228\n",
      "K=11 - Accuracy: 0.5125 ± 0.1446979612848778\n",
      "K=13 - Accuracy: 0.5 ± 0.11180339887498948\n",
      "K=15 - Accuracy: 0.4625 ± 0.1159202311936963\n",
      "K=17 - Accuracy: 0.425 ± 0.1\n",
      "K=19 - Accuracy: 0.425 ± 0.1\n"
     ]
    }
   ],
   "source": [
    "accuracies = []\n",
    "for k in ks:\n",
    "    accuracies_per_fold = []\n",
    "    for train_index, test_index in KFold(n_splits=5).split(X_train_mnist):\n",
    "        X_train, X_test = X_train_mnist[train_index], X_train_mnist[test_index]\n",
    "        y_train, y_test = y_train_mnist[train_index], y_train_mnist[test_index]\n",
    "        y_pred = KNearestNeighbors(k=k).fit(X_train, y_train).predict(X_test)\n",
    "        accuracies_per_fold.append(np.mean(y_pred == y_test))\n",
    "    accuracies.append((np.mean(accuracies_per_fold), np.std(accuracies_per_fold)))\n",
    "    print(f\"K={k} - Accuracy: {accuracies[-1][0]} ± {accuracies[-1][1]}\")"
   ]
  },
  {
   "cell_type": "markdown",
   "metadata": {},
   "source": [
    "# Test space"
   ]
  },
  {
   "cell_type": "code",
   "execution_count": 24,
   "metadata": {},
   "outputs": [
    {
     "ename": "NameError",
     "evalue": "name 'coords2' is not defined",
     "output_type": "error",
     "traceback": [
      "\u001b[1;31m---------------------------------------------------------------------------\u001b[0m",
      "\u001b[1;31mNameError\u001b[0m                                 Traceback (most recent call last)",
      "\u001b[1;32mc:\\Users\\mateo\\Documents\\TODO\\Ingeniería\\Ingeniería de Sistemas U. de A\\PoliTo\\SEMESTRES\\Primer año\\Data science lab - Process and methods\\Data science lab - Laboratories\\Laboratory 4\\lab4Mateo.ipynb Cell 17\u001b[0m line \u001b[0;36m1\n\u001b[1;32m----> <a href='vscode-notebook-cell:/c%3A/Users/mateo/Documents/TODO/Ingenier%C3%ADa/Ingenier%C3%ADa%20de%20Sistemas%20U.%20de%20A/PoliTo/SEMESTRES/Primer%20a%C3%B1o/Data%20science%20lab%20-%20Process%20and%20methods/Data%20science%20lab%20-%20Laboratories/Laboratory%204/lab4Mateo.ipynb#X21sZmlsZQ%3D%3D?line=0'>1</a>\u001b[0m knn \u001b[39m=\u001b[39m KNearestNeighbors(k\u001b[39m=\u001b[39m\u001b[39m3\u001b[39m)\u001b[39m.\u001b[39mfit(coords2, y)\n",
      "\u001b[1;31mNameError\u001b[0m: name 'coords2' is not defined"
     ]
    }
   ],
   "source": [
    "knn = KNearestNeighbors(k=3).fit(coords2, y)"
   ]
  },
  {
   "cell_type": "code",
   "execution_count": 41,
   "metadata": {},
   "outputs": [
    {
     "data": {
      "text/plain": [
       "array([[0.        , 4.70444794, 1.6171966 , 5.24298816, 0.29610002],\n",
       "       [4.70444794, 0.        , 6.0892811 , 7.92556272, 5.00051406],\n",
       "       [1.6171966 , 6.0892811 , 0.        , 6.        , 1.38497279],\n",
       "       [1.88558331, 3.35605413, 2.84770898, 6.81441461, 2.13089414],\n",
       "       [1.86902085, 3.35603469, 2.84016572, 6.79415494, 2.11537169],\n",
       "       [1.72738018, 3.43208273, 2.7284205 , 6.66509403, 1.97527177]])"
      ]
     },
     "execution_count": 41,
     "metadata": {},
     "output_type": "execute_result"
    }
   ],
   "source": [
    "coords1 = [(35.0456, -85.2672),\n",
    "          (35.1174, -89.9711),\n",
    "          (35.9728, -83.9422),\n",
    "          (36.1667, -86.7833),\n",
    "          (36.1473, -86.7770),\n",
    "          (36.0544, -86.6694),]\n",
    "\n",
    "coords2 = [(35.0456, -85.2672),\n",
    "          (35.1174, -89.9711),\n",
    "          (35.9728, -83.9422),\n",
    "          (29.9728, -83.9422),\n",
    "          (35.0457, -84.9711),]\n",
    "distances = cdist(coords1, coords2, 'euclidean')\n",
    "distances"
   ]
  },
  {
   "cell_type": "code",
   "execution_count": 42,
   "metadata": {},
   "outputs": [
    {
     "name": "stderr",
     "output_type": "stream",
     "text": [
      "C:\\Users\\mateo\\AppData\\Local\\Temp\\ipykernel_21852\\1245022006.py:1: RuntimeWarning: divide by zero encountered in divide\n",
      "  1/distances\n"
     ]
    },
    {
     "data": {
      "text/plain": [
       "array([[       inf, 0.21256479, 0.61835401, 0.19073093, 3.37723723],\n",
       "       [0.21256479,        inf, 0.164223  , 0.12617401, 0.19997944],\n",
       "       [0.61835401, 0.164223  ,        inf, 0.16666667, 0.72203585],\n",
       "       [0.53033987, 0.29796897, 0.35115948, 0.14674775, 0.46928657],\n",
       "       [0.53503951, 0.2979707 , 0.35209213, 0.14718534, 0.47273016],\n",
       "       [0.57891136, 0.29136827, 0.36651242, 0.15003539, 0.50625945]])"
      ]
     },
     "execution_count": 42,
     "metadata": {},
     "output_type": "execute_result"
    }
   ],
   "source": [
    "1/distances"
   ]
  },
  {
   "cell_type": "code",
   "execution_count": 4,
   "metadata": {},
   "outputs": [],
   "source": [
    "y = np.array([0, 0, 1, 1, 1])"
   ]
  },
  {
   "cell_type": "code",
   "execution_count": 36,
   "metadata": {},
   "outputs": [
    {
     "data": {
      "text/plain": [
       "array([[0, 4, 2, 1, 3],\n",
       "       [1, 0, 4, 2, 3],\n",
       "       [2, 4, 0, 3, 1],\n",
       "       [0, 4, 2, 1, 3],\n",
       "       [0, 4, 2, 1, 3],\n",
       "       [0, 4, 2, 1, 3]], dtype=int64)"
      ]
     },
     "execution_count": 36,
     "metadata": {},
     "output_type": "execute_result"
    }
   ],
   "source": [
    "args = np.argsort(distances, axis=1)\n",
    "args"
   ]
  },
  {
   "cell_type": "code",
   "execution_count": 44,
   "metadata": {},
   "outputs": [
    {
     "data": {
      "text/plain": [
       "array([[0, 4, 2],\n",
       "       [1, 0, 4],\n",
       "       [2, 4, 0],\n",
       "       [0, 4, 2],\n",
       "       [0, 4, 2],\n",
       "       [0, 4, 2]], dtype=int64)"
      ]
     },
     "execution_count": 44,
     "metadata": {},
     "output_type": "execute_result"
    }
   ],
   "source": [
    "k_mas_cercanos = args[:, :3]\n",
    "k_mas_cercanos"
   ]
  },
  {
   "cell_type": "code",
   "execution_count": 75,
   "metadata": {},
   "outputs": [
    {
     "data": {
      "text/plain": [
       "array([[0, 1, 1],\n",
       "       [0, 0, 1],\n",
       "       [1, 1, 0],\n",
       "       [0, 1, 1],\n",
       "       [0, 1, 1],\n",
       "       [0, 1, 1]])"
      ]
     },
     "execution_count": 75,
     "metadata": {},
     "output_type": "execute_result"
    }
   ],
   "source": [
    "y[k_mas_cercanos]"
   ]
  },
  {
   "cell_type": "code",
   "execution_count": 117,
   "metadata": {},
   "outputs": [],
   "source": [
    "y = np.array([0, 0, 1, 1, 1])"
   ]
  },
  {
   "cell_type": "code",
   "execution_count": 126,
   "metadata": {},
   "outputs": [
    {
     "data": {
      "text/plain": [
       "array([1, 0, 1, 1, 1, 1])"
      ]
     },
     "execution_count": 126,
     "metadata": {},
     "output_type": "execute_result"
    }
   ],
   "source": [
    "def most_voted(votes):\n",
    "    labels, counts = np.unique(votes, return_counts=True)\n",
    "    return labels[np.argmax(counts)]\n",
    "    \n",
    "np.apply_along_axis(most_voted, axis=1, arr=y[k_mas_cercanos])"
   ]
  },
  {
   "cell_type": "code",
   "execution_count": 78,
   "metadata": {},
   "outputs": [
    {
     "data": {
      "text/plain": [
       "(array([0, 1]), array([1, 2], dtype=int64))"
      ]
     },
     "execution_count": 78,
     "metadata": {},
     "output_type": "execute_result"
    }
   ],
   "source": [
    "labels, counts = np.unique(y[k_mas_cercanos][0], return_counts=True)\n",
    "labels, counts"
   ]
  },
  {
   "cell_type": "code",
   "execution_count": 79,
   "metadata": {},
   "outputs": [],
   "source": [
    "most_voted = labels[counts.argmax()]"
   ]
  },
  {
   "cell_type": "code",
   "execution_count": 80,
   "metadata": {},
   "outputs": [
    {
     "data": {
      "text/plain": [
       "1"
      ]
     },
     "execution_count": 80,
     "metadata": {},
     "output_type": "execute_result"
    }
   ],
   "source": [
    "most_voted"
   ]
  }
 ],
 "metadata": {
  "kernelspec": {
   "display_name": "base",
   "language": "python",
   "name": "python3"
  },
  "language_info": {
   "codemirror_mode": {
    "name": "ipython",
    "version": 3
   },
   "file_extension": ".py",
   "mimetype": "text/x-python",
   "name": "python",
   "nbconvert_exporter": "python",
   "pygments_lexer": "ipython3",
   "version": "3.11.5"
  }
 },
 "nbformat": 4,
 "nbformat_minor": 2
}
