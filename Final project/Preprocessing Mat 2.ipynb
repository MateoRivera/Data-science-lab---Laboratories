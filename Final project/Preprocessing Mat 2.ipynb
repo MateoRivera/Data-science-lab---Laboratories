{
 "cells": [
  {
   "cell_type": "markdown",
   "metadata": {},
   "source": [
    "## Libraries"
   ]
  },
  {
   "cell_type": "code",
   "execution_count": 1,
   "metadata": {},
   "outputs": [],
   "source": [
    "# For handling data\n",
    "import numpy as np\n",
    "import pandas as pd\n",
    "from sklearn.model_selection import train_test_split\n",
    "\n",
    "# For plotting\n",
    "import matplotlib.pyplot as plt\n",
    "import seaborn as sns\n",
    "sns.set()\n",
    "\n",
    "# For Outlier Detection\n",
    "from sklearn.ensemble import IsolationForest\n",
    "\n",
    "# For Dimensionality Reduction\n",
    "from sklearn.feature_selection import SequentialFeatureSelector\n",
    "from sklearn.preprocessing import StandardScaler\n",
    "from sklearn.decomposition import PCA\n",
    "\n",
    "# For evaluating the performance of the preprocessing\n",
    "from sklearn.multioutput import MultiOutputRegressor\n",
    "from sklearn.ensemble import RandomForestRegressor\n",
    "from sklearn.neighbors import KNeighborsRegressor\n",
    "\n",
    "def mean_euclidean_distance_error(estimator, X_test, y_test):\n",
    "    from scipy.spatial.distance import euclidean\n",
    "    import numpy as np\n",
    "    y_pred = estimator.predict(X_test)\n",
    "    euclidean_distances = [euclidean(y_test_i, y_pred_i) for y_test_i, y_pred_i in zip(y_test, y_pred)]\n",
    "    return np.mean(euclidean_distances), np.std(euclidean_distances)\n",
    "\n"
   ]
  },
  {
   "cell_type": "markdown",
   "metadata": {},
   "source": [
    "# Understanding the database ```development.csv```"
   ]
  },
  {
   "cell_type": "code",
   "execution_count": 2,
   "metadata": {},
   "outputs": [],
   "source": [
    "path = '/kaggle/input/winterproject/'\n",
    "df = pd.read_csv(path + 'development.csv')"
   ]
  },
  {
   "cell_type": "code",
   "execution_count": 3,
   "metadata": {},
   "outputs": [
    {
     "data": {
      "text/html": [
       "<div>\n",
       "<style scoped>\n",
       "    .dataframe tbody tr th:only-of-type {\n",
       "        vertical-align: middle;\n",
       "    }\n",
       "\n",
       "    .dataframe tbody tr th {\n",
       "        vertical-align: top;\n",
       "    }\n",
       "\n",
       "    .dataframe thead th {\n",
       "        text-align: right;\n",
       "    }\n",
       "</style>\n",
       "<table border=\"1\" class=\"dataframe\">\n",
       "  <thead>\n",
       "    <tr style=\"text-align: right;\">\n",
       "      <th></th>\n",
       "      <th>x</th>\n",
       "      <th>y</th>\n",
       "      <th>pmax[0]</th>\n",
       "      <th>negpmax[0]</th>\n",
       "      <th>area[0]</th>\n",
       "      <th>tmax[0]</th>\n",
       "      <th>rms[0]</th>\n",
       "      <th>pmax[1]</th>\n",
       "      <th>negpmax[1]</th>\n",
       "      <th>area[1]</th>\n",
       "      <th>...</th>\n",
       "      <th>pmax[16]</th>\n",
       "      <th>negpmax[16]</th>\n",
       "      <th>area[16]</th>\n",
       "      <th>tmax[16]</th>\n",
       "      <th>rms[16]</th>\n",
       "      <th>pmax[17]</th>\n",
       "      <th>negpmax[17]</th>\n",
       "      <th>area[17]</th>\n",
       "      <th>tmax[17]</th>\n",
       "      <th>rms[17]</th>\n",
       "    </tr>\n",
       "  </thead>\n",
       "  <tbody>\n",
       "    <tr>\n",
       "      <th>0</th>\n",
       "      <td>200.0</td>\n",
       "      <td>200.0</td>\n",
       "      <td>4.066907</td>\n",
       "      <td>-17.690173</td>\n",
       "      <td>2.847932</td>\n",
       "      <td>0.600000</td>\n",
       "      <td>2.007042</td>\n",
       "      <td>5.409161</td>\n",
       "      <td>-17.721210</td>\n",
       "      <td>4.538778</td>\n",
       "      <td>...</td>\n",
       "      <td>607.109118</td>\n",
       "      <td>-36.282996</td>\n",
       "      <td>583.899899</td>\n",
       "      <td>72.373094</td>\n",
       "      <td>0.374498</td>\n",
       "      <td>614.916861</td>\n",
       "      <td>-39.848523</td>\n",
       "      <td>591.852768</td>\n",
       "      <td>72.331028</td>\n",
       "      <td>0.405595</td>\n",
       "    </tr>\n",
       "    <tr>\n",
       "      <th>1</th>\n",
       "      <td>200.0</td>\n",
       "      <td>200.0</td>\n",
       "      <td>5.916801</td>\n",
       "      <td>-4.717111</td>\n",
       "      <td>5.792778</td>\n",
       "      <td>79.765174</td>\n",
       "      <td>1.564535</td>\n",
       "      <td>4.414289</td>\n",
       "      <td>-4.736827</td>\n",
       "      <td>3.720435</td>\n",
       "      <td>...</td>\n",
       "      <td>630.348007</td>\n",
       "      <td>-39.715988</td>\n",
       "      <td>580.042799</td>\n",
       "      <td>71.029155</td>\n",
       "      <td>0.403258</td>\n",
       "      <td>624.950701</td>\n",
       "      <td>-41.266681</td>\n",
       "      <td>586.569646</td>\n",
       "      <td>71.089058</td>\n",
       "      <td>0.405890</td>\n",
       "    </tr>\n",
       "    <tr>\n",
       "      <th>2</th>\n",
       "      <td>200.0</td>\n",
       "      <td>200.0</td>\n",
       "      <td>4.286652</td>\n",
       "      <td>-5.316132</td>\n",
       "      <td>2.356390</td>\n",
       "      <td>74.600000</td>\n",
       "      <td>1.404622</td>\n",
       "      <td>4.567191</td>\n",
       "      <td>-5.985437</td>\n",
       "      <td>3.490490</td>\n",
       "      <td>...</td>\n",
       "      <td>613.880342</td>\n",
       "      <td>-40.679678</td>\n",
       "      <td>580.407491</td>\n",
       "      <td>71.892264</td>\n",
       "      <td>0.568777</td>\n",
       "      <td>596.437125</td>\n",
       "      <td>-42.712286</td>\n",
       "      <td>574.091695</td>\n",
       "      <td>71.943934</td>\n",
       "      <td>0.498019</td>\n",
       "    </tr>\n",
       "    <tr>\n",
       "      <th>3</th>\n",
       "      <td>200.0</td>\n",
       "      <td>200.0</td>\n",
       "      <td>4.003635</td>\n",
       "      <td>-4.617459</td>\n",
       "      <td>2.189005</td>\n",
       "      <td>43.000000</td>\n",
       "      <td>1.512162</td>\n",
       "      <td>5.019058</td>\n",
       "      <td>-4.229949</td>\n",
       "      <td>6.786200</td>\n",
       "      <td>...</td>\n",
       "      <td>600.714957</td>\n",
       "      <td>-43.206601</td>\n",
       "      <td>579.882635</td>\n",
       "      <td>72.357388</td>\n",
       "      <td>0.255483</td>\n",
       "      <td>591.763739</td>\n",
       "      <td>-50.681940</td>\n",
       "      <td>584.099483</td>\n",
       "      <td>72.333282</td>\n",
       "      <td>0.336454</td>\n",
       "    </tr>\n",
       "    <tr>\n",
       "      <th>4</th>\n",
       "      <td>200.0</td>\n",
       "      <td>200.0</td>\n",
       "      <td>4.448146</td>\n",
       "      <td>-4.848743</td>\n",
       "      <td>3.997002</td>\n",
       "      <td>196.667482</td>\n",
       "      <td>1.101113</td>\n",
       "      <td>3.250262</td>\n",
       "      <td>-5.783587</td>\n",
       "      <td>2.449456</td>\n",
       "      <td>...</td>\n",
       "      <td>609.723785</td>\n",
       "      <td>-43.570892</td>\n",
       "      <td>590.156125</td>\n",
       "      <td>71.249130</td>\n",
       "      <td>0.413855</td>\n",
       "      <td>606.917023</td>\n",
       "      <td>-49.923819</td>\n",
       "      <td>584.316142</td>\n",
       "      <td>71.242904</td>\n",
       "      <td>0.293824</td>\n",
       "    </tr>\n",
       "  </tbody>\n",
       "</table>\n",
       "<p>5 rows × 92 columns</p>\n",
       "</div>"
      ],
      "text/plain": [
       "       x      y   pmax[0]  negpmax[0]   area[0]     tmax[0]    rms[0]  \\\n",
       "0  200.0  200.0  4.066907  -17.690173  2.847932    0.600000  2.007042   \n",
       "1  200.0  200.0  5.916801   -4.717111  5.792778   79.765174  1.564535   \n",
       "2  200.0  200.0  4.286652   -5.316132  2.356390   74.600000  1.404622   \n",
       "3  200.0  200.0  4.003635   -4.617459  2.189005   43.000000  1.512162   \n",
       "4  200.0  200.0  4.448146   -4.848743  3.997002  196.667482  1.101113   \n",
       "\n",
       "    pmax[1]  negpmax[1]   area[1]  ...    pmax[16]  negpmax[16]    area[16]  \\\n",
       "0  5.409161  -17.721210  4.538778  ...  607.109118   -36.282996  583.899899   \n",
       "1  4.414289   -4.736827  3.720435  ...  630.348007   -39.715988  580.042799   \n",
       "2  4.567191   -5.985437  3.490490  ...  613.880342   -40.679678  580.407491   \n",
       "3  5.019058   -4.229949  6.786200  ...  600.714957   -43.206601  579.882635   \n",
       "4  3.250262   -5.783587  2.449456  ...  609.723785   -43.570892  590.156125   \n",
       "\n",
       "    tmax[16]   rms[16]    pmax[17]  negpmax[17]    area[17]   tmax[17]  \\\n",
       "0  72.373094  0.374498  614.916861   -39.848523  591.852768  72.331028   \n",
       "1  71.029155  0.403258  624.950701   -41.266681  586.569646  71.089058   \n",
       "2  71.892264  0.568777  596.437125   -42.712286  574.091695  71.943934   \n",
       "3  72.357388  0.255483  591.763739   -50.681940  584.099483  72.333282   \n",
       "4  71.249130  0.413855  606.917023   -49.923819  584.316142  71.242904   \n",
       "\n",
       "    rms[17]  \n",
       "0  0.405595  \n",
       "1  0.405890  \n",
       "2  0.498019  \n",
       "3  0.336454  \n",
       "4  0.293824  \n",
       "\n",
       "[5 rows x 92 columns]"
      ]
     },
     "execution_count": 3,
     "metadata": {},
     "output_type": "execute_result"
    }
   ],
   "source": [
    "# Let's see what we have\n",
    "df.head()"
   ]
  },
  {
   "cell_type": "code",
   "execution_count": 4,
   "metadata": {},
   "outputs": [],
   "source": [
    "# Let's split the data into X and y (We have two variables to predict: x and y)\n",
    "X = df.loc[:, 'pmax[0]':]\n",
    "y = df[['x', 'y']]"
   ]
  },
  {
   "cell_type": "code",
   "execution_count": 5,
   "metadata": {},
   "outputs": [
    {
     "data": {
      "text/plain": [
       "0"
      ]
     },
     "execution_count": 5,
     "metadata": {},
     "output_type": "execute_result"
    }
   ],
   "source": [
    "# There is not na data\n",
    "X.isna().sum().sum()"
   ]
  },
  {
   "cell_type": "code",
   "execution_count": 9,
   "metadata": {},
   "outputs": [],
   "source": [
    "# Let's split X, y into train_val and test sets\n",
    "X_train_val, X_test, y_train_val, y_test = train_test_split(X.values, y.values, test_size=0.3, random_state=8)\n",
    "\n",
    "# Let's split X_train_val and y_train_val into train and validation sets\n",
    "X_train, X_val, y_train, y_val = train_test_split(X_train_val, y_train_val, test_size=0.2, random_state=8)"
   ]
  },
  {
   "cell_type": "markdown",
   "metadata": {},
   "source": [
    "## [Feature reduction] Applying SFS on each feature extracted\n",
    "We have seen that dropping the correlated features does not improve the performance of the regressor, now, let's try another approach:\n",
    "\n",
    "Apply Sequential Feature Selection on each feature extracted (On ```pmax```, ```negpmax```, ...), this could be a solution for reducing noise in our dataset because in the description of the project says that there are only 12 pads but 18 readings of each features are provided (A subset of the 18 features, as such, does not contain actual readings but rather noise)."
   ]
  },
  {
   "cell_type": "code",
   "execution_count": 22,
   "metadata": {},
   "outputs": [],
   "source": [
    "features_extracted = ['pmax', 'negpmax', 'tmax', 'area', 'rms']\n",
    "SFS_params = { feature: {\n",
    "    'estimator': MultiOutputRegressor(KNeighborsRegressor(n_jobs=-1), n_jobs=-1),\n",
    "    'X': pd.DataFrame(X_train, columns=X.columns)[[f'{feature}[{i}]' for i in range(0, 17 + 1)]].values\n",
    "    } for feature in features_extracted\n",
    "}"
   ]
  },
  {
   "cell_type": "code",
   "execution_count": 23,
   "metadata": {},
   "outputs": [],
   "source": [
    "SFSs = { feature: SequentialFeatureSelector(SFS_params[feature]['estimator'], n_features_to_select=12, n_jobs=-1) for feature in features_extracted }"
   ]
  },
  {
   "cell_type": "code",
   "execution_count": 21,
   "metadata": {},
   "outputs": [],
   "source": [
    "for feature in features_extracted:\n",
    "    SFSs[feature].fit(SFS_params[feature]['X'], y_train)"
   ]
  },
  {
   "cell_type": "code",
   "execution_count": 48,
   "metadata": {},
   "outputs": [],
   "source": [
    "for i, feature in enumerate(features_extracted):\n",
    "    print(feature, SFSs[feature].get_support())\n",
    "    pd.DataFrame(SFS_params[feature]['X'], columns=[f'{feature}[{i}]' for i in range(0, 17 + 1)]).loc[:, SFSs[feature].get_support()].to_csv(path + f'X_{feature}.csv', index=False)"
   ]
  }
 ],
 "metadata": {
  "kernelspec": {
   "display_name": "base",
   "language": "python",
   "name": "python3"
  },
  "language_info": {
   "codemirror_mode": {
    "name": "ipython",
    "version": 3
   },
   "file_extension": ".py",
   "mimetype": "text/x-python",
   "name": "python",
   "nbconvert_exporter": "python",
   "pygments_lexer": "ipython3",
   "version": "3.11.5"
  }
 },
 "nbformat": 4,
 "nbformat_minor": 2
}
