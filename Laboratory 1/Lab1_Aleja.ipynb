{
 "cells": [
  {
   "cell_type": "code",
   "execution_count": 249,
   "metadata": {},
   "outputs": [],
   "source": [
    "import pandas as pd\n",
    "import numpy as np\n",
    "import math \n",
    "from collections import Counter"
   ]
  },
  {
   "cell_type": "code",
   "execution_count": 250,
   "metadata": {},
   "outputs": [
    {
     "name": "stdout",
     "output_type": "stream",
     "text": [
      "{'network': {'company': ['Comunicare S.r.l.'], 'href': '/v2/networks/to-bike', 'id': 'to-bike', 'location': {'city': 'Torino', 'country': 'IT', 'latitude': 45.07098200000001, 'longitude': 7.685676}, 'name': '[TO]BIKE', 'source': 'http://www.tobike.it/frmLeStazioni.aspx?ID=22', 'stations': [{'empty_slots': 3, 'extra': {'number': 1, 'reviews': 72, 'score': 4.0, 'status': 'offline', 'uid': '537'}, 'free_bikes': 5, 'id': 'f01c3eb11d001cdeb048c5153d2312ae', 'latitude': 45.04440354326403, 'longitude': 7.617623805999756, 'name': '01. Gerbido', 'timestamp': '2023-10-19T18:48:11.190000Z'}, {'empty_slots': 3, 'extra': {'number': 2, 'reviews': 26, 'score': 3.4, 'status': 'offline', 'uid': '538'}, 'free_bikes': 5, 'id': 'bc312c77398b36b68dcc11a936231be8', 'latitude': 45.067519551794994, 'longitude': 7.563056945800781, 'name': '02. Fabbrichetta', 'timestamp': '2023-10-19T18:48:11.190000Z'}, {'empty_slots': 3, 'extra': {'number': 3, 'reviews': 28, 'score': 3.9, 'status': 'offline', 'uid': '539'}, 'free_bikes': 5, 'id': 'd5b824f8f0b24055820952cae13d8eb6', 'latitude': 45.056364402185814, 'longitude': 7.580995559692383, 'name': '03. Borgo', 'timestamp': '2023-10-19T18:48:11.190000Z'}, {'empty_slots': 3, 'extra': {'number': 4, 'reviews': 112, 'score': 4.2, 'status': 'offline', 'uid': '540'}, 'free_bikes': 5, 'id': 'efb9906681ca572faa6c528c55856187', 'latitude': 45.06171490180712, 'longitude': 7.581188678741455, 'name': '04. Villa Claretta', 'timestamp': '2023-10-19T18:48:11.190000Z'}, {'empty_slots': 3, 'extra': {'number': 5, 'reviews': 44, 'score': 1.2, 'status': 'offline', 'uid': '541'}, 'free_bikes': 5, 'id': '6ada4564cfb797b8829b59ec7742e2ed', 'latitude': 45.06479159126726, 'longitude': 7.588076591491699, 'name': '05. Universita`', 'timestamp': '2023-10-19T18:48:11.190000Z'}, {'empty_slots': 3, 'extra': {'number': 6, 'reviews': 32, 'score': 3.2, 'status': 'offline', 'uid': '542'}, 'free_bikes': 5, 'id': 'd38e65d832c8d32a5e9d6547144e35f5', 'latitude': 45.063139596328625, 'longitude': 7.576832771301269, 'name': '06. Le Serre', 'timestamp': '2023-10-19T18:48:11.190000Z'}, {'empty_slots': 3, 'extra': {'number': 7, 'reviews': 23, 'score': 2.5, 'status': 'offline', 'uid': '543'}, 'free_bikes': 5, 'id': 'ffd596ecd472bfa10fd38a9685f17c8c', 'latitude': 45.06829245027643, 'longitude': 7.599577903747559, 'name': '07. Stazione Ferroviaria Paradiso', 'timestamp': '2023-10-19T18:48:11.190000Z'}, {'empty_slots': 3, 'extra': {'number': 8, 'reviews': 4, 'score': 3.5, 'status': 'offline', 'uid': '1186'}, 'free_bikes': 5, 'id': '22743c60546a6b5713094662d6940f4e', 'latitude': 45.06566411992803, 'longitude': 7.579057797622681, 'name': '08. Lupo', 'timestamp': '2023-10-19T18:48:11.190000Z'}, {'empty_slots': 3, 'extra': {'number': 1, 'reviews': 28, 'score': 3.0, 'status': 'offline', 'uid': '529'}, 'free_bikes': 5, 'id': '8c12fcd7311c98e9a948af38caa4d051', 'latitude': 45.084126990755045, 'longitude': 7.575631141662598, 'name': '01. Certosa / P.le Avis', 'timestamp': '2023-10-19T18:48:11.220000Z'}, {'empty_slots': 3, 'extra': {'number': 4, 'reviews': 87, 'score': 3.0, 'status': 'offline', 'uid': '532'}, 'free_bikes': 5, 'id': 'c50124e7cca913343a6cbeba5e4b6cdb', 'latitude': 45.07373275368509, 'longitude': 7.601809501647949, 'name': '04. Metro Paradiso', 'timestamp': '2023-10-19T18:48:11.220000Z'}, {'empty_slots': 3, 'extra': {'number': 5, 'reviews': 11, 'score': 4.0, 'status': 'offline', 'uid': '533'}, 'free_bikes': 5, 'id': '8fa4807880ed26b205517a071dca0c21', 'latitude': 45.115722339702245, 'longitude': 7.613739967346191, 'name': '05. Savonera', 'timestamp': '2023-10-19T18:48:11.220000Z'}, {'empty_slots': 3, 'extra': {'number': 7, 'reviews': 15, 'score': 2.8, 'status': 'offline', 'uid': '535'}, 'free_bikes': 5, 'id': 'f1d7621c4f2b581dc95871181eaddf7f', 'latitude': 45.07894526052452, 'longitude': 7.574386596679687, 'name': '07. Stazione F.S.', 'timestamp': '2023-10-19T18:48:11.220000Z'}, {'empty_slots': 3, 'extra': {'number': 8, 'reviews': 34, 'score': 1.4, 'status': 'offline', 'uid': '536'}, 'free_bikes': 5, 'id': 'f721695d488b071d3df077eb4a9d50bf', 'latitude': 45.07270231814184, 'longitude': 7.58030891418457, 'name': '08. Gramsci', 'timestamp': '2023-10-19T18:48:11.220000Z'}, {'empty_slots': 0, 'extra': {'number': 1, 'reviews': 35, 'score': 3.8, 'status': 'online', 'uid': '583'}, 'free_bikes': 0, 'id': 'e8242fb035991ef3d83e93fb3b6fa97b', 'latitude': 45.116903418249365, 'longitude': 7.62300968170166, 'name': '01. Concordia', 'timestamp': '2023-10-19T18:48:11.252000Z'}, {'empty_slots': 3, 'extra': {'number': 2, 'reviews': 14, 'score': 4.3, 'status': 'online', 'uid': '584'}, 'free_bikes': 0, 'id': 'bc2f3dac64e76a022c2869659614a6f5', 'latitude': 45.129893668868284, 'longitude': 7.631292343139648, 'name': '02. Pettiti', 'timestamp': '2023-10-19T18:48:11.252000Z'}, {'empty_slots': 1, 'extra': {'number': 3, 'reviews': 15, 'score': 3.9, 'status': 'online', 'uid': '585'}, 'free_bikes': 4, 'id': 'aeb1bf0a60459898301e9f798dbc17b7', 'latitude': 45.12418619577999, 'longitude': 7.632043361663818, 'name': '03. C. Commerciale I Portici', 'timestamp': '2023-10-19T18:48:11.252000Z'}, {'empty_slots': 5, 'extra': {'number': 5, 'reviews': 13, 'score': 4.2, 'status': 'online', 'uid': '587'}, 'free_bikes': 2, 'id': '0c7ddac244be98e27b3249521685e480', 'latitude': 45.127804527473224, 'longitude': 7.635798454284668, 'name': '05. Corso Garibaldi', 'timestamp': '2023-10-19T18:48:11.252000Z'}, {'empty_slots': 5, 'extra': {'number': 7, 'reviews': 20, 'score': 3.0, 'status': 'online', 'uid': '589'}, 'free_bikes': 0, 'id': 'a4792b55af4c2ed4730f24207b924ead', 'latitude': 45.125836425730945, 'longitude': 7.642192840576172, 'name': '07. Buozzi', 'timestamp': '2023-10-19T18:48:11.252000Z'}, {'empty_slots': 2, 'extra': {'number': 8, 'reviews': 10, 'score': 4.1, 'status': 'online', 'uid': '590'}, 'free_bikes': 2, 'id': '99d05089c79ad0acfd5d3acecaf2cd83', 'latitude': 45.12489776867726, 'longitude': 7.65296459197998, 'name': '08. San Marchese', 'timestamp': '2023-10-19T18:48:11.252000Z'}, {'empty_slots': 4, 'extra': {'number': 10, 'reviews': 40, 'score': 4.5, 'status': 'online', 'uid': '592'}, 'free_bikes': 0, 'id': 'f16cba9c6dc917e833eab7bf3e0168b7', 'latitude': 45.114828943536864, 'longitude': 7.641313076019287, 'name': '10. Gallo Praile', 'timestamp': '2023-10-19T18:48:11.252000Z'}, {'empty_slots': 3, 'extra': {'number': 2, 'reviews': 11, 'score': 3.0, 'status': 'offline', 'uid': '593'}, 'free_bikes': 5, 'id': 'd6806ba5784a0d60f24f380a9b09a1cb', 'latitude': 45.099654215224064, 'longitude': 7.531235218048096, 'name': '02. Berlinguer', 'timestamp': '2023-10-19T18:48:11.281000Z'}, {'empty_slots': 3, 'extra': {'number': 1, 'reviews': 16, 'score': 2.1, 'status': 'offline', 'uid': '594'}, 'free_bikes': 5, 'id': '0df8838da4cf2ffe0eaf28629b902dd7', 'latitude': 45.094383006473215, 'longitude': 7.524325847625732, 'name': '01. Municipio', 'timestamp': '2023-10-19T18:48:11.281000Z'}, {'empty_slots': 3, 'extra': {'number': 1, 'reviews': 20, 'score': 2.8, 'status': 'offline', 'uid': '595'}, 'free_bikes': 5, 'id': '8bca5f91b24693d216f576525e7c1647', 'latitude': 45.136100086850355, 'longitude': 7.576360702514648, 'name': '01. Largo Oropa', 'timestamp': '2023-10-19T18:48:11.310000Z'}, {'empty_slots': 3, 'extra': {'number': 2, 'reviews': 1, 'score': 1.0, 'status': 'online', 'uid': '1563'}, 'free_bikes': 5, 'id': 'd55bde750a05150e2bd91d020a5a743e', 'latitude': 45.134345, 'longitude': 7.576462, 'name': '02. BIKE POINT Mandria', 'timestamp': '2023-10-19T18:48:11.310000Z'}, {'empty_slots': 3, 'extra': {'number': 9, 'reviews': 29, 'score': 4.7, 'status': 'offline', 'uid': '591'}, 'free_bikes': 5, 'id': 'dff9f20a6eb38d6a666eccb3cff13fd8', 'latitude': 45.120052841530544, 'longitude': 7.648565769195557, 'name': '09. Rigola', 'timestamp': '2023-10-19T18:48:11.252000Z'}, {'empty_slots': 5, 'extra': {'number': 4, 'reviews': 24, 'score': 4.2, 'status': 'online', 'uid': '586'}, 'free_bikes': 1, 'id': 'e6642b43e6d4732fcd596eef9dc4c931', 'latitude': 45.13563084470412, 'longitude': 7.625724077224732, 'name': '04. Reggia', 'timestamp': '2023-10-19T18:48:11.252000Z'}, {'empty_slots': 10, 'extra': {'number': 6, 'reviews': 37, 'score': 4.2, 'status': 'offline', 'uid': '588'}, 'free_bikes': 2, 'id': 'c152199d3e16721e1f430de89ffff5eb', 'latitude': 45.13300074668823, 'longitude': 7.632789015769959, 'name': '06. Municipio', 'timestamp': '2023-10-19T18:48:11.252000Z'}, {'empty_slots': 3, 'extra': {'number': 10, 'reviews': 5, 'score': 2.5, 'status': 'offline', 'uid': '1185'}, 'free_bikes': 5, 'id': '8d5cc1c49d81c66760c500a922d80b5c', 'latitude': 45.09064418309555, 'longitude': 7.570132452917505, 'name': '10. Europa Unita', 'timestamp': '2023-10-19T18:48:11.220000Z'}]}}\n"
     ]
    }
   ],
   "source": [
    "#. You can launch Jupyter Notebook with the command jupyter \n",
    "\n",
    "\"\"\"Citybik\"\"\"\n",
    "\n",
    "import requests\n",
    "\n",
    "# Define the API endpoint URL\n",
    "api_url = \"http://api.citybik.es/v2/networks/to-bike\"\n",
    "\n",
    "# Make a GET request to the API\n",
    "response = requests.get(api_url)\n",
    "\n",
    "# Check if the request was successful (status code 200)\n",
    "if response.status_code == 200:\n",
    "\n",
    "    # Parse and use the response data (e.g., JSON)\n",
    "    data = response.json()\n",
    "    print(data)\n",
    "else:\n",
    "    # Handle the error\n",
    "    print(f\"Request failed with status code: {response.status_code}\")\n"
   ]
  },
  {
   "cell_type": "markdown",
   "metadata": {},
   "source": [
    "**IRIS**"
   ]
  },
  {
   "cell_type": "code",
   "execution_count": 251,
   "metadata": {},
   "outputs": [],
   "source": [
    "iris=pd.read_csv('https://raw.githubusercontent.com/MateoRivera/Data-science-lab---Laboratories/main/datasets/iris/iris.data', header=None)"
   ]
  },
  {
   "cell_type": "code",
   "execution_count": 252,
   "metadata": {},
   "outputs": [
    {
     "data": {
      "text/plain": [
       "Int64Index([0, 1, 2, 3, 4], dtype='int64')"
      ]
     },
     "execution_count": 252,
     "metadata": {},
     "output_type": "execute_result"
    }
   ],
   "source": [
    "iris.columns"
   ]
  },
  {
   "cell_type": "code",
   "execution_count": 253,
   "metadata": {},
   "outputs": [],
   "source": [
    "def mean(a):\n",
    "    suma=sum(a.values)\n",
    "    count=len(a.values)\n",
    "    miu= (1/count)*suma\n",
    "    return miu"
   ]
  },
  {
   "cell_type": "code",
   "execution_count": 254,
   "metadata": {},
   "outputs": [],
   "source": [
    "def desv(m,a):\n",
    "    n= len(a.values)\n",
    "    suma=sum(m-a)**2\n",
    "    return math.sqrt((suma)*(1/len(a.values)))"
   ]
  },
  {
   "cell_type": "markdown",
   "metadata": {},
   "source": [
    "## Second point"
   ]
  },
  {
   "cell_type": "code",
   "execution_count": 255,
   "metadata": {},
   "outputs": [],
   "source": [
    "media=[]\n",
    "for i in iris.columns:\n",
    "    \n",
    "    if i==4:\n",
    "        break\n",
    "    else:\n",
    "        media.append(round(mean(iris[i]),2))"
   ]
  },
  {
   "cell_type": "code",
   "execution_count": 256,
   "metadata": {},
   "outputs": [
    {
     "name": "stdout",
     "output_type": "stream",
     "text": [
      "[5.84, 3.05, 3.76, 1.2]\n"
     ]
    }
   ],
   "source": [
    "print(media)"
   ]
  },
  {
   "cell_type": "code",
   "execution_count": 257,
   "metadata": {},
   "outputs": [
    {
     "data": {
      "text/plain": [
       "Int64Index([0, 1, 2, 3, 4], dtype='int64')"
      ]
     },
     "execution_count": 257,
     "metadata": {},
     "output_type": "execute_result"
    }
   ],
   "source": [
    "iris.columns"
   ]
  },
  {
   "cell_type": "code",
   "execution_count": 258,
   "metadata": {},
   "outputs": [],
   "source": [
    "sigma=[]\n",
    "for i in iris.columns: \n",
    "    if i==4:\n",
    "        break\n",
    "    else:\n",
    "        sigma.append(round(desv(media[i],iris[i]),2))"
   ]
  },
  {
   "cell_type": "code",
   "execution_count": 259,
   "metadata": {},
   "outputs": [
    {
     "name": "stdout",
     "output_type": "stream",
     "text": [
      "[0.04, 0.05, 0.02, 0.02]\n"
     ]
    }
   ],
   "source": [
    "print(sigma)"
   ]
  },
  {
   "cell_type": "markdown",
   "metadata": {},
   "source": [
    "## Third Point\n",
    " "
   ]
  },
  {
   "cell_type": "code",
   "execution_count": 260,
   "metadata": {},
   "outputs": [],
   "source": [
    "types=iris[4].unique()"
   ]
  },
  {
   "cell_type": "code",
   "execution_count": 261,
   "metadata": {},
   "outputs": [],
   "source": [
    "final=pd.DataFrame()"
   ]
  },
  {
   "cell_type": "code",
   "execution_count": 262,
   "metadata": {},
   "outputs": [],
   "source": [
    "final['Types']=types"
   ]
  },
  {
   "cell_type": "code",
   "execution_count": 263,
   "metadata": {},
   "outputs": [
    {
     "data": {
      "text/html": [
       "<div>\n",
       "<style scoped>\n",
       "    .dataframe tbody tr th:only-of-type {\n",
       "        vertical-align: middle;\n",
       "    }\n",
       "\n",
       "    .dataframe tbody tr th {\n",
       "        vertical-align: top;\n",
       "    }\n",
       "\n",
       "    .dataframe thead th {\n",
       "        text-align: right;\n",
       "    }\n",
       "</style>\n",
       "<table border=\"1\" class=\"dataframe\">\n",
       "  <thead>\n",
       "    <tr style=\"text-align: right;\">\n",
       "      <th></th>\n",
       "      <th>Types</th>\n",
       "    </tr>\n",
       "  </thead>\n",
       "  <tbody>\n",
       "    <tr>\n",
       "      <th>0</th>\n",
       "      <td>Iris-setosa</td>\n",
       "    </tr>\n",
       "    <tr>\n",
       "      <th>1</th>\n",
       "      <td>Iris-versicolor</td>\n",
       "    </tr>\n",
       "    <tr>\n",
       "      <th>2</th>\n",
       "      <td>Iris-virginica</td>\n",
       "    </tr>\n",
       "  </tbody>\n",
       "</table>\n",
       "</div>"
      ],
      "text/plain": [
       "             Types\n",
       "0      Iris-setosa\n",
       "1  Iris-versicolor\n",
       "2   Iris-virginica"
      ]
     },
     "execution_count": 263,
     "metadata": {},
     "output_type": "execute_result"
    }
   ],
   "source": [
    "final.head()"
   ]
  },
  {
   "cell_type": "code",
   "execution_count": 264,
   "metadata": {},
   "outputs": [
    {
     "data": {
      "text/html": [
       "<div>\n",
       "<style scoped>\n",
       "    .dataframe tbody tr th:only-of-type {\n",
       "        vertical-align: middle;\n",
       "    }\n",
       "\n",
       "    .dataframe tbody tr th {\n",
       "        vertical-align: top;\n",
       "    }\n",
       "\n",
       "    .dataframe thead th {\n",
       "        text-align: right;\n",
       "    }\n",
       "</style>\n",
       "<table border=\"1\" class=\"dataframe\">\n",
       "  <thead>\n",
       "    <tr style=\"text-align: right;\">\n",
       "      <th></th>\n",
       "      <th>0</th>\n",
       "      <th>1</th>\n",
       "      <th>2</th>\n",
       "      <th>3</th>\n",
       "      <th>4</th>\n",
       "    </tr>\n",
       "  </thead>\n",
       "  <tbody>\n",
       "    <tr>\n",
       "      <th>0</th>\n",
       "      <td>5.1</td>\n",
       "      <td>3.5</td>\n",
       "      <td>1.4</td>\n",
       "      <td>0.2</td>\n",
       "      <td>Iris-setosa</td>\n",
       "    </tr>\n",
       "    <tr>\n",
       "      <th>1</th>\n",
       "      <td>4.9</td>\n",
       "      <td>3.0</td>\n",
       "      <td>1.4</td>\n",
       "      <td>0.2</td>\n",
       "      <td>Iris-setosa</td>\n",
       "    </tr>\n",
       "    <tr>\n",
       "      <th>2</th>\n",
       "      <td>4.7</td>\n",
       "      <td>3.2</td>\n",
       "      <td>1.3</td>\n",
       "      <td>0.2</td>\n",
       "      <td>Iris-setosa</td>\n",
       "    </tr>\n",
       "    <tr>\n",
       "      <th>3</th>\n",
       "      <td>4.6</td>\n",
       "      <td>3.1</td>\n",
       "      <td>1.5</td>\n",
       "      <td>0.2</td>\n",
       "      <td>Iris-setosa</td>\n",
       "    </tr>\n",
       "    <tr>\n",
       "      <th>4</th>\n",
       "      <td>5.0</td>\n",
       "      <td>3.6</td>\n",
       "      <td>1.4</td>\n",
       "      <td>0.2</td>\n",
       "      <td>Iris-setosa</td>\n",
       "    </tr>\n",
       "    <tr>\n",
       "      <th>5</th>\n",
       "      <td>5.4</td>\n",
       "      <td>3.9</td>\n",
       "      <td>1.7</td>\n",
       "      <td>0.4</td>\n",
       "      <td>Iris-setosa</td>\n",
       "    </tr>\n",
       "    <tr>\n",
       "      <th>6</th>\n",
       "      <td>4.6</td>\n",
       "      <td>3.4</td>\n",
       "      <td>1.4</td>\n",
       "      <td>0.3</td>\n",
       "      <td>Iris-setosa</td>\n",
       "    </tr>\n",
       "    <tr>\n",
       "      <th>7</th>\n",
       "      <td>5.0</td>\n",
       "      <td>3.4</td>\n",
       "      <td>1.5</td>\n",
       "      <td>0.2</td>\n",
       "      <td>Iris-setosa</td>\n",
       "    </tr>\n",
       "    <tr>\n",
       "      <th>8</th>\n",
       "      <td>4.4</td>\n",
       "      <td>2.9</td>\n",
       "      <td>1.4</td>\n",
       "      <td>0.2</td>\n",
       "      <td>Iris-setosa</td>\n",
       "    </tr>\n",
       "    <tr>\n",
       "      <th>9</th>\n",
       "      <td>4.9</td>\n",
       "      <td>3.1</td>\n",
       "      <td>1.5</td>\n",
       "      <td>0.1</td>\n",
       "      <td>Iris-setosa</td>\n",
       "    </tr>\n",
       "    <tr>\n",
       "      <th>10</th>\n",
       "      <td>5.4</td>\n",
       "      <td>3.7</td>\n",
       "      <td>1.5</td>\n",
       "      <td>0.2</td>\n",
       "      <td>Iris-setosa</td>\n",
       "    </tr>\n",
       "    <tr>\n",
       "      <th>11</th>\n",
       "      <td>4.8</td>\n",
       "      <td>3.4</td>\n",
       "      <td>1.6</td>\n",
       "      <td>0.2</td>\n",
       "      <td>Iris-setosa</td>\n",
       "    </tr>\n",
       "    <tr>\n",
       "      <th>12</th>\n",
       "      <td>4.8</td>\n",
       "      <td>3.0</td>\n",
       "      <td>1.4</td>\n",
       "      <td>0.1</td>\n",
       "      <td>Iris-setosa</td>\n",
       "    </tr>\n",
       "    <tr>\n",
       "      <th>13</th>\n",
       "      <td>4.3</td>\n",
       "      <td>3.0</td>\n",
       "      <td>1.1</td>\n",
       "      <td>0.1</td>\n",
       "      <td>Iris-setosa</td>\n",
       "    </tr>\n",
       "    <tr>\n",
       "      <th>14</th>\n",
       "      <td>5.8</td>\n",
       "      <td>4.0</td>\n",
       "      <td>1.2</td>\n",
       "      <td>0.2</td>\n",
       "      <td>Iris-setosa</td>\n",
       "    </tr>\n",
       "    <tr>\n",
       "      <th>15</th>\n",
       "      <td>5.7</td>\n",
       "      <td>4.4</td>\n",
       "      <td>1.5</td>\n",
       "      <td>0.4</td>\n",
       "      <td>Iris-setosa</td>\n",
       "    </tr>\n",
       "    <tr>\n",
       "      <th>16</th>\n",
       "      <td>5.4</td>\n",
       "      <td>3.9</td>\n",
       "      <td>1.3</td>\n",
       "      <td>0.4</td>\n",
       "      <td>Iris-setosa</td>\n",
       "    </tr>\n",
       "    <tr>\n",
       "      <th>17</th>\n",
       "      <td>5.1</td>\n",
       "      <td>3.5</td>\n",
       "      <td>1.4</td>\n",
       "      <td>0.3</td>\n",
       "      <td>Iris-setosa</td>\n",
       "    </tr>\n",
       "    <tr>\n",
       "      <th>18</th>\n",
       "      <td>5.7</td>\n",
       "      <td>3.8</td>\n",
       "      <td>1.7</td>\n",
       "      <td>0.3</td>\n",
       "      <td>Iris-setosa</td>\n",
       "    </tr>\n",
       "    <tr>\n",
       "      <th>19</th>\n",
       "      <td>5.1</td>\n",
       "      <td>3.8</td>\n",
       "      <td>1.5</td>\n",
       "      <td>0.3</td>\n",
       "      <td>Iris-setosa</td>\n",
       "    </tr>\n",
       "    <tr>\n",
       "      <th>20</th>\n",
       "      <td>5.4</td>\n",
       "      <td>3.4</td>\n",
       "      <td>1.7</td>\n",
       "      <td>0.2</td>\n",
       "      <td>Iris-setosa</td>\n",
       "    </tr>\n",
       "    <tr>\n",
       "      <th>21</th>\n",
       "      <td>5.1</td>\n",
       "      <td>3.7</td>\n",
       "      <td>1.5</td>\n",
       "      <td>0.4</td>\n",
       "      <td>Iris-setosa</td>\n",
       "    </tr>\n",
       "    <tr>\n",
       "      <th>22</th>\n",
       "      <td>4.6</td>\n",
       "      <td>3.6</td>\n",
       "      <td>1.0</td>\n",
       "      <td>0.2</td>\n",
       "      <td>Iris-setosa</td>\n",
       "    </tr>\n",
       "    <tr>\n",
       "      <th>23</th>\n",
       "      <td>5.1</td>\n",
       "      <td>3.3</td>\n",
       "      <td>1.7</td>\n",
       "      <td>0.5</td>\n",
       "      <td>Iris-setosa</td>\n",
       "    </tr>\n",
       "    <tr>\n",
       "      <th>24</th>\n",
       "      <td>4.8</td>\n",
       "      <td>3.4</td>\n",
       "      <td>1.9</td>\n",
       "      <td>0.2</td>\n",
       "      <td>Iris-setosa</td>\n",
       "    </tr>\n",
       "    <tr>\n",
       "      <th>25</th>\n",
       "      <td>5.0</td>\n",
       "      <td>3.0</td>\n",
       "      <td>1.6</td>\n",
       "      <td>0.2</td>\n",
       "      <td>Iris-setosa</td>\n",
       "    </tr>\n",
       "    <tr>\n",
       "      <th>26</th>\n",
       "      <td>5.0</td>\n",
       "      <td>3.4</td>\n",
       "      <td>1.6</td>\n",
       "      <td>0.4</td>\n",
       "      <td>Iris-setosa</td>\n",
       "    </tr>\n",
       "    <tr>\n",
       "      <th>27</th>\n",
       "      <td>5.2</td>\n",
       "      <td>3.5</td>\n",
       "      <td>1.5</td>\n",
       "      <td>0.2</td>\n",
       "      <td>Iris-setosa</td>\n",
       "    </tr>\n",
       "    <tr>\n",
       "      <th>28</th>\n",
       "      <td>5.2</td>\n",
       "      <td>3.4</td>\n",
       "      <td>1.4</td>\n",
       "      <td>0.2</td>\n",
       "      <td>Iris-setosa</td>\n",
       "    </tr>\n",
       "    <tr>\n",
       "      <th>29</th>\n",
       "      <td>4.7</td>\n",
       "      <td>3.2</td>\n",
       "      <td>1.6</td>\n",
       "      <td>0.2</td>\n",
       "      <td>Iris-setosa</td>\n",
       "    </tr>\n",
       "    <tr>\n",
       "      <th>30</th>\n",
       "      <td>4.8</td>\n",
       "      <td>3.1</td>\n",
       "      <td>1.6</td>\n",
       "      <td>0.2</td>\n",
       "      <td>Iris-setosa</td>\n",
       "    </tr>\n",
       "    <tr>\n",
       "      <th>31</th>\n",
       "      <td>5.4</td>\n",
       "      <td>3.4</td>\n",
       "      <td>1.5</td>\n",
       "      <td>0.4</td>\n",
       "      <td>Iris-setosa</td>\n",
       "    </tr>\n",
       "    <tr>\n",
       "      <th>32</th>\n",
       "      <td>5.2</td>\n",
       "      <td>4.1</td>\n",
       "      <td>1.5</td>\n",
       "      <td>0.1</td>\n",
       "      <td>Iris-setosa</td>\n",
       "    </tr>\n",
       "    <tr>\n",
       "      <th>33</th>\n",
       "      <td>5.5</td>\n",
       "      <td>4.2</td>\n",
       "      <td>1.4</td>\n",
       "      <td>0.2</td>\n",
       "      <td>Iris-setosa</td>\n",
       "    </tr>\n",
       "    <tr>\n",
       "      <th>34</th>\n",
       "      <td>4.9</td>\n",
       "      <td>3.1</td>\n",
       "      <td>1.5</td>\n",
       "      <td>0.1</td>\n",
       "      <td>Iris-setosa</td>\n",
       "    </tr>\n",
       "    <tr>\n",
       "      <th>35</th>\n",
       "      <td>5.0</td>\n",
       "      <td>3.2</td>\n",
       "      <td>1.2</td>\n",
       "      <td>0.2</td>\n",
       "      <td>Iris-setosa</td>\n",
       "    </tr>\n",
       "    <tr>\n",
       "      <th>36</th>\n",
       "      <td>5.5</td>\n",
       "      <td>3.5</td>\n",
       "      <td>1.3</td>\n",
       "      <td>0.2</td>\n",
       "      <td>Iris-setosa</td>\n",
       "    </tr>\n",
       "    <tr>\n",
       "      <th>37</th>\n",
       "      <td>4.9</td>\n",
       "      <td>3.1</td>\n",
       "      <td>1.5</td>\n",
       "      <td>0.1</td>\n",
       "      <td>Iris-setosa</td>\n",
       "    </tr>\n",
       "    <tr>\n",
       "      <th>38</th>\n",
       "      <td>4.4</td>\n",
       "      <td>3.0</td>\n",
       "      <td>1.3</td>\n",
       "      <td>0.2</td>\n",
       "      <td>Iris-setosa</td>\n",
       "    </tr>\n",
       "    <tr>\n",
       "      <th>39</th>\n",
       "      <td>5.1</td>\n",
       "      <td>3.4</td>\n",
       "      <td>1.5</td>\n",
       "      <td>0.2</td>\n",
       "      <td>Iris-setosa</td>\n",
       "    </tr>\n",
       "    <tr>\n",
       "      <th>40</th>\n",
       "      <td>5.0</td>\n",
       "      <td>3.5</td>\n",
       "      <td>1.3</td>\n",
       "      <td>0.3</td>\n",
       "      <td>Iris-setosa</td>\n",
       "    </tr>\n",
       "    <tr>\n",
       "      <th>41</th>\n",
       "      <td>4.5</td>\n",
       "      <td>2.3</td>\n",
       "      <td>1.3</td>\n",
       "      <td>0.3</td>\n",
       "      <td>Iris-setosa</td>\n",
       "    </tr>\n",
       "    <tr>\n",
       "      <th>42</th>\n",
       "      <td>4.4</td>\n",
       "      <td>3.2</td>\n",
       "      <td>1.3</td>\n",
       "      <td>0.2</td>\n",
       "      <td>Iris-setosa</td>\n",
       "    </tr>\n",
       "    <tr>\n",
       "      <th>43</th>\n",
       "      <td>5.0</td>\n",
       "      <td>3.5</td>\n",
       "      <td>1.6</td>\n",
       "      <td>0.6</td>\n",
       "      <td>Iris-setosa</td>\n",
       "    </tr>\n",
       "    <tr>\n",
       "      <th>44</th>\n",
       "      <td>5.1</td>\n",
       "      <td>3.8</td>\n",
       "      <td>1.9</td>\n",
       "      <td>0.4</td>\n",
       "      <td>Iris-setosa</td>\n",
       "    </tr>\n",
       "    <tr>\n",
       "      <th>45</th>\n",
       "      <td>4.8</td>\n",
       "      <td>3.0</td>\n",
       "      <td>1.4</td>\n",
       "      <td>0.3</td>\n",
       "      <td>Iris-setosa</td>\n",
       "    </tr>\n",
       "    <tr>\n",
       "      <th>46</th>\n",
       "      <td>5.1</td>\n",
       "      <td>3.8</td>\n",
       "      <td>1.6</td>\n",
       "      <td>0.2</td>\n",
       "      <td>Iris-setosa</td>\n",
       "    </tr>\n",
       "    <tr>\n",
       "      <th>47</th>\n",
       "      <td>4.6</td>\n",
       "      <td>3.2</td>\n",
       "      <td>1.4</td>\n",
       "      <td>0.2</td>\n",
       "      <td>Iris-setosa</td>\n",
       "    </tr>\n",
       "    <tr>\n",
       "      <th>48</th>\n",
       "      <td>5.3</td>\n",
       "      <td>3.7</td>\n",
       "      <td>1.5</td>\n",
       "      <td>0.2</td>\n",
       "      <td>Iris-setosa</td>\n",
       "    </tr>\n",
       "    <tr>\n",
       "      <th>49</th>\n",
       "      <td>5.0</td>\n",
       "      <td>3.3</td>\n",
       "      <td>1.4</td>\n",
       "      <td>0.2</td>\n",
       "      <td>Iris-setosa</td>\n",
       "    </tr>\n",
       "  </tbody>\n",
       "</table>\n",
       "</div>"
      ],
      "text/plain": [
       "      0    1    2    3            4\n",
       "0   5.1  3.5  1.4  0.2  Iris-setosa\n",
       "1   4.9  3.0  1.4  0.2  Iris-setosa\n",
       "2   4.7  3.2  1.3  0.2  Iris-setosa\n",
       "3   4.6  3.1  1.5  0.2  Iris-setosa\n",
       "4   5.0  3.6  1.4  0.2  Iris-setosa\n",
       "5   5.4  3.9  1.7  0.4  Iris-setosa\n",
       "6   4.6  3.4  1.4  0.3  Iris-setosa\n",
       "7   5.0  3.4  1.5  0.2  Iris-setosa\n",
       "8   4.4  2.9  1.4  0.2  Iris-setosa\n",
       "9   4.9  3.1  1.5  0.1  Iris-setosa\n",
       "10  5.4  3.7  1.5  0.2  Iris-setosa\n",
       "11  4.8  3.4  1.6  0.2  Iris-setosa\n",
       "12  4.8  3.0  1.4  0.1  Iris-setosa\n",
       "13  4.3  3.0  1.1  0.1  Iris-setosa\n",
       "14  5.8  4.0  1.2  0.2  Iris-setosa\n",
       "15  5.7  4.4  1.5  0.4  Iris-setosa\n",
       "16  5.4  3.9  1.3  0.4  Iris-setosa\n",
       "17  5.1  3.5  1.4  0.3  Iris-setosa\n",
       "18  5.7  3.8  1.7  0.3  Iris-setosa\n",
       "19  5.1  3.8  1.5  0.3  Iris-setosa\n",
       "20  5.4  3.4  1.7  0.2  Iris-setosa\n",
       "21  5.1  3.7  1.5  0.4  Iris-setosa\n",
       "22  4.6  3.6  1.0  0.2  Iris-setosa\n",
       "23  5.1  3.3  1.7  0.5  Iris-setosa\n",
       "24  4.8  3.4  1.9  0.2  Iris-setosa\n",
       "25  5.0  3.0  1.6  0.2  Iris-setosa\n",
       "26  5.0  3.4  1.6  0.4  Iris-setosa\n",
       "27  5.2  3.5  1.5  0.2  Iris-setosa\n",
       "28  5.2  3.4  1.4  0.2  Iris-setosa\n",
       "29  4.7  3.2  1.6  0.2  Iris-setosa\n",
       "30  4.8  3.1  1.6  0.2  Iris-setosa\n",
       "31  5.4  3.4  1.5  0.4  Iris-setosa\n",
       "32  5.2  4.1  1.5  0.1  Iris-setosa\n",
       "33  5.5  4.2  1.4  0.2  Iris-setosa\n",
       "34  4.9  3.1  1.5  0.1  Iris-setosa\n",
       "35  5.0  3.2  1.2  0.2  Iris-setosa\n",
       "36  5.5  3.5  1.3  0.2  Iris-setosa\n",
       "37  4.9  3.1  1.5  0.1  Iris-setosa\n",
       "38  4.4  3.0  1.3  0.2  Iris-setosa\n",
       "39  5.1  3.4  1.5  0.2  Iris-setosa\n",
       "40  5.0  3.5  1.3  0.3  Iris-setosa\n",
       "41  4.5  2.3  1.3  0.3  Iris-setosa\n",
       "42  4.4  3.2  1.3  0.2  Iris-setosa\n",
       "43  5.0  3.5  1.6  0.6  Iris-setosa\n",
       "44  5.1  3.8  1.9  0.4  Iris-setosa\n",
       "45  4.8  3.0  1.4  0.3  Iris-setosa\n",
       "46  5.1  3.8  1.6  0.2  Iris-setosa\n",
       "47  4.6  3.2  1.4  0.2  Iris-setosa\n",
       "48  5.3  3.7  1.5  0.2  Iris-setosa\n",
       "49  5.0  3.3  1.4  0.2  Iris-setosa"
      ]
     },
     "execution_count": 264,
     "metadata": {},
     "output_type": "execute_result"
    }
   ],
   "source": [
    "iris[iris[4]==types[0]] #Where the name is the same to each cathegory"
   ]
  },
  {
   "cell_type": "code",
   "execution_count": 265,
   "metadata": {},
   "outputs": [],
   "source": [
    "miu=[]\n",
    "for i in range(4):\n",
    "    for j in range(3):\n",
    "        selected_values = iris.loc[iris[4] == types[j-1], i]\n",
    "        miu.append(round(mean(selected_values),2))\n",
    "    final['miu'+str(i)]=miu\n",
    "    miu=[]"
   ]
  },
  {
   "cell_type": "code",
   "execution_count": 266,
   "metadata": {},
   "outputs": [],
   "source": [
    "desvi=[]\n",
    "for i in range(4):\n",
    "    for j in range(3):\n",
    "        selected_values = iris.loc[iris[4] == types[j-1], i]\n",
    "        desvi.append(round(desv(final['miu'+str(i)][j],selected_values),2))\n",
    "    final['desvi'+str(i)]=desvi\n",
    "    desvi=[]"
   ]
  },
  {
   "cell_type": "code",
   "execution_count": 267,
   "metadata": {},
   "outputs": [
    {
     "data": {
      "text/html": [
       "<div>\n",
       "<style scoped>\n",
       "    .dataframe tbody tr th:only-of-type {\n",
       "        vertical-align: middle;\n",
       "    }\n",
       "\n",
       "    .dataframe tbody tr th {\n",
       "        vertical-align: top;\n",
       "    }\n",
       "\n",
       "    .dataframe thead th {\n",
       "        text-align: right;\n",
       "    }\n",
       "</style>\n",
       "<table border=\"1\" class=\"dataframe\">\n",
       "  <thead>\n",
       "    <tr style=\"text-align: right;\">\n",
       "      <th></th>\n",
       "      <th>Types</th>\n",
       "      <th>miu0</th>\n",
       "      <th>miu1</th>\n",
       "      <th>miu2</th>\n",
       "      <th>miu3</th>\n",
       "      <th>desvi0</th>\n",
       "      <th>desvi1</th>\n",
       "      <th>desvi2</th>\n",
       "      <th>desvi3</th>\n",
       "    </tr>\n",
       "  </thead>\n",
       "  <tbody>\n",
       "    <tr>\n",
       "      <th>0</th>\n",
       "      <td>Iris-setosa</td>\n",
       "      <td>6.59</td>\n",
       "      <td>2.97</td>\n",
       "      <td>5.55</td>\n",
       "      <td>2.03</td>\n",
       "      <td>0.01</td>\n",
       "      <td>0.03</td>\n",
       "      <td>0.01</td>\n",
       "      <td>0.03</td>\n",
       "    </tr>\n",
       "    <tr>\n",
       "      <th>1</th>\n",
       "      <td>Iris-versicolor</td>\n",
       "      <td>5.01</td>\n",
       "      <td>3.42</td>\n",
       "      <td>1.46</td>\n",
       "      <td>0.24</td>\n",
       "      <td>0.03</td>\n",
       "      <td>0.01</td>\n",
       "      <td>0.03</td>\n",
       "      <td>0.03</td>\n",
       "    </tr>\n",
       "    <tr>\n",
       "      <th>2</th>\n",
       "      <td>Iris-virginica</td>\n",
       "      <td>5.94</td>\n",
       "      <td>2.77</td>\n",
       "      <td>4.26</td>\n",
       "      <td>1.33</td>\n",
       "      <td>0.03</td>\n",
       "      <td>0.00</td>\n",
       "      <td>0.00</td>\n",
       "      <td>0.03</td>\n",
       "    </tr>\n",
       "  </tbody>\n",
       "</table>\n",
       "</div>"
      ],
      "text/plain": [
       "             Types  miu0  miu1  miu2  miu3  desvi0  desvi1  desvi2  desvi3\n",
       "0      Iris-setosa  6.59  2.97  5.55  2.03    0.01    0.03    0.01    0.03\n",
       "1  Iris-versicolor  5.01  3.42  1.46  0.24    0.03    0.01    0.03    0.03\n",
       "2   Iris-virginica  5.94  2.77  4.26  1.33    0.03    0.00    0.00    0.03"
      ]
     },
     "execution_count": 267,
     "metadata": {},
     "output_type": "execute_result"
    }
   ],
   "source": [
    "final"
   ]
  },
  {
   "cell_type": "markdown",
   "metadata": {},
   "source": [
    "0 and 1 belongs to the sepal lenght and sepal width respectly\n",
    "2 and 3 belongs to the petal lenght and petal width respectly"
   ]
  },
  {
   "cell_type": "markdown",
   "metadata": {},
   "source": [
    "**Based on the results of exercises 2 and 3, which of the 4 measurements would you considering\n",
    "as being the most characterizing one for the three species? (In other words, which measurement\n",
    "would you consider “best”, if you were to guess the Iris species based only on those four values?)**"
   ]
  },
  {
   "cell_type": "markdown",
   "metadata": {},
   "source": [
    "Based on the 2 and 3 results, the most characterizing measurement is the petal lenght due to the notorius differences between the species"
   ]
  },
  {
   "cell_type": "markdown",
   "metadata": {},
   "source": [
    "**Based on the considerations of Exercise 3, assign the flowers with the following measurements\n",
    "to what you consider would be the most likely species.**"
   ]
  },
  {
   "cell_type": "code",
   "execution_count": 268,
   "metadata": {},
   "outputs": [],
   "source": [
    "a=np.array([\n",
    "[5.2, 3.1, 4.0, 1.2],\n",
    "[4.9, 2.5, 5.6, 2.0],\n",
    "[5.4, 3.2, 1.9, 0.4]\n",
    "])\n"
   ]
  },
  {
   "cell_type": "code",
   "execution_count": 269,
   "metadata": {},
   "outputs": [],
   "source": [
    "a=pd.DataFrame(data=a)"
   ]
  },
  {
   "cell_type": "code",
   "execution_count": 270,
   "metadata": {},
   "outputs": [
    {
     "data": {
      "text/html": [
       "<div>\n",
       "<style scoped>\n",
       "    .dataframe tbody tr th:only-of-type {\n",
       "        vertical-align: middle;\n",
       "    }\n",
       "\n",
       "    .dataframe tbody tr th {\n",
       "        vertical-align: top;\n",
       "    }\n",
       "\n",
       "    .dataframe thead th {\n",
       "        text-align: right;\n",
       "    }\n",
       "</style>\n",
       "<table border=\"1\" class=\"dataframe\">\n",
       "  <thead>\n",
       "    <tr style=\"text-align: right;\">\n",
       "      <th></th>\n",
       "      <th>0</th>\n",
       "      <th>1</th>\n",
       "      <th>2</th>\n",
       "      <th>3</th>\n",
       "    </tr>\n",
       "  </thead>\n",
       "  <tbody>\n",
       "    <tr>\n",
       "      <th>0</th>\n",
       "      <td>5.2</td>\n",
       "      <td>3.1</td>\n",
       "      <td>4.0</td>\n",
       "      <td>1.2</td>\n",
       "    </tr>\n",
       "    <tr>\n",
       "      <th>1</th>\n",
       "      <td>4.9</td>\n",
       "      <td>2.5</td>\n",
       "      <td>5.6</td>\n",
       "      <td>2.0</td>\n",
       "    </tr>\n",
       "    <tr>\n",
       "      <th>2</th>\n",
       "      <td>5.4</td>\n",
       "      <td>3.2</td>\n",
       "      <td>1.9</td>\n",
       "      <td>0.4</td>\n",
       "    </tr>\n",
       "  </tbody>\n",
       "</table>\n",
       "</div>"
      ],
      "text/plain": [
       "     0    1    2    3\n",
       "0  5.2  3.1  4.0  1.2\n",
       "1  4.9  2.5  5.6  2.0\n",
       "2  5.4  3.2  1.9  0.4"
      ]
     },
     "execution_count": 270,
     "metadata": {},
     "output_type": "execute_result"
    }
   ],
   "source": [
    "a"
   ]
  },
  {
   "cell_type": "code",
   "execution_count": 271,
   "metadata": {},
   "outputs": [],
   "source": [
    "#Ranks\n",
    "rank_s=[]\n",
    "rank_inf=[]\n",
    "for i in range(4):\n",
    "    rank_s.append(final['miu'+str(i)]+final['desvi'+str(i)])\n",
    "    rank_inf.append(final['miu'+str(i)]-final['desvi'+str(i)])"
   ]
  },
  {
   "cell_type": "code",
   "execution_count": 272,
   "metadata": {},
   "outputs": [],
   "source": [
    "matrix_flor=[]\n",
    "for i in range(4):\n",
    "    column_flor=[]\n",
    "    _flor=[]\n",
    "    for j in range(3): \n",
    "        distancia_s=abs(rank_s[j]-(a[i][j]))\n",
    "        distancia_inf=abs(rank_inf[j]-(a[i][j]))\n",
    "        distancia_tot=distancia_s+distancia_inf\n",
    "        posicion=np.argmin(distancia_tot)\n",
    "        column_flor.append(final.iloc[posicion,0])\n",
    "    matrix_flor.append(column_flor)\n"
   ]
  },
  {
   "cell_type": "code",
   "execution_count": 273,
   "metadata": {},
   "outputs": [],
   "source": [
    "matrix_flor=np.transpose(matrix_flor)"
   ]
  },
  {
   "cell_type": "code",
   "execution_count": 274,
   "metadata": {},
   "outputs": [],
   "source": [
    "answer=[]\n",
    "for i in range(3):\n",
    "    frecuency=Counter(matrix_flor[i])\n",
    "    word_most_frequent = frecuency.most_common(1)[0][0]\n",
    "    answer.append(word_most_frequent)\n"
   ]
  },
  {
   "cell_type": "code",
   "execution_count": 275,
   "metadata": {},
   "outputs": [
    {
     "name": "stdout",
     "output_type": "stream",
     "text": [
      "The data belongs to the next flowers:  ['Iris-versicolor', 'Iris-versicolor', 'Iris-versicolor']\n"
     ]
    }
   ],
   "source": [
    "print(\"The data belongs to the next flowers: \",answer)"
   ]
  }
 ],
 "metadata": {
  "kernelspec": {
   "display_name": "base",
   "language": "python",
   "name": "python3"
  },
  "language_info": {
   "codemirror_mode": {
    "name": "ipython",
    "version": 3
   },
   "file_extension": ".py",
   "mimetype": "text/x-python",
   "name": "python",
   "nbconvert_exporter": "python",
   "pygments_lexer": "ipython3",
   "version": "3.9.7"
  }
 },
 "nbformat": 4,
 "nbformat_minor": 2
}
