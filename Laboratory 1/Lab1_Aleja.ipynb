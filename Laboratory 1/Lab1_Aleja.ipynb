{
 "cells": [
  {
   "cell_type": "code",
   "execution_count": 72,
   "metadata": {},
   "outputs": [],
   "source": [
    "import pandas as pd\n",
    "import numpy as np\n",
    "import math as mt"
   ]
  },
  {
   "cell_type": "code",
   "execution_count": null,
   "metadata": {},
   "outputs": [],
   "source": [
    "#. You can launch Jupyter Notebook with the command jupyter \n",
    "\n",
    "\"\"\"Citybik\"\"\"\n",
    "\n",
    "import requests\n",
    "\n",
    "# Define the API endpoint URL\n",
    "api_url = \"http://api.citybik.es/v2/networks/to-bike\"\n",
    "\n",
    "# Make a GET request to the API\n",
    "response = requests.get(api_url)\n",
    "\n",
    "# Check if the request was successful (status code 200)\n",
    "if response.status_code == 200:\n",
    "\n",
    "    # Parse and use the response data (e.g., JSON)\n",
    "    data = response.json()\n",
    "    print(data)\n",
    "else:\n",
    "    # Handle the error\n",
    "    print(f\"Request failed with status code: {response.status_code}\")\n"
   ]
  },
  {
   "cell_type": "markdown",
   "metadata": {},
   "source": [
    "**IRIS**"
   ]
  },
  {
   "cell_type": "code",
   "execution_count": 32,
   "metadata": {},
   "outputs": [],
   "source": [
    "iris=pd.read_csv('https://raw.githubusercontent.com/MateoRivera/Data-science-lab---Laboratories/main/datasets/iris/iris.data', header=None)"
   ]
  },
  {
   "cell_type": "code",
   "execution_count": 33,
   "metadata": {},
   "outputs": [
    {
     "data": {
      "text/plain": [
       "Int64Index([0, 1, 2, 3, 4], dtype='int64')"
      ]
     },
     "execution_count": 33,
     "metadata": {},
     "output_type": "execute_result"
    }
   ],
   "source": [
    "iris.columns"
   ]
  },
  {
   "cell_type": "code",
   "execution_count": 62,
   "metadata": {},
   "outputs": [],
   "source": [
    "def mean(a):\n",
    "    suma=sum(a.values)\n",
    "    count=len(a.values)\n",
    "    miu= (1/count)*suma\n",
    "    return miu"
   ]
  },
  {
   "cell_type": "code",
   "execution_count": 105,
   "metadata": {},
   "outputs": [],
   "source": [
    "def desv(m,a):\n",
    "    n= len(a.values)\n",
    "    suma=sum(m-a)**2\n",
    "    return math.sqrt((suma)*(1/len(a.values)))"
   ]
  },
  {
   "cell_type": "markdown",
   "metadata": {},
   "source": [
    "## Segundo punto"
   ]
  },
  {
   "cell_type": "code",
   "execution_count": 104,
   "metadata": {},
   "outputs": [],
   "source": [
    "media=[]\n",
    "for i in iris.columns:\n",
    "    \n",
    "    if i==4:\n",
    "        break\n",
    "    else:\n",
    "        media.append(round(mean(iris[i]),2))"
   ]
  },
  {
   "cell_type": "code",
   "execution_count": 103,
   "metadata": {},
   "outputs": [
    {
     "data": {
      "text/plain": [
       "Int64Index([0, 1, 2, 3, 4], dtype='int64')"
      ]
     },
     "execution_count": 103,
     "metadata": {},
     "output_type": "execute_result"
    }
   ],
   "source": [
    "iris.columns"
   ]
  },
  {
   "cell_type": "code",
   "execution_count": 108,
   "metadata": {},
   "outputs": [],
   "source": [
    "sigma=[]\n",
    "for i in iris.columns: \n",
    "    if i==4:\n",
    "        break\n",
    "    else:\n",
    "        sigma.append(round(desv(media[i],iris[i]),2))"
   ]
  },
  {
   "cell_type": "code",
   "execution_count": 109,
   "metadata": {},
   "outputs": [
    {
     "name": "stdout",
     "output_type": "stream",
     "text": [
      "[0.04, 0.05, 0.02, 0.02]\n"
     ]
    }
   ],
   "source": [
    "print(sigma)"
   ]
  },
  {
   "cell_type": "markdown",
   "metadata": {},
   "source": [
    "## Tercer punto "
   ]
  },
  {
   "cell_type": "code",
   "execution_count": null,
   "metadata": {},
   "outputs": [],
   "source": []
  }
 ],
 "metadata": {
  "kernelspec": {
   "display_name": "base",
   "language": "python",
   "name": "python3"
  },
  "language_info": {
   "codemirror_mode": {
    "name": "ipython",
    "version": 3
   },
   "file_extension": ".py",
   "mimetype": "text/x-python",
   "name": "python",
   "nbconvert_exporter": "python",
   "pygments_lexer": "ipython3",
   "version": "3.9.7"
  }
 },
 "nbformat": 4,
 "nbformat_minor": 2
}
